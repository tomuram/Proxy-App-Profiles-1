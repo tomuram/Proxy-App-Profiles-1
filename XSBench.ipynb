{
 "cells": [
  {
   "cell_type": "markdown",
   "metadata": {},
   "source": [
    "## XSBench  "
   ]
  },
  {
   "cell_type": "markdown",
   "metadata": {},
   "source": [
    "Compiler: `clang`  \n",
    "flags: `-std=gnu99 -g -pg -O3`  \n",
    "libs: `-lm`  \n",
    "run parameters: `-t 1` (Serial Run)  \n",
    "Haswell"
   ]
  },
  {
   "cell_type": "markdown",
   "metadata": {},
   "source": [
    "###### XSBench spent 72.6% of its time in loop at XSutils.c:59. \n",
    "```c\n",
    "\t// Begins binary search\t // Conditional Branch Misprediction Rate | CPUTIME\n",
    "|59|\twhile( max >= min )                       // 55.1% | 72.6%\n",
    "|60|\t{\n",
    "|61|\t\tmid = min + floor( (max-min) / 2.0);  // 53.5% |  9.8% | When Combined BR_CN and BR_MSP:\n",
    "|62|\t\tif( A[mid].energy < quarry )          //  0.2% | 46.9% |     (7.2% MSP Rate)\n",
    "|63|\t\t\tmin = mid+1;\n",
    "|64|        else if( A[mid].energy > quarry )     // 83.9% |  5.2%\n",
    "|65|\t\t\tmax = mid-1;\n",
    "|66|\t\telse\n",
    "|67|\t\t\treturn mid;\n",
    "        }\n",
    "```\n",
    "#### While Loop Conditional Branch Breakdown\n",
    "74.3% of the total branch instructions are from this loop. 1.13e+11 Instructions  \n",
    "Of the total instructions 46.2% are conditional branch instructions. 5.22e+10 Instructions  \n",
    "Of the conditional branch instructions 6.8% are mispredicted.  3.56e+9 Instructions\n"
   ]
  },
  {
   "cell_type": "markdown",
   "metadata": {},
   "source": [
    "#### While Loop Instruction Breakdown"
   ]
  },
  {
   "cell_type": "code",
   "execution_count": 5,
   "metadata": {},
   "outputs": [
    {
     "data": {
      "image/png": "[encoded data removed]",
      "text/plain": [
       "<matplotlib.figure.Figure at 0x108220978>"
      ]
     },
     "metadata": {},
     "output_type": "display_data"
    }
   ],
   "source": [
    "import matplotlib.pyplot as plt\n",
    "\n",
    "Arith_INS = 5.3 - 1.34 - .543 - 1.13\n",
    " \n",
    "# Data to plot\n",
    "labels = 'Load Instructions', 'Store Instructions', 'Branch Instructions', 'Arithmetic Instructions'\n",
    "sizes = [1.34, .543, 1.13, Arith_INS]\n",
    "colors = ['gold', 'yellowgreen', 'lightcoral', 'blue']\n",
    "explode = (0, 0, 0.1, 0)  # explode 1st slice\n",
    "\n",
    "plt.pie(sizes, explode=explode, labels=labels, colors=colors,\n",
    "        autopct='%1.1f%%', shadow=True, startangle=140)\n",
    " \n",
    "plt.title = \"While Loop\"\n",
    "plt.axis('equal')\n",
    "plt.show()"
   ]
  },
  {
   "cell_type": "markdown",
   "metadata": {},
   "source": [
    "  "
   ]
  },
  {
   "cell_type": "code",
   "execution_count": 8,
   "metadata": {
    "collapsed": true
   },
   "outputs": [],
   "source": [
    "import pandas as pd\n",
    "\n",
    "inst_df = pd.DataFrame.from_csv('/Users/brianhomerding/Documents/Profiles/XSBenchINST.csv')\n",
    "branch_df = pd.DataFrame.from_csv('/Users/brianhomerding/Documents/Profiles/XSBenchBRANCH.csv')"
   ]
  },
  {
   "cell_type": "code",
   "execution_count": 9,
   "metadata": {},
   "outputs": [
    {
     "data": {
      "text/html": [
       "<div>\n",
       "<style>\n",
       "    .dataframe thead tr:only-child th {\n",
       "        text-align: right;\n",
       "    }\n",
       "\n",
       "    .dataframe thead th {\n",
       "        text-align: left;\n",
       "    }\n",
       "\n",
       "    .dataframe tbody tr th {\n",
       "        vertical-align: top;\n",
       "    }\n",
       "</style>\n",
       "<table border=\"1\" class=\"dataframe\">\n",
       "  <thead>\n",
       "    <tr style=\"text-align: right;\">\n",
       "      <th></th>\n",
       "      <th>CPUTIME(E)</th>\n",
       "      <th>PAPI_TOT_CYCLE(E)</th>\n",
       "      <th>PAPI_TOT_INS(E)</th>\n",
       "      <th>PAPI_TOT_CYCLE(E).1</th>\n",
       "      <th>PAPI_LD_INS(E)</th>\n",
       "      <th>PAPI_TOT_CYCLE(E).2</th>\n",
       "      <th>PAPI_SR_INS(E)</th>\n",
       "      <th>PAPI_TOT_CYCLE(E).3</th>\n",
       "      <th>PAPI_BR_INS(E)</th>\n",
       "      <th>PAPI_TOT_CYCLE(E).4</th>\n",
       "    </tr>\n",
       "    <tr>\n",
       "      <th>Scope</th>\n",
       "      <th></th>\n",
       "      <th></th>\n",
       "      <th></th>\n",
       "      <th></th>\n",
       "      <th></th>\n",
       "      <th></th>\n",
       "      <th></th>\n",
       "      <th></th>\n",
       "      <th></th>\n",
       "      <th></th>\n",
       "    </tr>\n",
       "  </thead>\n",
       "  <tbody>\n",
       "    <tr>\n",
       "      <th>\"loop at XSutils.c: 59\"</th>\n",
       "      <td>2.93e+08 69.2%</td>\n",
       "      <td>6.68e+11 69.6%</td>\n",
       "      <td>5.30e+11 65.8%</td>\n",
       "      <td>5.53e+11 69.2%</td>\n",
       "      <td>1.34e+11 57.4%</td>\n",
       "      <td>1.50e+11 64.0%</td>\n",
       "      <td>5.43e+10 53.5%</td>\n",
       "      <td>6.01e+10 57.8%</td>\n",
       "      <td>1.13e+11 74.3%</td>\n",
       "      <td>1.15e+11 74.8%\\\\n</td>\n",
       "    </tr>\n",
       "    <tr>\n",
       "      <th>\"XSutils.c: 62\"</th>\n",
       "      <td>1.98e+08 46.9%</td>\n",
       "      <td>4.64e+11 48.4%</td>\n",
       "      <td>4.23e+11 52.5%</td>\n",
       "      <td>3.85e+11 48.2%</td>\n",
       "      <td>9.81e+10 42.0%</td>\n",
       "      <td>1.04e+11 44.4%</td>\n",
       "      <td>3.84e+10 37.8%</td>\n",
       "      <td>4.19e+10 40.3%</td>\n",
       "      <td>8.51e+10 56.1%</td>\n",
       "      <td>8.01e+10 52.1%\\\\n</td>\n",
       "    </tr>\n",
       "    <tr>\n",
       "      <th>\"XSutils.c: 61\"</th>\n",
       "      <td>4.14e+07  9.8%</td>\n",
       "      <td>9.68e+10 10.1%</td>\n",
       "      <td>5.25e+10  6.5%</td>\n",
       "      <td>7.98e+10 10.0%</td>\n",
       "      <td>1.67e+10  7.1%</td>\n",
       "      <td>2.20e+10  9.4%</td>\n",
       "      <td>8.82e+09  8.7%</td>\n",
       "      <td>8.62e+09  8.3%</td>\n",
       "      <td>1.30e+10  8.6%</td>\n",
       "      <td>1.65e+10 10.7%\\\\n</td>\n",
       "    </tr>\n",
       "    <tr>\n",
       "      <th>\"XSutils.c: 64\"</th>\n",
       "      <td>2.19e+07  5.2%</td>\n",
       "      <td>4.42e+10  4.6%</td>\n",
       "      <td>2.01e+10  2.5%</td>\n",
       "      <td>3.74e+10  4.7%</td>\n",
       "      <td>6.60e+09  2.8%</td>\n",
       "      <td>1.00e+10  4.3%</td>\n",
       "      <td>1.76e+09  1.7%</td>\n",
       "      <td>4.00e+09  3.8%</td>\n",
       "      <td>5.01e+09  3.\\n</td>\n",
       "      <td>NaN</td>\n",
       "    </tr>\n",
       "    <tr>\n",
       "      <th>\"loop at XSutils.c: 59\"</th>\n",
       "      <td>2.93e+08 69.2%</td>\n",
       "      <td>6.68e+11 69.6%</td>\n",
       "      <td>5.30e+11 65.8%</td>\n",
       "      <td>5.53e+11 69.2%</td>\n",
       "      <td>1.34e+11 57.4%</td>\n",
       "      <td>1.50e+11 64.0%</td>\n",
       "      <td>5.43e+10 53.5%</td>\n",
       "      <td>6.01e+10 57.8%</td>\n",
       "      <td>1.13e+11 74.3%</td>\n",
       "      <td>1.15e+11 74.8%\\n</td>\n",
       "    </tr>\n",
       "    <tr>\n",
       "      <th>\"XSutils.c: 62\"</th>\n",
       "      <td>1.98e+08 46.9%</td>\n",
       "      <td>4.64e+11 48.4%</td>\n",
       "      <td>4.23e+11 52.5%</td>\n",
       "      <td>3.85e+11 48.2%</td>\n",
       "      <td>9.81e+10 42.0%</td>\n",
       "      <td>1.04e+11 44.4%</td>\n",
       "      <td>3.84e+10 37.8%</td>\n",
       "      <td>4.19e+10 40.3%</td>\n",
       "      <td>8.51e+10 56.1%</td>\n",
       "      <td>8.01e+10 52.1%\\n</td>\n",
       "    </tr>\n",
       "    <tr>\n",
       "      <th>\"XSutils.c: 61\"</th>\n",
       "      <td>4.14e+07  9.8%</td>\n",
       "      <td>9.68e+10 10.1%</td>\n",
       "      <td>5.25e+10  6.5%</td>\n",
       "      <td>7.98e+10 10.0%</td>\n",
       "      <td>1.67e+10  7.1%</td>\n",
       "      <td>2.20e+10  9.4%</td>\n",
       "      <td>8.82e+09  8.7%</td>\n",
       "      <td>8.62e+09  8.3%</td>\n",
       "      <td>1.30e+10  8.6%</td>\n",
       "      <td>1.65e+10 10.7%\\n</td>\n",
       "    </tr>\n",
       "    <tr>\n",
       "      <th>\"XSutils.c: 64\"</th>\n",
       "      <td>2.19e+07  5.2%</td>\n",
       "      <td>4.42e+10  4.6%</td>\n",
       "      <td>2.01e+10  2.5%</td>\n",
       "      <td>3.74e+10  4.7%</td>\n",
       "      <td>6.60e+09  2.8%</td>\n",
       "      <td>1.00e+10  4.3%</td>\n",
       "      <td>1.76e+09  1.7%</td>\n",
       "      <td>4.00e+09  3.8%</td>\n",
       "      <td>5.01e+09  3.3%</td>\n",
       "      <td>7.74e+09  5.0%\\n</td>\n",
       "    </tr>\n",
       "    <tr>\n",
       "      <th>\\n</th>\n",
       "      <td>NaN</td>\n",
       "      <td>NaN</td>\n",
       "      <td>NaN</td>\n",
       "      <td>NaN</td>\n",
       "      <td>NaN</td>\n",
       "      <td>NaN</td>\n",
       "      <td>NaN</td>\n",
       "      <td>NaN</td>\n",
       "      <td>NaN</td>\n",
       "      <td>NaN</td>\n",
       "    </tr>\n",
       "  </tbody>\n",
       "</table>\n",
       "</div>"
      ],
      "text/plain": [
       "                               CPUTIME(E) PAPI_TOT_CYCLE(E)  PAPI_TOT_INS(E)  \\\n",
       "Scope                                                                          \n",
       "\"loop at XSutils.c: 59\"   2.93e+08 69.2%    6.68e+11 69.6%   5.30e+11 65.8%    \n",
       "\"XSutils.c: 62\"           1.98e+08 46.9%    4.64e+11 48.4%   4.23e+11 52.5%    \n",
       "\"XSutils.c: 61\"           4.14e+07  9.8%    9.68e+10 10.1%   5.25e+10  6.5%    \n",
       "\"XSutils.c: 64\"           2.19e+07  5.2%    4.42e+10  4.6%   2.01e+10  2.5%    \n",
       "\"loop at XSutils.c: 59\"   2.93e+08 69.2%    6.68e+11 69.6%   5.30e+11 65.8%    \n",
       "\"XSutils.c: 62\"           1.98e+08 46.9%    4.64e+11 48.4%   4.23e+11 52.5%    \n",
       "\"XSutils.c: 61\"           4.14e+07  9.8%    9.68e+10 10.1%   5.25e+10  6.5%    \n",
       "\"XSutils.c: 64\"           2.19e+07  5.2%    4.42e+10  4.6%   2.01e+10  2.5%    \n",
       "\\n                                    NaN               NaN              NaN   \n",
       "\n",
       "                         PAPI_TOT_CYCLE(E).1   PAPI_LD_INS(E)  \\\n",
       "Scope                                                           \n",
       "\"loop at XSutils.c: 59\"      5.53e+11 69.2%   1.34e+11 57.4%    \n",
       "\"XSutils.c: 62\"              3.85e+11 48.2%   9.81e+10 42.0%    \n",
       "\"XSutils.c: 61\"              7.98e+10 10.0%   1.67e+10  7.1%    \n",
       "\"XSutils.c: 64\"              3.74e+10  4.7%   6.60e+09  2.8%    \n",
       "\"loop at XSutils.c: 59\"      5.53e+11 69.2%   1.34e+11 57.4%    \n",
       "\"XSutils.c: 62\"              3.85e+11 48.2%   9.81e+10 42.0%    \n",
       "\"XSutils.c: 61\"              7.98e+10 10.0%   1.67e+10  7.1%    \n",
       "\"XSutils.c: 64\"              3.74e+10  4.7%   6.60e+09  2.8%    \n",
       "\\n                                       NaN              NaN   \n",
       "\n",
       "                         PAPI_TOT_CYCLE(E).2   PAPI_SR_INS(E)  \\\n",
       "Scope                                                           \n",
       "\"loop at XSutils.c: 59\"      1.50e+11 64.0%   5.43e+10 53.5%    \n",
       "\"XSutils.c: 62\"              1.04e+11 44.4%   3.84e+10 37.8%    \n",
       "\"XSutils.c: 61\"              2.20e+10  9.4%   8.82e+09  8.7%    \n",
       "\"XSutils.c: 64\"              1.00e+10  4.3%   1.76e+09  1.7%    \n",
       "\"loop at XSutils.c: 59\"      1.50e+11 64.0%   5.43e+10 53.5%    \n",
       "\"XSutils.c: 62\"              1.04e+11 44.4%   3.84e+10 37.8%    \n",
       "\"XSutils.c: 61\"              2.20e+10  9.4%   8.82e+09  8.7%    \n",
       "\"XSutils.c: 64\"              1.00e+10  4.3%   1.76e+09  1.7%    \n",
       "\\n                                       NaN              NaN   \n",
       "\n",
       "                         PAPI_TOT_CYCLE(E).3   PAPI_BR_INS(E)  \\\n",
       "Scope                                                           \n",
       "\"loop at XSutils.c: 59\"      6.01e+10 57.8%   1.13e+11 74.3%    \n",
       "\"XSutils.c: 62\"              4.19e+10 40.3%   8.51e+10 56.1%    \n",
       "\"XSutils.c: 61\"              8.62e+09  8.3%   1.30e+10  8.6%    \n",
       "\"XSutils.c: 64\"              4.00e+09  3.8%    5.01e+09  3.\\n   \n",
       "\"loop at XSutils.c: 59\"      6.01e+10 57.8%   1.13e+11 74.3%    \n",
       "\"XSutils.c: 62\"              4.19e+10 40.3%   8.51e+10 56.1%    \n",
       "\"XSutils.c: 61\"              8.62e+09  8.3%   1.30e+10  8.6%    \n",
       "\"XSutils.c: 64\"              4.00e+09  3.8%   5.01e+09  3.3%    \n",
       "\\n                                       NaN              NaN   \n",
       "\n",
       "                         PAPI_TOT_CYCLE(E).4  \n",
       "Scope                                         \n",
       "\"loop at XSutils.c: 59\"    1.15e+11 74.8%\\\\n  \n",
       "\"XSutils.c: 62\"            8.01e+10 52.1%\\\\n  \n",
       "\"XSutils.c: 61\"            1.65e+10 10.7%\\\\n  \n",
       "\"XSutils.c: 64\"                          NaN  \n",
       "\"loop at XSutils.c: 59\"     1.15e+11 74.8%\\n  \n",
       "\"XSutils.c: 62\"             8.01e+10 52.1%\\n  \n",
       "\"XSutils.c: 61\"             1.65e+10 10.7%\\n  \n",
       "\"XSutils.c: 64\"             7.74e+09  5.0%\\n  \n",
       "\\n                                       NaN  "
      ]
     },
     "execution_count": 9,
     "metadata": {},
     "output_type": "execute_result"
    }
   ],
   "source": [
    "inst_df"
   ]
  },
  {
   "cell_type": "code",
   "execution_count": 10,
   "metadata": {},
   "outputs": [
    {
     "data": {
      "text/html": [
       "<div>\n",
       "<style>\n",
       "    .dataframe thead tr:only-child th {\n",
       "        text-align: right;\n",
       "    }\n",
       "\n",
       "    .dataframe thead th {\n",
       "        text-align: left;\n",
       "    }\n",
       "\n",
       "    .dataframe tbody tr th {\n",
       "        vertical-align: top;\n",
       "    }\n",
       "</style>\n",
       "<table border=\"1\" class=\"dataframe\">\n",
       "  <thead>\n",
       "    <tr style=\"text-align: right;\">\n",
       "      <th></th>\n",
       "      <th>CPUTIME(E)</th>\n",
       "      <th>PAPI_TOT_CYCLE(E)</th>\n",
       "      <th>PAPI_BR_UNC</th>\n",
       "      <th>PAPI_TOT_CYCLE(E).1</th>\n",
       "      <th>PAPI_BR_CN</th>\n",
       "      <th>PAPI_TOT_CYCLE(E).2</th>\n",
       "      <th>PAPI_BR_MSP</th>\n",
       "      <th>PAPI_TOT_CYCLE(E).3</th>\n",
       "      <th>PAPI_BR_PRC</th>\n",
       "      <th>PAPI_TOT_CYCLE(E).4</th>\n",
       "      <th>PAPI_BR_INS</th>\n",
       "      <th>PAPI_TOT_CYCLE(E).5</th>\n",
       "    </tr>\n",
       "    <tr>\n",
       "      <th>Scope</th>\n",
       "      <th></th>\n",
       "      <th></th>\n",
       "      <th></th>\n",
       "      <th></th>\n",
       "      <th></th>\n",
       "      <th></th>\n",
       "      <th></th>\n",
       "      <th></th>\n",
       "      <th></th>\n",
       "      <th></th>\n",
       "      <th></th>\n",
       "      <th></th>\n",
       "    </tr>\n",
       "  </thead>\n",
       "  <tbody>\n",
       "    <tr>\n",
       "      <th>\"loop at XSutils.c: 59\"</th>\n",
       "      <td>2.93e+08 69.2%</td>\n",
       "      <td>6.68e+11 69.6%</td>\n",
       "      <td>6.18e+10 75.3%</td>\n",
       "      <td>1.72e+09 55.0%</td>\n",
       "      <td>5.11e+10 73.7%</td>\n",
       "      <td>5.39e+10 74.6%</td>\n",
       "      <td>3.54e+09 78.7%</td>\n",
       "      <td>5.54e+09 72.3%</td>\n",
       "      <td>4.90e+10 75.5%</td>\n",
       "      <td>1.79e+09 56.4%</td>\n",
       "      <td>1.13e+11 74.3%</td>\n",
       "      <td>1.15e+11 74.8%\\n</td>\n",
       "    </tr>\n",
       "    <tr>\n",
       "      <th>\"XSutils.c: 0\"</th>\n",
       "      <td>1.35e+07  3.2%</td>\n",
       "      <td>2.59e+10  2.7%</td>\n",
       "      <td>2.30e+09  2.8%</td>\n",
       "      <td>6.80e+07  2.2%</td>\n",
       "      <td>8.92e+08  1.3%</td>\n",
       "      <td>2.18e+09  3.0%</td>\n",
       "      <td>4.00e+06  0.1%</td>\n",
       "      <td>2.14e+08  2.8%</td>\n",
       "      <td>2.18e+09  3.4%</td>\n",
       "      <td>7.40e+07  2.3%</td>\n",
       "      <td>3.33e+09  2.2%</td>\n",
       "      <td>4.50e+09  2.9%\\n</td>\n",
       "    </tr>\n",
       "    <tr>\n",
       "      <th>\"XSutils.c: 59\"</th>\n",
       "      <td>2.20e+06  0.5%</td>\n",
       "      <td>4.70e+09  0.5%</td>\n",
       "      <td>1.79e+08  0.2%</td>\n",
       "      <td>6.00e+06  0.2%</td>\n",
       "      <td>3.70e+08  0.5%</td>\n",
       "      <td>3.80e+08  0.5%</td>\n",
       "      <td>2.04e+08  4.5%</td>\n",
       "      <td>4.80e+07  0.6%</td>\n",
       "      <td>4.53e+08  0.7%</td>\n",
       "      <td>1.60e+07  0.5%</td>\n",
       "      <td>1.19e+09  0.8%</td>\n",
       "      <td>7.24e+08  0.5%\\n</td>\n",
       "    </tr>\n",
       "    <tr>\n",
       "      <th>\"XSutils.c: 61\"</th>\n",
       "      <td>4.14e+07  9.8%</td>\n",
       "      <td>9.68e+10 10.1%</td>\n",
       "      <td>9.60e+09 11.7%</td>\n",
       "      <td>2.72e+08  8.7%</td>\n",
       "      <td>6.08e+09  8.8%</td>\n",
       "      <td>7.64e+09 10.6%</td>\n",
       "      <td>3.25e+09 72.3%</td>\n",
       "      <td>7.58e+08  9.9%</td>\n",
       "      <td>7.73e+09 11.9%</td>\n",
       "      <td>2.88e+08  9.1%</td>\n",
       "      <td>1.30e+10  8.6%</td>\n",
       "      <td>1.65e+10 10.7%\\n</td>\n",
       "    </tr>\n",
       "    <tr>\n",
       "      <th>\"XSutils.c: 62\"</th>\n",
       "      <td>1.98e+08 46.9%</td>\n",
       "      <td>4.64e+11 48.4%</td>\n",
       "      <td>4.22e+10 51.4%</td>\n",
       "      <td>1.17e+09 37.4%</td>\n",
       "      <td>4.01e+10 57.8%</td>\n",
       "      <td>3.77e+10 52.1%</td>\n",
       "      <td>7.60e+07  1.7%</td>\n",
       "      <td>3.87e+09 50.5%</td>\n",
       "      <td>3.33e+10 51.3%</td>\n",
       "      <td>1.21e+09 38.2%</td>\n",
       "      <td>8.51e+10 56.1%</td>\n",
       "      <td>8.01e+10 52.1%\\n</td>\n",
       "    </tr>\n",
       "    <tr>\n",
       "      <th>\"XSutils.c: 63\"</th>\n",
       "      <td>1.24e+07  2.9%</td>\n",
       "      <td>2.31e+10  2.4%</td>\n",
       "      <td>1.83e+09  2.2%</td>\n",
       "      <td>5.20e+07  1.7%</td>\n",
       "      <td>1.27e+09  1.8%</td>\n",
       "      <td>1.77e+09  2.4%</td>\n",
       "      <td>4.00e+06  0.1%</td>\n",
       "      <td>2.06e+08  2.7%</td>\n",
       "      <td>1.53e+09  2.3%</td>\n",
       "      <td>5.80e+07  1.8%</td>\n",
       "      <td>3.42e+09  2.3%</td>\n",
       "      <td>3.97e+09  2.6%\\n</td>\n",
       "    </tr>\n",
       "    <tr>\n",
       "      <th>\"XSutils.c: 64\"</th>\n",
       "      <td>2.19e+07  5.2%</td>\n",
       "      <td>4.42e+10  4.6%</td>\n",
       "      <td>5.13e+09  6.3%</td>\n",
       "      <td>1.34e+08  4.3%</td>\n",
       "      <td>1.91e+09  2.7%</td>\n",
       "      <td>3.54e+09  4.9%</td>\n",
       "      <td></td>\n",
       "      <td>3.80e+08  5.0%</td>\n",
       "      <td>3.08e+09  4.7%</td>\n",
       "      <td>1.16e+08  3.6%</td>\n",
       "      <td>5.01e+09  3.3%</td>\n",
       "      <td>7.74e+09  5.0%\\n</td>\n",
       "    </tr>\n",
       "    <tr>\n",
       "      <th>\"XSutils.c: 65\"</th>\n",
       "      <td>3.33e+06  0.8%</td>\n",
       "      <td>9.06e+09  0.9%</td>\n",
       "      <td>5.80e+08  0.7%</td>\n",
       "      <td>1.60e+07  0.5%</td>\n",
       "      <td>4.68e+08  0.7%</td>\n",
       "      <td>7.02e+08  1.0%</td>\n",
       "      <td></td>\n",
       "      <td>6.40e+07  0.8%</td>\n",
       "      <td>7.51e+08  1.2%</td>\n",
       "      <td>2.80e+07  0.9%</td>\n",
       "      <td>1.64e+09  1.1%</td>\n",
       "      <td>1.53e+09  1.0%\\n</td>\n",
       "    </tr>\n",
       "    <tr>\n",
       "      <th>\\n</th>\n",
       "      <td>NaN</td>\n",
       "      <td>NaN</td>\n",
       "      <td>NaN</td>\n",
       "      <td>NaN</td>\n",
       "      <td>NaN</td>\n",
       "      <td>NaN</td>\n",
       "      <td>NaN</td>\n",
       "      <td>NaN</td>\n",
       "      <td>NaN</td>\n",
       "      <td>NaN</td>\n",
       "      <td>NaN</td>\n",
       "      <td>NaN</td>\n",
       "    </tr>\n",
       "  </tbody>\n",
       "</table>\n",
       "</div>"
      ],
      "text/plain": [
       "                               CPUTIME(E) PAPI_TOT_CYCLE(E)      PAPI_BR_UNC  \\\n",
       "Scope                                                                          \n",
       "\"loop at XSutils.c: 59\"   2.93e+08 69.2%    6.68e+11 69.6%   6.18e+10 75.3%    \n",
       "\"XSutils.c: 0\"            1.35e+07  3.2%    2.59e+10  2.7%   2.30e+09  2.8%    \n",
       "\"XSutils.c: 59\"           2.20e+06  0.5%    4.70e+09  0.5%   1.79e+08  0.2%    \n",
       "\"XSutils.c: 61\"           4.14e+07  9.8%    9.68e+10 10.1%   9.60e+09 11.7%    \n",
       "\"XSutils.c: 62\"           1.98e+08 46.9%    4.64e+11 48.4%   4.22e+10 51.4%    \n",
       "\"XSutils.c: 63\"           1.24e+07  2.9%    2.31e+10  2.4%   1.83e+09  2.2%    \n",
       "\"XSutils.c: 64\"           2.19e+07  5.2%    4.42e+10  4.6%   5.13e+09  6.3%    \n",
       "\"XSutils.c: 65\"           3.33e+06  0.8%    9.06e+09  0.9%   5.80e+08  0.7%    \n",
       "\\n                                    NaN               NaN              NaN   \n",
       "\n",
       "                         PAPI_TOT_CYCLE(E).1       PAPI_BR_CN  \\\n",
       "Scope                                                           \n",
       "\"loop at XSutils.c: 59\"      1.72e+09 55.0%   5.11e+10 73.7%    \n",
       "\"XSutils.c: 0\"               6.80e+07  2.2%   8.92e+08  1.3%    \n",
       "\"XSutils.c: 59\"              6.00e+06  0.2%   3.70e+08  0.5%    \n",
       "\"XSutils.c: 61\"              2.72e+08  8.7%   6.08e+09  8.8%    \n",
       "\"XSutils.c: 62\"              1.17e+09 37.4%   4.01e+10 57.8%    \n",
       "\"XSutils.c: 63\"              5.20e+07  1.7%   1.27e+09  1.8%    \n",
       "\"XSutils.c: 64\"              1.34e+08  4.3%   1.91e+09  2.7%    \n",
       "\"XSutils.c: 65\"              1.60e+07  0.5%   4.68e+08  0.7%    \n",
       "\\n                                       NaN              NaN   \n",
       "\n",
       "                         PAPI_TOT_CYCLE(E).2      PAPI_BR_MSP  \\\n",
       "Scope                                                           \n",
       "\"loop at XSutils.c: 59\"      5.39e+10 74.6%   3.54e+09 78.7%    \n",
       "\"XSutils.c: 0\"               2.18e+09  3.0%   4.00e+06  0.1%    \n",
       "\"XSutils.c: 59\"              3.80e+08  0.5%   2.04e+08  4.5%    \n",
       "\"XSutils.c: 61\"              7.64e+09 10.6%   3.25e+09 72.3%    \n",
       "\"XSutils.c: 62\"              3.77e+10 52.1%   7.60e+07  1.7%    \n",
       "\"XSutils.c: 63\"              1.77e+09  2.4%   4.00e+06  0.1%    \n",
       "\"XSutils.c: 64\"              3.54e+09  4.9%                     \n",
       "\"XSutils.c: 65\"              7.02e+08  1.0%                     \n",
       "\\n                                       NaN              NaN   \n",
       "\n",
       "                         PAPI_TOT_CYCLE(E).3      PAPI_BR_PRC  \\\n",
       "Scope                                                           \n",
       "\"loop at XSutils.c: 59\"      5.54e+09 72.3%   4.90e+10 75.5%    \n",
       "\"XSutils.c: 0\"               2.14e+08  2.8%   2.18e+09  3.4%    \n",
       "\"XSutils.c: 59\"              4.80e+07  0.6%   4.53e+08  0.7%    \n",
       "\"XSutils.c: 61\"              7.58e+08  9.9%   7.73e+09 11.9%    \n",
       "\"XSutils.c: 62\"              3.87e+09 50.5%   3.33e+10 51.3%    \n",
       "\"XSutils.c: 63\"              2.06e+08  2.7%   1.53e+09  2.3%    \n",
       "\"XSutils.c: 64\"              3.80e+08  5.0%   3.08e+09  4.7%    \n",
       "\"XSutils.c: 65\"              6.40e+07  0.8%   7.51e+08  1.2%    \n",
       "\\n                                       NaN              NaN   \n",
       "\n",
       "                         PAPI_TOT_CYCLE(E).4      PAPI_BR_INS  \\\n",
       "Scope                                                           \n",
       "\"loop at XSutils.c: 59\"      1.79e+09 56.4%   1.13e+11 74.3%    \n",
       "\"XSutils.c: 0\"               7.40e+07  2.3%   3.33e+09  2.2%    \n",
       "\"XSutils.c: 59\"              1.60e+07  0.5%   1.19e+09  0.8%    \n",
       "\"XSutils.c: 61\"              2.88e+08  9.1%   1.30e+10  8.6%    \n",
       "\"XSutils.c: 62\"              1.21e+09 38.2%   8.51e+10 56.1%    \n",
       "\"XSutils.c: 63\"              5.80e+07  1.8%   3.42e+09  2.3%    \n",
       "\"XSutils.c: 64\"              1.16e+08  3.6%   5.01e+09  3.3%    \n",
       "\"XSutils.c: 65\"              2.80e+07  0.9%   1.64e+09  1.1%    \n",
       "\\n                                       NaN              NaN   \n",
       "\n",
       "                         PAPI_TOT_CYCLE(E).5  \n",
       "Scope                                         \n",
       "\"loop at XSutils.c: 59\"     1.15e+11 74.8%\\n  \n",
       "\"XSutils.c: 0\"              4.50e+09  2.9%\\n  \n",
       "\"XSutils.c: 59\"             7.24e+08  0.5%\\n  \n",
       "\"XSutils.c: 61\"             1.65e+10 10.7%\\n  \n",
       "\"XSutils.c: 62\"             8.01e+10 52.1%\\n  \n",
       "\"XSutils.c: 63\"             3.97e+09  2.6%\\n  \n",
       "\"XSutils.c: 64\"             7.74e+09  5.0%\\n  \n",
       "\"XSutils.c: 65\"             1.53e+09  1.0%\\n  \n",
       "\\n                                       NaN  "
      ]
     },
     "execution_count": 10,
     "metadata": {},
     "output_type": "execute_result"
    }
   ],
   "source": [
    "branch_df"
   ]
  },
  {
   "cell_type": "markdown",
   "metadata": {},
   "source": [
    "  "
   ]
  },
  {
   "cell_type": "markdown",
   "metadata": {},
   "source": [
    "  "
   ]
  },
  {
   "cell_type": "markdown",
   "metadata": {
    "collapsed": true
   },
   "source": [
    "---"
   ]
  },
  {
   "cell_type": "markdown",
   "metadata": {},
   "source": [
    "  "
   ]
  },
  {
   "cell_type": "markdown",
   "metadata": {},
   "source": [
    "---\n"
   ]
  },
  {
   "cell_type": "markdown",
   "metadata": {},
   "source": [
    "  "
   ]
  },
  {
   "cell_type": "markdown",
   "metadata": {
    "collapsed": true
   },
   "source": [
    "    "
   ]
  },
  {
   "cell_type": "markdown",
   "metadata": {
    "collapsed": true
   },
   "source": [
    "---"
   ]
  },
  {
   "cell_type": "markdown",
   "metadata": {},
   "source": [
    "  "
   ]
  },
  {
   "cell_type": "markdown",
   "metadata": {},
   "source": [
    "\n",
    "\n",
    "\n",
    "\n",
    "\n"
   ]
  },
  {
   "cell_type": "code",
   "execution_count": null,
   "metadata": {
    "collapsed": true
   },
   "outputs": [],
   "source": []
  },
  {
   "cell_type": "code",
   "execution_count": null,
   "metadata": {
    "collapsed": true
   },
   "outputs": [],
   "source": []
  },
  {
   "cell_type": "markdown",
   "metadata": {
    "collapsed": true
   },
   "source": [
    "---"
   ]
  },
  {
   "cell_type": "markdown",
   "metadata": {
    "collapsed": true
   },
   "source": [
    "## XSBench Top Down Microprocessor Analysis Method"
   ]
  },
  {
   "cell_type": "markdown",
   "metadata": {
    "collapsed": true
   },
   "source": [
    "### `binary_search`:  \n",
    "`PAPI_TOT_CYC = 7.50e+11`  \n",
    "`PAPI_FUL_ICY = 2.44e+11`  \n",
    "`PAPI_FUL_CCY = 1.94e+11`  \n",
    "`PAPI_RES_STL = 4.76e+11`"
   ]
  },
  {
   "cell_type": "markdown",
   "metadata": {
    "collapsed": true
   },
   "source": [
    "32.5% Cycles Issuing Max in binary_search.  \n",
    "89.5% Full Issue being Full Completed.  \n",
    "63.5% Cycles Stalled on Any Resource.  "
   ]
  },
  {
   "cell_type": "code",
   "execution_count": 1,
   "metadata": {},
   "outputs": [
    {
     "data": {
      "text/plain": [
       "0.3253333333333333"
      ]
     },
     "execution_count": 1,
     "metadata": {},
     "output_type": "execute_result"
    }
   ],
   "source": [
    "2.44 / 7.5"
   ]
  },
  {
   "cell_type": "code",
   "execution_count": 2,
   "metadata": {},
   "outputs": [
    {
     "data": {
      "text/plain": [
       "0.7950819672131147"
      ]
     },
     "execution_count": 2,
     "metadata": {},
     "output_type": "execute_result"
    }
   ],
   "source": [
    "1.94/2.44\n"
   ]
  },
  {
   "cell_type": "code",
   "execution_count": 3,
   "metadata": {},
   "outputs": [
    {
     "data": {
      "text/plain": [
       "0.6346666666666666"
      ]
     },
     "execution_count": 3,
     "metadata": {},
     "output_type": "execute_result"
    }
   ],
   "source": [
    "4.76 / 7.5"
   ]
  },
  {
   "cell_type": "markdown",
   "metadata": {},
   "source": [
    "### `Program Aggregate`:  \n",
    "`PAPI_TOT_CYC = 9.34e+11`  \n",
    "`PAPI_FUL_ICY = 2.89e+11`  \n",
    "`PAPI_FUL_CCY = 2.19e+11`  \n",
    "`PAPI_RES_STL = 6.08e+11`"
   ]
  },
  {
   "cell_type": "markdown",
   "metadata": {},
   "source": [
    "30.9% Cycles Issuing Max in binary_search.  \n",
    "75.8% Full Issue being Full Completed.  \n",
    "65.1% Cycles Stalled on Any Resource.  "
   ]
  },
  {
   "cell_type": "code",
   "execution_count": 4,
   "metadata": {},
   "outputs": [
    {
     "data": {
      "text/plain": [
       "0.3094218415417559"
      ]
     },
     "execution_count": 4,
     "metadata": {},
     "output_type": "execute_result"
    }
   ],
   "source": [
    "2.89 / 9.34"
   ]
  },
  {
   "cell_type": "code",
   "execution_count": 5,
   "metadata": {},
   "outputs": [
    {
     "data": {
      "text/plain": [
       "0.7577854671280276"
      ]
     },
     "execution_count": 5,
     "metadata": {},
     "output_type": "execute_result"
    }
   ],
   "source": [
    "2.19 / 2.89"
   ]
  },
  {
   "cell_type": "code",
   "execution_count": 6,
   "metadata": {},
   "outputs": [
    {
     "data": {
      "text/plain": [
       "0.6509635974304069"
      ]
     },
     "execution_count": 6,
     "metadata": {},
     "output_type": "execute_result"
    }
   ],
   "source": [
    "6.08 / 9.34"
   ]
  },
  {
   "cell_type": "code",
   "execution_count": null,
   "metadata": {
    "collapsed": true
   },
   "outputs": [],
   "source": []
  }
 ],
 "metadata": {
  "kernelspec": {
   "display_name": "Python 3",
   "language": "python",
   "name": "python3"
  },
  "language_info": {
   "codemirror_mode": {
    "name": "ipython",
    "version": 3
   },
   "file_extension": ".py",
   "mimetype": "text/x-python",
   "name": "python",
   "nbconvert_exporter": "python",
   "pygments_lexer": "ipython3",
   "version": "3.6.2"
  }
 },
 "nbformat": 4,
 "nbformat_minor": 2
}
