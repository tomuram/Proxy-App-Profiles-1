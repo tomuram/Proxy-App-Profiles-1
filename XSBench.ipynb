{
 "cells": [
  {
   "cell_type": "markdown",
   "metadata": {},
   "source": [
    "## XSBench  "
   ]
  },
  {
   "cell_type": "markdown",
   "metadata": {},
   "source": [
    "Compiler: `clang`  \n",
    "flags: `-std=gnu99 -g -pg -O3`  \n",
    "libs: `-lm`  \n",
    "run parameters: `-t 1` (Serial Run)  \n",
    "On Intel(R) Xeon(R) CPU E5-2699 v4 @ 2.20GHz (Broadwell)"
   ]
  },
  {
   "cell_type": "markdown",
   "metadata": {},
   "source": [
    "XSBench spent 80.2% of its time in loop at XSutils.c:59. \n",
    "```c\n",
    "\t// Begins binary search\t             // Conditional Branch Misprediction Rate\n",
    "\twhile( max >= min )                       // 63.06%              \n",
    "\t{\n",
    "\t\tmid = min + floor( (max-min) / 2.0);  // 44.76%. Should be next line?\n",
    "\t\tif( A[mid].energy < quarry )          // 0.37%.  ??\n",
    "\t\t\tmin = mid+1;\n",
    "        else if( A[mid].energy > quarry )     // 89.06%\n",
    "\t\t\tmax = mid-1;\n",
    "\t\telse\n",
    "\t\t\treturn mid;\n",
    "\t}\n",
    "```\n",
    "#### While Loop Conditional Branch Breakdown\n",
    "91.9% of the total branch instructions are from this loop. 1.38e+11 Instructions  \n",
    "Of these instructions 27.7% are conditional branch instructions. 3.83e+10 Instructions  \n",
    "Of the conditional branch instructions 24.7% are mispredicted.  5.62e+9 Instructions\n"
   ]
  },
  {
   "cell_type": "markdown",
   "metadata": {},
   "source": [
    "#### While Loop Instruction Breakdown"
   ]
  },
  {
   "cell_type": "code",
   "execution_count": 15,
   "metadata": {},
   "outputs": [
    {
     "data": {
      "image/png": "[encoded data removed]",
      "text/plain": [
       "<matplotlib.figure.Figure at 0x10e0374a8>"
      ]
     },
     "metadata": {},
     "output_type": "display_data"
    }
   ],
   "source": [
    "import matplotlib.pyplot as plt\n",
    " \n",
    "# Data to plot\n",
    "labels = 'Load Instructions', 'Store Instructions', 'Branch Instructions'\n",
    "sizes = [1.16, .194, .590]\n",
    "colors = ['gold', 'yellowgreen', 'lightcoral']\n",
    "explode = (0.1, 0, 0)  # explode 1st slice\n",
    "\n",
    "plt.title = \"While Loop\"\n",
    "plt.pie(sizes, explode=explode, labels=labels, colors=colors,\n",
    "        autopct='%1.1f%%', shadow=True, startangle=140)\n",
    " \n",
    "plt.axis('equal')\n",
    "plt.show()"
   ]
  },
  {
   "cell_type": "markdown",
   "metadata": {},
   "source": [
    "  "
   ]
  },
  {
   "cell_type": "markdown",
   "metadata": {},
   "source": []
  },
  {
   "cell_type": "markdown",
   "metadata": {},
   "source": []
  },
  {
   "cell_type": "markdown",
   "metadata": {
    "collapsed": true
   },
   "source": [
    "---"
   ]
  },
  {
   "cell_type": "markdown",
   "metadata": {},
   "source": [
    "### Aggregate Branch Instructions.  \n",
    "Total Branch Instructions: 1.51e+11.  \n",
    "Conditional Branch Instructions: 4.51e+10. \n",
    "29.7% of Branch Instructions are Conditional.  \n",
    "Of the 4.51e+10 Conditional Branch Instructions, 3.44e+10 are Not Taken.  \n",
    "76% of Conditional Branch Instructions are Not Taken (22.8% of Total Branch Instructions are Not Taken).  \n",
    "Of the 4.51e+10 Conditional Branch Instructions, 6.68e+09 are Mispredicted.  \n",
    "14.8% of Conditional Branch Instructions are Mispredicted (1.5% of Total Branch Instructions are Mispredicted).  "
   ]
  },
  {
   "cell_type": "markdown",
   "metadata": {},
   "source": [
    "---\n"
   ]
  },
  {
   "cell_type": "markdown",
   "metadata": {},
   "source": [
    "### Instruction Run  \n",
    "1.38e+11 Load Instructions.  \n",
    "2.22e+10 Store Instructions.  \n",
    "6.50e+10 Branch Instructions.\n",
    "\n",
    "1.40e+11 Instructions Completed."
   ]
  },
  {
   "cell_type": "markdown",
   "metadata": {
    "collapsed": true
   },
   "source": [
    "  "
   ]
  },
  {
   "cell_type": "code",
   "execution_count": null,
   "metadata": {
    "collapsed": true
   },
   "outputs": [],
   "source": []
  }
 ],
 "metadata": {
  "kernelspec": {
   "display_name": "Python 3",
   "language": "python",
   "name": "python3"
  },
  "language_info": {
   "codemirror_mode": {
    "name": "ipython",
    "version": 3
   },
   "file_extension": ".py",
   "mimetype": "text/x-python",
   "name": "python",
   "nbconvert_exporter": "python",
   "pygments_lexer": "ipython3",
   "version": "3.6.2"
  }
 },
 "nbformat": 4,
 "nbformat_minor": 2
}
