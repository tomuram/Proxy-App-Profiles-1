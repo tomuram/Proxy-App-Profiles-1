{
 "cells": [
  {
   "cell_type": "markdown",
   "metadata": {},
   "source": [
    "## RSBench"
   ]
  },
  {
   "cell_type": "markdown",
   "metadata": {},
   "source": [
    "Compiler: gcc 4.8.5  \n",
    "Flags: `-std=gnu99 -fopenmp -ffast-math -g -Ofast -DSTATUS`  \n",
    "Libs: `-lm`   \n",
    "On Intel(R) Xeon(R) CPU E5-2699 v4 @ 2.20GHz (Broadwell)\n",
    "\n"
   ]
  },
  {
   "cell_type": "markdown",
   "metadata": {},
   "source": [
    "---"
   ]
  },
  {
   "cell_type": "markdown",
   "metadata": {},
   "source": [
    "### CPU Time\n",
    "`rsbench.gnu` -t 1 (serial mode)  \n",
    "  \n",
    "Inclusively RSBench spends 97.8% of its time in `xs_kernel.c`.   \n",
    "Exclusively only 47.1% of total time is spent in `xs_kernel.c`.   \n",
    "The other time is spent in the math library. libm-2.17.so  \n",
    "  \n"
   ]
  },
  {
   "cell_type": "markdown",
   "metadata": {},
   "source": [
    "|xs_kernel.c|CPU Inclusive|CPU Exclusive|\n",
    "|:----------|:-----------:|:-----------:|\n",
    "|calculate_micro_xs_doppler|96.3%|27.2%|\n",
    "|---> loop at line 181|39.4%|22.5%|\n",
    "|calculate_sig_T|52.2%|2.9%|\n",
    "|fast_nuclear_W|16.9%|15.5%|\n",
    "|---> line 72|11.1%|11.1%|"
   ]
  },
  {
   "cell_type": "markdown",
   "metadata": {},
   "source": [
    "#### Loop at line 181 (22.5% Exclusive CPU Time)\n",
    "```c\n",
    "\t// Loop over Poles within window, add contributions\n",
    "\tfor( int i = w.start; i < w.end; i++ )\n",
    "\t{\n",
    "\t\tPole pole = data.poles[nuc][i];\n",
    "\n",
    "\t\t// Prep Z\n",
    "\t\tdouble complex Z = (E - pole.MP_EA) * dopp;\n",
    "\t\tif( cabs(Z) < 6.0 )\n",
    "\t\t\t(*abrarov)++;\n",
    "\t\t(*alls)++;\n",
    "\n",
    "\t\t// Evaluate Fadeeva Function\n",
    "\t\tcomplex double faddeeva = fast_nuclear_W( Z );\n",
    "\n",
    "\t\t// Update W\n",
    "\t\tsigT += creal( pole.MP_RT * faddeeva * sigTfactors[pole.l_value] );\n",
    "\t\tsigA += creal( pole.MP_RA * faddeeva);\n",
    "\t\tsigF += creal( pole.MP_RF * faddeeva);\n",
    "\t}\n",
    "```"
   ]
  },
  {
   "cell_type": "markdown",
   "metadata": {},
   "source": [
    "#### calculate_sig_T (Where most of the libm time comes from 49.7% Total CPU Time)\n",
    "```c\n",
    "void calculate_sig_T( int nuc, double E, Input input, CalcDataPtrs data, complex double * sigTfactors )\n",
    "{\n",
    "\tdouble phi;\n",
    "\n",
    "\tfor( int i = 0; i < input.numL; i++ )\n",
    "\t{\n",
    "\t\tphi = data.pseudo_K0RS[nuc][i] * sqrt(E);\n",
    "\n",
    "\t\tif( i == 1 )\n",
    "\t\t\tphi -= - atan( phi );\n",
    "\t\telse if( i == 2 )\n",
    "\t\t\tphi -= atan( 3.0 * phi / (3.0 - phi*phi));\n",
    "\t\telse if( i == 3 )\n",
    "\t\t\tphi -= atan(phi*(15.0-phi*phi)/(15.0-6.0*phi*phi));\n",
    "\n",
    "\t\tphi *= 2.0;\n",
    "\n",
    "\t\tsigTfactors[i] = cos(phi) - sin(phi) * _Complex_I;\n",
    "\t}\n",
    "}\n",
    "```"
   ]
  },
  {
   "cell_type": "markdown",
   "metadata": {},
   "source": [
    "#### fast_nuclear_W\n",
    "\"This function uses a combination of the Abrarov Approximation\n",
    "and the QUICK_W three term asymptotic expansion.\n",
    "Only expected to use Abrarov ~0.5% of the time.\"\n",
    "  \n",
    "Function defines several hard coded values and spends most time on line 72 (11.1% CPU Time):\n",
    "```c\n",
    "double complex W = I * Z * (a/(Z*Z - b) + c/(Z*Z - d));\n",
    "```"
   ]
  },
  {
   "cell_type": "markdown",
   "metadata": {},
   "source": [
    "---"
   ]
  },
  {
   "cell_type": "markdown",
   "metadata": {},
   "source": [
    "### L1 Data Cache Hit Rate\n",
    "|L1 Data Cache Hit Rate|%|\n",
    "|:----|:---:|\n",
    "|calculate_micro_xs_doppler|41%|\n",
    "|calculate_sig_T|84%|\n",
    "|fast_nuclear_W|42%|"
   ]
  },
  {
   "cell_type": "code",
   "execution_count": null,
   "metadata": {
    "collapsed": true
   },
   "outputs": [],
   "source": []
  }
 ],
 "metadata": {
  "kernelspec": {
   "display_name": "Python 3",
   "language": "python",
   "name": "python3"
  },
  "language_info": {
   "codemirror_mode": {
    "name": "ipython",
    "version": 3
   },
   "file_extension": ".py",
   "mimetype": "text/x-python",
   "name": "python",
   "nbconvert_exporter": "python",
   "pygments_lexer": "ipython3",
   "version": "3.6.2"
  }
 },
 "nbformat": 4,
 "nbformat_minor": 2
}
