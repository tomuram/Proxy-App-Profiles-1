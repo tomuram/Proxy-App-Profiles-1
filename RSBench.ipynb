{
 "cells": [
  {
   "cell_type": "markdown",
   "metadata": {},
   "source": [
    "## RSBench"
   ]
  },
  {
   "cell_type": "markdown",
   "metadata": {},
   "source": [
    "Compiler: gcc 7.2.0  \n",
    "Flags: `-std=gnu99 -fopenmp -ffast-math -march=native -g -Ofast -DSTATUS`  \n",
    "Libs: `-lm`   \n",
    "Run Options: `-t 1` //(serial run)\n"
   ]
  },
  {
   "cell_type": "markdown",
   "metadata": {},
   "source": [
    "### Serial Run\n",
    "(Haswell) Intel(R) Xeon(R) CPU E5-2699 v3 @ 2.30GHz  \n",
    "`divsd`: 10-20 Cycles  \n",
    "`mulsd`: 5 cycles  \n",
    "`movsd`: 3 cycles  \n",
    "L1 Cache: 32 kB, 8 way, 64 sets, 64 B line size, **latency 4**, per core.    \n",
    "L2 Cache: 256 kB, 8 way, 512 sets, 64 B line size, **latency 12**, per core.\n",
    "  "
   ]
  },
  {
   "cell_type": "markdown",
   "metadata": {},
   "source": [
    "---"
   ]
  },
  {
   "cell_type": "markdown",
   "metadata": {},
   "source": [
    "### CPU Time\n",
    "Inclusively RSBench spends 98.7% of its time in `xs_kernel.c`.   \n",
    "Exclusively only 53.0% of total time is spent in `xs_kernel.c`.   \n",
    "The other time (45.7%) is spent in the math library. libm-2.17.so  \n",
    "\n",
    "  \n"
   ]
  },
  {
   "cell_type": "markdown",
   "metadata": {},
   "source": [
    "|xs_kernel.c|CPU Inclusive|CPU Exclusive|\n",
    "|:----------|:-----------:|:-----------:|\n",
    "|calculate_micro_xs_doppler|97.6%|24.6%|\n",
    "|---> loop at line 181|46.4%|21.4%|\n",
    "|calculate_sig_T|48.1%|3.4%|\n",
    "|fast_nuclear_W|25.0%|23.9%|\n",
    "|---> line 72|20.9%|20.9%|"
   ]
  },
  {
   "cell_type": "markdown",
   "metadata": {},
   "source": [
    "---\n",
    "\n",
    "#### calculate_micro_xs_dopper( ) | Loop at line 181\n",
    "|  CPUTIME  | Instructions per Cycle | L1 Data Cache Miss Rate | L2 Data Cache Miss Rate |\n",
    "|:---------:|:----------------------:|:-----------------------:|:-----------------------:|\n",
    "| 21.4 %     |    **0.49**           | **9.0%  **              |     73.5%               | \n",
    "```c\n",
    "\t// Loop over Poles within window, add contributions                 \n",
    "|181|\tfor( int i = w.start; i < w.end; i++ )                        //       CPUTIME\n",
    "|182|   {\n",
    "|183|\t    Pole pole = data.poles[nuc][i];                                    // 4.5%\n",
    "|184|\n",
    "|185|\t    // Prep Z\n",
    "|186|\t    double complex Z = (E - pole.MP_EA) * dopp;\n",
    "|187|\t    if( cabs(Z) < 6.0 )\n",
    "|188|\t\t    (*abrarov)++;\n",
    "|189|\t    (*alls)++;\n",
    "|190|\n",
    "|191|\t    // Evaluate Fadeeva Function\n",
    "|192|\t    complex double faddeeva = fast_nuclear_W( Z );\n",
    "|193|\n",
    "|194|\t    // Update W\n",
    "|195|\t    sigT += creal( pole.MP_RT * faddeeva * sigTfactors[pole.l_value] );// 8.6%\n",
    "|196|\t    sigA += creal( pole.MP_RA * faddeeva);\n",
    "|197|\t    sigF += creal( pole.MP_RF * faddeeva);\n",
    "|198|   }\n",
    "```"
   ]
  },
  {
   "cell_type": "markdown",
   "metadata": {},
   "source": [
    "#### calculate_sig_T (Where most of the libm time comes from 49.7% Total CPU Time)\n",
    "|  CPUTIME  | Instructions per Cycle | L1 Data Cache Miss Rate | L2 Data Cache Miss Rate |\n",
    "|:---------:|:----------------------:|:-----------------------:|:-----------------------:|\n",
    "| 48.1%(Inclusive)     |    1.46           | 1.7%                   |     73.4%               | \n",
    "```c\n",
    "|208|void calculate_sig_T( int nuc, double E, Input input, CalcDataPtrs data, complex double * sigTfactors )\n",
    "|209|{\n",
    "|210|\tdouble phi;\n",
    "|211|\n",
    "|212|\tfor( int i = 0; i < input.numL; i++ )\n",
    "|213|\t{\n",
    "|214|\t\tphi = data.pseudo_K0RS[nuc][i] * sqrt(E);\n",
    "|215|\n",
    "|216|\t\tif( i == 1 )\n",
    "|217|\t\t\tphi -= - atan( phi );\n",
    "|218|\t\telse if( i == 2 )\n",
    "|219|\t\t\tphi -= atan( 3.0 * phi / (3.0 - phi*phi));\n",
    "|220|\t\telse if( i == 3 )\n",
    "|221|\t\t\tphi -= atan(phi*(15.0-phi*phi)/(15.0-6.0*phi*phi));\n",
    "|222|\n",
    "|223|\t\tphi *= 2.0;\n",
    "|224|\n",
    "|225|\t\tsigTfactors[i] = cos(phi) - sin(phi) * _Complex_I;\n",
    "|226|\t}\n",
    "|227|}\n",
    "```"
   ]
  },
  {
   "cell_type": "markdown",
   "metadata": {},
   "source": [
    "#### fast_nuclear_W\n",
    "\"This function uses a combination of the Abrarov Approximation\n",
    "and the QUICK_W three term asymptotic expansion.\n",
    "Only expected to use Abrarov ~0.5% of the time.\"\n",
    "  \n",
    "Function defines several hard coded values and spends most time on line 72 (20.9% CPU Time):\n",
    "\n",
    "|  CPUTIME  | Instructions per Cycle | L1 Data Cache Miss Rate | L2 Data Cache Miss Rate |\n",
    "|:---------:|:----------------------:|:-----------------------:|:-----------------------:|\n",
    "| 20.9 %     |    1.15            | 2.0%                   |     73.5%               | \n",
    "```c\n",
    "|72| double complex W = I * Z * (a/(Z*Z - b) + c/(Z*Z - d));  //20.9% CPUTIME(E)\n",
    "```"
   ]
  },
  {
   "cell_type": "markdown",
   "metadata": {},
   "source": [
    "---"
   ]
  },
  {
   "cell_type": "markdown",
   "metadata": {},
   "source": [
    "### CPI\n",
    "|Scope| Cycles / Instructions|\n",
    "|:-----|:-----:|\n",
    "|`calculate_micro_xs_doppler( ) : Loop at line 181`|  **2.04 CPI**  |\n",
    "|`calculate_sig_T( ) : Exclusive for math lib`| .69 CPI | \n",
    "|`fast_nuclear_W( ) : Line 72`| .87 CPI|"
   ]
  },
  {
   "cell_type": "markdown",
   "metadata": {
    "collapsed": true
   },
   "source": [
    "#### Issue Cycles\n",
    "`calculate_micro_xs_doppler( ) | Loop at line 181`:  \n",
    "-- 2.40e+10 Full Issue | 11.3% Cycles Issuing Max Instructions  \n",
    "-- 7.60e+07 No Issue | less than .1% Cycles Issuing No Instructions  \n",
    "-- 2.12e+11 Total Cycles  \n",
    "  \n",
    "`calculate_sig_T( ) | Exclusive for math lib`:  \n",
    "-- 2.41e+11 Full Issue | 51.5% Cycles Issuing Max Instructions  \n",
    "-- 7.42e+08 No Issue | 0.2% Cycles Issuing No Instructions  \n",
    "-- 4.68e+11 Total Cycles  \n",
    "  \n",
    "`fast_nuclear_W( ) | Line 72`:  \n",
    "-- 5.38e+09 Full Issue | 2.6% Cycles Issuing Max Instructions  \n",
    "-- 2.00e+07 No Issue | less than .1% Cycles Issuing No Instructions   \n",
    "-- 2.04e+11 Total Cycles  \n",
    "#### Retiring Cycles\n",
    "`calculate_micro_xs_doppler( ) | Loop at line 181`:  \n",
    "--  2.87e+10 Full Retire | 13.5% Cycles Retiring Max Instructions  \n",
    "--  8.08e+10 No Retire | 38.1% Cycles Retiring No Instructions  \n",
    "-- 2.12e+11 Total Cycles  \n",
    "  \n",
    "`calculate_sig_T( ) | Exclusive for math lib`:  \n",
    "-- 1.35e+11 Full Retire | 28.8% Cycles Retiring Max Instructions  \n",
    "-- 1.11e+11 No Retire | 23.7% Cycles Retiring No Instructions  \n",
    "-- 4.68e+11 Total Cycles  \n",
    "  \n",
    "`fast_nuclear_W( ) | Line 72`:  \n",
    "-- 5.99e+10 Full Retire | 29.4% Cycles Retiring Max Instructions  \n",
    "-- 4.14e+10 No Retire | 20.3% Cycles Retiring No Instructions   \n",
    "-- 2.04e+11 Total Cycles  "
   ]
  },
  {
   "cell_type": "markdown",
   "metadata": {},
   "source": [
    "### Memory\n",
    "#### Data Cache\n",
    "`calculate_micro_xs_doppler( ) | Loop at line 181`:   \n",
    "-- 4.94e+09 L1 Data Cache Misses | **9.0%** L1 Cache Miss Rate  \n",
    "-- 3.63e+09 L2 Data Cache Misses | 26.5% L1 Misses Hit L2  \n",
    "-- 5.47e+10 Load/Store Instructions\n",
    "\n",
    "`calculate_sig_T( ) | Exclusive for math lib`:  \n",
    "-- 3.50e+09 L1 Data Cache Misses | 1.7% L1 Cache Miss Rate  \n",
    "-- 2.57e+09 L2 Data Cache Misses | 26.6% L1 Misses Hit L2  \n",
    "-- 2.06e+11 Load/Store Instructions\n",
    "\n",
    "`fast_nuclear_W( ) | Line 72`:  \n",
    "-- 2.75e+09 L1 Data Cache Misses | 2.0% L1 Cache Miss Rate  \n",
    "-- 2.02e+09 L2 Data Cache Misses | 26.5% L1 Misses Hit L2  \n",
    "-- 1.41e+11 Load/Store Instructions"
   ]
  },
  {
   "cell_type": "code",
   "execution_count": 6,
   "metadata": {},
   "outputs": [
    {
     "data": {
      "text/plain": [
       "0.7345454545454545"
      ]
     },
     "execution_count": 6,
     "metadata": {},
     "output_type": "execute_result"
    }
   ],
   "source": [
    "2.02 / 2.75"
   ]
  },
  {
   "cell_type": "code",
   "execution_count": null,
   "metadata": {
    "collapsed": true
   },
   "outputs": [],
   "source": []
  },
  {
   "cell_type": "code",
   "execution_count": null,
   "metadata": {
    "collapsed": true
   },
   "outputs": [],
   "source": []
  }
 ],
 "metadata": {
  "kernelspec": {
   "display_name": "Python 3",
   "language": "python",
   "name": "python3"
  },
  "language_info": {
   "codemirror_mode": {
    "name": "ipython",
    "version": 3
   },
   "file_extension": ".py",
   "mimetype": "text/x-python",
   "name": "python",
   "nbconvert_exporter": "python",
   "pygments_lexer": "ipython3",
   "version": "3.6.2"
  }
 },
 "nbformat": 4,
 "nbformat_minor": 2
}
