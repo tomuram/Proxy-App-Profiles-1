{
 "cells": [
  {
   "cell_type": "markdown",
   "metadata": {
    "collapsed": true
   },
   "source": [
    "## XSBench\n",
    "clang++-5.0.1 -std=gnu99 -march=native -fopenmp -g -O3  \n",
    "  \n",
    "(**Haswell**) Intel(R) Xeon(R) CPU E5-2699 v3 @ 2.30GHz  \n",
    "-- 18 cpu cores, 72 threads.  \n",
    "\n",
    "`divsd`: 10-20 Cycles  \n",
    "`mulsd`: 5 Cycles  \n",
    "`movsd`: 3 Cycles  \n",
    "L1 Cache: 32 kB, 8 way, 64 sets, 64 B line size, **latency 4**, per core.    \n",
    "L2 Cache: 256 kB, 8 way, 512 sets, 64 B line size, **latency 12**, per core.  \n",
    "L3 Cache: 45 MB, 12-16 way, 64 B line size, **latency 34**, shared.  \n",
    "Branch Misprediction Penalty: **15 - 20 cycles**.  \n",
    "Data from Agner\n",
    "\n",
    "| Empirical Roofline Toolkit | L1 Cache | L2 Cache | L3 Cache | DRAM |\n",
    "|:---|:------:|:--------:|:----------:|:-----|\n",
    "|Cache Lines / Cycle | .9715 | .3050 | 0.2188 | 0.1067 |"
   ]
  },
  {
   "cell_type": "markdown",
   "metadata": {},
   "source": [
    "---\n",
    "#### `XSutils.c::binary_search( )`:\n",
    "\n",
    "|`Loop at Line 59`|  CPUTIME  | Inst per Cycle | L1 DC Miss % | L2 DC Miss % | L3 Miss % | L1 Loads/Cycle | L2 B/W Used | L3 B/W Used | Branch MSP % |\n",
    "|:-----|:------:|:-------:|:-----------------------:|:---:|:---:|:---:|:---:|:---:|:---:|\n",
    "| **Serial Run** | 73.8% | 0.38 | 13.7% | 84.6% | < 0.1% | 0.11 | | | 4.0% |\n",
    "| **72 Thread Run** | \n",
    "|**Theoretical Max** | **100.0%** | **2.00 (4.00)** |**0.0%** | **0.0%**| **2.00** |**100%** |**100%** | **100%** | **0.0%** |\n",
    "```c\n",
    "|44|// Binary Search function for nuclide grid\n",
    "|45|// Returns ptr to energy less than the quarry that is closest to the quarry\n",
    "|46|int binary_search( NuclideGridPoint * A, double quarry, int n )\n",
    "|47|{       \n",
    "|48|\tint min = 0;\n",
    "|49|\tint max = n-1;\n",
    "|50|\tint mid;\n",
    "|51|\t\n",
    "|52|\t// checks to ensure we're not reading off the end of the grid\n",
    "|53|\tif( A[0].energy > quarry )                          \n",
    "|54|\t\treturn 0;\n",
    "|55|\telse if( A[n-1].energy < quarry )\n",
    "|56|\t\treturn n-2;\n",
    "|57|\n",
    "```\n",
    "\n",
    "|`Loop at Line 59`|  CPUTIME  | Inst per Cycle | L1 DC Miss % | L2 DC Miss % | L3 Miss % | L1 Loads/Cycle | L2 B/W Used | L3 B/W Used | Branch MSP % |\n",
    "|:-----|:------:|:-------:|:-----------------------:|:---:|:---:|:---:|:---:|:---:|:---:|\n",
    "| **Serial Run** | 53.8% |    0.29| 9.9%|     83.8%| < 0.1% | 0.11 | 0.1% | 5.1% | 0.6% |\n",
    "| **72 Thread Run** | 35.6% |    0.87| 6.3%|     99.2%| 0.0% | 0.36 | < 0/1% | 4.4% | 1.5% |\n",
    "|**Theoretical Max** | **100.0%** | **2.00 (4.00)** |**0.0%** | **0.0%**| **2.00** |**100%** |**100%** | **100%** | **0.0%**| \n",
    "```c\n",
    "|58|\t// Begins binary search\t\n",
    "|59|\twhile( max >= min )\n",
    "|60|\t{    \n",
    "|61|        \tmid = min + floor( (max-min) / 2.0);\n",
    "|62|\t\tif( A[mid].energy < quarry )   \n",
    "|63|\t\t\tmin = mid+1;\n",
    "|64|\t\telse if( A[mid].energy > quarry )\n",
    "|65|\t\t\tmax = mid-1;\n",
    "|66|\t\telse\n",
    "|67|\t\t\treturn mid;\n",
    "|68|\t}\n",
    "|69|       \treturn max;\n",
    "|70|}\n",
    "```"
   ]
  },
  {
   "cell_type": "markdown",
   "metadata": {
    "collapsed": true
   },
   "source": []
  },
  {
   "cell_type": "code",
   "execution_count": 33,
   "metadata": {},
   "outputs": [
    {
     "data": {
      "text/plain": [
       "0.1064516129032258"
      ]
     },
     "execution_count": 33,
     "metadata": {},
     "output_type": "execute_result"
    }
   ],
   "source": []
  },
  {
   "cell_type": "code",
   "execution_count": 30,
   "metadata": {},
   "outputs": [
    {
     "data": {
      "text/plain": [
       "0.00022857142857142857"
      ]
     },
     "execution_count": 30,
     "metadata": {},
     "output_type": "execute_result"
    }
   ],
   "source": [
    "4e+06 /1.75e+10 "
   ]
  },
  {
   "cell_type": "code",
   "execution_count": 32,
   "metadata": {},
   "outputs": [
    {
     "data": {
      "text/plain": [
       "0.040117994100294985"
      ]
     },
     "execution_count": 32,
     "metadata": {},
     "output_type": "execute_result"
    }
   ],
   "source": [
    "1.36e+09 / 3.39e+10"
   ]
  },
  {
   "cell_type": "code",
   "execution_count": null,
   "metadata": {
    "collapsed": true
   },
   "outputs": [],
   "source": []
  }
 ],
 "metadata": {
  "kernelspec": {
   "display_name": "Python 3",
   "language": "python",
   "name": "python3"
  },
  "language_info": {
   "codemirror_mode": {
    "name": "ipython",
    "version": 3
   },
   "file_extension": ".py",
   "mimetype": "text/x-python",
   "name": "python",
   "nbconvert_exporter": "python",
   "pygments_lexer": "ipython3",
   "version": "3.6.2"
  }
 },
 "nbformat": 4,
 "nbformat_minor": 2
}
