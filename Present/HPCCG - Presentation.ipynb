{
 "cells": [
  {
   "cell_type": "markdown",
   "metadata": {},
   "source": [
    "## HPCCG\n",
    "clang++-5.0.1 -g -O3 -funroll-loops -march=native    \n",
    "  \n",
    "(**Haswell**) Intel(R) Xeon(R) CPU E5-2699 v3 @ 2.30GHz  \n",
    "-- 18 cpu cores, 72 threads.  \n",
    "-- 2 Memory Load Ports. \n",
    "\n",
    "`mulsd`: 5 cycles  \n",
    "`movsd`: 3 cycles  \n",
    "L1 Cache: 32 kB, 8 way, 64 sets, 64 B line size, **latency 4**, per core.    \n",
    "L2 Cache: 256 kB, 8 way, 512 sets, 64 B line size, **latency 12**, per core.  \n",
    "Data from Agner \n",
    "\n",
    "| Empirical Roofline Toolkit | L1 Cache | L2 Cache | L3 Cache | DRAM |\n",
    "|:---|:------:|:--------:|:----------:|:-----|\n",
    "|Cache Lines / Cycle | .9715 | .3050 | 0.2188 | 0.1067 |"
   ]
  },
  {
   "cell_type": "markdown",
   "metadata": {},
   "source": [
    "---\n",
    "|`HPC_sparsemv( )`|  CPUTIME  | Inst per Cycle | L1 DC Miss % | L2 DC Miss % | L1 Loads/Cycle | L2 Bandwidth Used |\n",
    "|:---|:---:|:---:|:---:|:---:|:---:|:---:|\n",
    "| **Serial Run** | 80.6%  |    1.04     | 7.5%  |39.5%  | 0.98 | 14.7% |\n",
    "|** 18 Thread Run** | 62.7% | 0.62 | 8.0% | 46.1% | 0.44 | 11.8% |\n",
    "|**72 Thread Run** | 44.9%  |    0.52    | 8.7%  |65.0% | 0.29 | 3.0% |\n",
    "```c\n",
    "|66|int HPC_sparsemv( HPC_Sparse_Matrix *A,                  \n",
    "|67|\t\t const double * const x, double * const y)\n",
    "|68|{\n",
    "|69|\n",
    "|70|  const int nrow = (const int) A->local_nrow;\n",
    "|71|\n",
    "|72|#ifdef USING_OMP\n",
    "|73|#pragma omp parallel for\n",
    "|74|#endif\n",
    "|75|  for (int i=0; i< nrow; i++)\n",
    "|76|    {\n",
    "|77|      double sum = 0.0;\n",
    "|78|      const double * const cur_vals = \n",
    "|79|     (const double * const) A->ptr_to_vals_in_row[i];\n",
    "|80|\n",
    "|81|      const int    * const cur_inds = \n",
    "|82|     (const int    * const) A->ptr_to_inds_in_row[i];\n",
    "|83|\n",
    "|84|      const int cur_nnz = (const int) A->nnz_in_row[i];\n",
    "|85|\n",
    "|86|      for (int j=0; j< cur_nnz; j++)                     //  9.9% CPUTIME(E)\n",
    "```\n",
    "|`Line 87` |  CPUTIME  | Inst per Cycle | L1 DC Miss % | L2 DC Miss % | L1 Loads/Cycle | L2 Bandwidth Used |\n",
    "|:---|:---:|:---:|:---:|:---:|:---:|:---:|\n",
    "|**Serial Run** | 58.8%  |    1.09    | 7.6%  | 39.5% | 0.97 | 14.6% |\n",
    "|**18 Thread Run** | 50.9% | 0.64 | 8.0% | 46.3% | 0.43 | 11.4% |\n",
    "|**72 Thread Run** | 41.7%  |    0.48     | 8.7% | 64.8% | 0.39 | 2.8%|\n",
    "```c\n",
    "|87|        sum += cur_vals[j]*x[cur_inds[j]];             \n",
    "|88|      y[i] = sum;\n",
    "|89|    }\n",
    "|90|  return(0);\n",
    "|91|}\n",
    "```\n",
    "\n",
    "### Memory Bound - Latency\n"
   ]
  },
  {
   "cell_type": "markdown",
   "metadata": {},
   "source": [
    "---\n",
    "### Scaling "
   ]
  },
  {
   "cell_type": "code",
   "execution_count": 1,
   "metadata": {
    "collapsed": true
   },
   "outputs": [],
   "source": [
    "import matplotlib.pyplot as plt\n",
    "%matplotlib inline"
   ]
  },
  {
   "cell_type": "code",
   "execution_count": 21,
   "metadata": {},
   "outputs": [
    {
     "data": {
      "image/png": "[encoded data removed]",
      "text/plain": [
       "<matplotlib.figure.Figure at 0x118943c18>"
      ]
     },
     "metadata": {},
     "output_type": "display_data"
    }
   ],
   "source": [
    "plt.plot([1,2,4,8,16,32,64,72], [127.041, 66.508, 36.896, 22.751, 18.762, 18.358, 15.923, 15.216])\n",
    "plt.ylabel('secs')\n",
    "plt.xlabel('threads')\n",
    "plt.xticks([1,2,4,8,16,32,64,72])\n",
    "plt.show()"
   ]
  },
  {
   "cell_type": "code",
   "execution_count": null,
   "metadata": {
    "collapsed": true
   },
   "outputs": [],
   "source": []
  }
 ],
 "metadata": {
  "kernelspec": {
   "display_name": "Python 3",
   "language": "python",
   "name": "python3"
  },
  "language_info": {
   "codemirror_mode": {
    "name": "ipython",
    "version": 3
   },
   "file_extension": ".py",
   "mimetype": "text/x-python",
   "name": "python",
   "nbconvert_exporter": "python",
   "pygments_lexer": "ipython3",
   "version": "3.6.2"
  }
 },
 "nbformat": 4,
 "nbformat_minor": 2
}
