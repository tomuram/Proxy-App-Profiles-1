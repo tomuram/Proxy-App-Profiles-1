{
 "cells": [
  {
   "cell_type": "markdown",
   "metadata": {},
   "source": [
    "## CoSP2  \n",
    "\n",
    "`gcc-7.2.0 -std=c99 -fopenmp -DPOS1 -DCONTIG_MATRIX -DDOUBLE -g -O5 -lm`  \n",
    "`OMP_NUM_THREADS=1`"
   ]
  },
  {
   "cell_type": "markdown",
   "metadata": {},
   "source": [
    "In Function `sparseX2` 82% Total CPUTIME:  \n",
    "```c\n",
    "void sparseX2(real_t* trX, real_t* trX2, struct SparseMatrixSt* xmatrix, \n",
    "              struct SparseMatrixSt* x2matrix, struct DomainSt* domain)\n",
    "```"
   ]
  },
  {
   "cell_type": "markdown",
   "metadata": {},
   "source": [
    "---"
   ]
  },
  {
   "cell_type": "markdown",
   "metadata": {},
   "source": [
    "```c\n",
    "|17|void sparseX2(...)\n",
    "|18|{\n",
    "      ...\n",
    "|29|  for(int i = domain->localRowMin; i < domain->localRowMax; i++) \n",
    "        ...\n",
    "|33|    for(int jp = 0; jp < xmatrix->iia[i]; jp++)\n",
    "          ...                                        // 74.5% CPUTIME(E) in Innermost Loop\n",
    "|41|      for(int kp = 0; kp < xmatrix->iia[j]; kp++)    //  18.6%\n",
    "|42|      {\n",
    "|43|        int k = xmatrix->jja[j][kp];                 //  14.9%\n",
    "|44|        if (ix[k] == 0)                              //  18.6%\n",
    "|45|        {\n",
    "|46|          x[k] = ZERO;\n",
    "|47|          x2matrix->jja[i][l] = k;\n",
    "|48|          ix[k] = i+1;\n",
    "|49|          l++;\n",
    "|50|        }\n",
    "|51|        x[k] = x[k] + a * xmatrix->val[j][kp];       //  22.4%\n",
    "|52|      }\n",
    "|53|    }\n",
    "          ...\n",
    "|77|  }\n",
    "      ...\n",
    "|82|}  \n",
    "```"
   ]
  },
  {
   "cell_type": "markdown",
   "metadata": {},
   "source": [
    "### Loop Metrics:  \n",
    "`PAPI_LD_INS`:  2.44e+08  \n",
    "`PAPI_SR_INS`:  5.40e+07  \n",
    "`PAPI_BR_INS`:  1.20e+08  \n",
    "`PAPI_TOT_INS`: 7.76e+08  \n",
    "  \n",
    "`7.76 - 2.44 - .54 - 1.2 =`  \n",
    "Other Instructions: 3.58e+08\n",
    "  \n",
    "PAPI_TOT_INS: 7.76e+08  \n",
    "PAPI_TOT_CYC:  3.28e+08  \n",
    "`7.76 / 3.28 = 2.37` Instructions Completed per Cycle (Haswell Designed for 4)"
   ]
  },
  {
   "cell_type": "markdown",
   "metadata": {},
   "source": [
    "\n",
    "---"
   ]
  },
  {
   "cell_type": "markdown",
   "metadata": {},
   "source": [
    "### Program Aggregate Metrics:    \n",
    "PAPI_TOT_INS: 1.02e+09  \n",
    "PAPI_TOT_CYC:  4.42e+08  \n",
    "`10.2 / 4.42 = 2.31` Instructions Completed per Cycle (Haswell Designed for 4)"
   ]
  },
  {
   "cell_type": "code",
   "execution_count": null,
   "metadata": {
    "collapsed": true
   },
   "outputs": [],
   "source": []
  }
 ],
 "metadata": {
  "kernelspec": {
   "display_name": "Python 3",
   "language": "python",
   "name": "python3"
  },
  "language_info": {
   "codemirror_mode": {
    "name": "ipython",
    "version": 3
   },
   "file_extension": ".py",
   "mimetype": "text/x-python",
   "name": "python",
   "nbconvert_exporter": "python",
   "pygments_lexer": "ipython3",
   "version": "3.6.2"
  }
 },
 "nbformat": 4,
 "nbformat_minor": 2
}
