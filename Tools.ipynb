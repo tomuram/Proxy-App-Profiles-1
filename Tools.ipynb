{
 "cells": [
  {
   "cell_type": "markdown",
   "metadata": {},
   "source": [
    "### Roofline\n",
    "1. Edit existing config file to your machine.  \n",
    "2. `./ert <config file>`  \n",
    "3.  View .ps graph file in results directory."
   ]
  },
  {
   "cell_type": "markdown",
   "metadata": {},
   "source": [
    "### HPCToolKit\n",
    "0. Build with -g then optimization flags\n",
    "1. `hpcstruct <application>`\n",
    "2. `hpcrun -e <event> -e <event> ... -o <output directory> ./<application> [run parameters]`  \n",
    "2a. Repeat to get all measurements (Same event into same directory sums them).\n",
    "3. `hpcprof -S <application>.hpcstruct -I <path/to/src1/'+'> [-I path/to/src2/'+'] ... -o <output directory> <measurement directory1> [measurement directory 2] ...`   \n",
    "3a. Build multiple databases or all into one\n",
    "4. `hpcviewer [profile database]`\n",
    "5. Analyze.\n",
    "\n",
    "### Notes\n",
    "! Not all machines have all counters `hpcrun -L ./<application>` for list !  \n",
    "! Some counters conflict eachother (hpctoolkit give misleading error message) !   \n",
    "! Check how it counts, per core per thread misleading cycle counts. !\n",
    "\n",
    "#### Todo\n",
    "hpctraceviewer  \n",
    "hpcrun-mpi: split counts by threads or nodes  \n",
    "explain events, give good list.   \n",
    "source code annotations for focused investigation?"
   ]
  },
  {
   "cell_type": "code",
   "execution_count": null,
   "metadata": {
    "collapsed": true
   },
   "outputs": [],
   "source": []
  }
 ],
 "metadata": {
  "kernelspec": {
   "display_name": "Python 3",
   "language": "python",
   "name": "python3"
  },
  "language_info": {
   "codemirror_mode": {
    "name": "ipython",
    "version": 3
   },
   "file_extension": ".py",
   "mimetype": "text/x-python",
   "name": "python",
   "nbconvert_exporter": "python",
   "pygments_lexer": "ipython3",
   "version": "3.6.2"
  }
 },
 "nbformat": 4,
 "nbformat_minor": 2
}
