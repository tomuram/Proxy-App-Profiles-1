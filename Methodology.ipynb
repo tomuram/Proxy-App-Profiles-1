{
 "cells": [
  {
   "cell_type": "markdown",
   "metadata": {},
   "source": [
    "## Step by Step"
   ]
  },
  {
   "cell_type": "markdown",
   "metadata": {},
   "source": [
    "### Gather Machine Information    \n",
    "Topology: **likwid-topology**, **lstopo(-no-graphics)**  \n",
    "Memory Bandwidth: **Roofline Toolkit**, *Theoretical Maximum*  \n",
    "Latency Information: *Agner.org*, *Published Information*  \n",
    "  \n",
    "// Script to put information into standard to automate part of analysis?"
   ]
  },
  {
   "cell_type": "markdown",
   "metadata": {},
   "source": [
    "### Build App\n",
    "Record: Compiler and Library Versions, Optimization Options, Application Version or revision.   \n",
    "Machine/ Instruction set. \n",
    "\n",
    "// Standard Form to place info for easier publishing?"
   ]
  },
  {
   "cell_type": "markdown",
   "metadata": {},
   "source": [
    "### Run App\n",
    "Determine and Record Run Parameters (and why).  Measure Run Time and Scaling.  \n",
    "Record working set size.  Map to real application problem.  \n",
    "  \n",
    "// Gather for easier publishing?"
   ]
  },
  {
   "cell_type": "markdown",
   "metadata": {},
   "source": [
    "### Gather Data\n",
    "1. Gather initial list of interested measurements.  \n",
    "2. Gather list of available counters.  \n",
    "3. Determine groups to make measurements.  \n",
    "4. Run application while measuring (Record run parameters).  \n",
    "  \n",
    "Tools: **HPCToolkit** (PAPI, perf), **likwid-agent**??, etc.  \n",
    "  \n",
    "// Consensus on important measurements, `papi_avail papi_native_avail hpcrun -L` to get available.  \n",
    "// Logic and `papi_event_chooser`? to build groups.  \n",
    "// Script to run program and record.  "
   ]
  },
  {
   "cell_type": "markdown",
   "metadata": {},
   "source": [
    "### Analyze Data\n",
    "1. Look at where time is being spent(and will be spend based on scaling)\n",
    "2. Look at execution and memory data (and communication data) for that area (and whole program).  \n",
    "3. Compare measured data to machine information (The tricky part).\n",
    "4. Drill down with additional data based on interesting parts.\n",
    "\n",
    "// Combine standardized info to short cut important measurement comparisons.  "
   ]
  },
  {
   "cell_type": "markdown",
   "metadata": {},
   "source": [
    "### Make Conclusion\n",
    "Quickly explain hardware stress (Provide confidence level??)."
   ]
  },
  {
   "cell_type": "markdown",
   "metadata": {},
   "source": [
    "### Document\n",
    "Compile findings, parameters, all build and machine information with code snippet(s)."
   ]
  },
  {
   "cell_type": "code",
   "execution_count": null,
   "metadata": {
    "collapsed": true
   },
   "outputs": [],
   "source": []
  }
 ],
 "metadata": {
  "kernelspec": {
   "display_name": "Python 3",
   "language": "python",
   "name": "python3"
  },
  "language_info": {
   "codemirror_mode": {
    "name": "ipython",
    "version": 3
   },
   "file_extension": ".py",
   "mimetype": "text/x-python",
   "name": "python",
   "nbconvert_exporter": "python",
   "pygments_lexer": "ipython3",
   "version": "3.6.2"
  }
 },
 "nbformat": 4,
 "nbformat_minor": 2
}
