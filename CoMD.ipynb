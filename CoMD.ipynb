{
 "cells": [
  {
   "cell_type": "markdown",
   "metadata": {},
   "source": [
    "  "
   ]
  },
  {
   "cell_type": "markdown",
   "metadata": {},
   "source": [
    "  "
   ]
  },
  {
   "cell_type": "markdown",
   "metadata": {},
   "source": [
    "## CoMD"
   ]
  },
  {
   "cell_type": "markdown",
   "metadata": {},
   "source": [
    "Classical Molecular Dynamics algorithms and workloads\n",
    "\n",
    "**Links:**  \n",
    "[Doxygen Documentation](http://exmatex.github.io/CoMD/doxygen-mpi/index.html)  \n",
    "[github](https://github.com/exmatex/CoMD)  \n",
    "[Lab Home Page](http://www.exmatex.org/comd.html)  "
   ]
  },
  {
   "cell_type": "markdown",
   "metadata": {},
   "source": [
    "### Serial Run\n",
    "(Haswell) Intel(R) Xeon(R) CPU E5-2699 v3 @ 2.30GHz  \n",
    "`divsd`: 10-20 Cycles  \n",
    "`mulsd`: 5 cycles  \n",
    "`movsd`: 3 cycles  \n",
    "L1 Cache: 32 kB, 8 way, 64 sets, 64 B line size, **latency 4**, per core.    \n",
    "L2 Cache: 256 kB, 8 way, 512 sets, 64 B line size, **latency 12**, per core.\n",
    "  \n",
    "CPUTIME: 8.94e+06  \n",
    "94.2% in `ljForce(SimFlat* SimFlat*)` function within `ljForce.c`  \n",
    "76.7% Total Time in `for (int iOff=iBox*MAXATOMS,ii=0; ii<nIBox; ii++,iOff++)` loop, line 189  "
   ]
  },
  {
   "cell_type": "markdown",
   "metadata": {},
   "source": [
    "```c \n",
    "|169|for (int iBox=0; iBox<s->boxes->nLocalBoxes; iBox++)\n",
    "       (...)\n",
    "|175|  for (int jTmp=0; jTmp<nNbrBoxes; jTmp++)\n",
    "         (...)\n",
    "|185|    for (int iOff=iBox*MAXATOMS,ii=0; ii<nIBox; ii++,iOff++)\n",
    "           (...)                       \n",
    "           \n",
    "        /* |  CPUTIME  | Instructions per Cycle | L1 Data Cache Miss Rate | */\n",
    "        /* |-----------|------------------------|-------------------------| */\n",
    "        /* |-  for (int jOff=MAXATOMS*jBox,ij=0; ij<nJBox; ij++,jOff++)  -| */\n",
    "        /* | 76.7% CPU |    1.01 Ins / Cycle    | 0.6% L1 Data Cache Miss | */\n",
    "        \n",
    "|189|      for (int jOff=MAXATOMS*jBox,ij=0; ij<nJBox; ij++,jOff++)\n",
    "|190|      {                                                        \n",
    "|191|        real_t dr[3];\n",
    "|192|        int jId = s->atoms->gid[jOff];  \n",
    "|193|        if (jBox < s->boxes->nLocalBoxes && jId <= iId )      //  5.9% CPUTIME\n",
    "|194|          continue; // don't double count local-local pairs.\n",
    "|195|        real_t r2 = 0.0;\n",
    "|196|        for (int m=0; m<3; m++)\n",
    "|197|        {\n",
    "|198|          dr[m] = s->atoms->r[iOff][m]-s->atoms->r[jOff][m];  //  6.4% CPUTIME\n",
    "\n",
    "        /* |-------------------  r2+=dr[m]*dr[m];  -----------------------| */\n",
    "        /* | 11.7% CPU |    1.38 Ins / Cycle    | 1.6% L1 Data Cache Miss | */\n",
    "        \n",
    "|199|          r2+=dr[m]*dr[m];                                     \n",
    "|200|        }\n",
    "|201|\n",
    "|202|        if ( r2 > rCut2) continue;                            //  6.8% CPUTIME\n",
    "|203|\n",
    "|204|        // Important note:\n",
    "|205|        // from this point on r actually refers to 1.0/r\n",
    "|206|        r2 = 1.0/r2;\n",
    "\n",
    "        /* |---------------  real_t r6 = s6 * (r2*r2*r2);  ---------------| */\n",
    "        /* | 12.8% CPU |    0.68 Ins / Cycle    | 0.2% L1 Data Cache Miss | */\n",
    "        /*                     NOTE: Dependency Chain                       */\n",
    "        \n",
    "|207|        real_t r6 = s6 * (r2*r2*r2);                           \n",
    "|208|        real_t eLocal = r6 * (r6 - 1.0) - eShift;             //  5.4% CPUTIME\n",
    "|209|        s->atoms->U[iOff] += 0.5*eLocal;                      //  6.6% CPUTIME\n",
    "|210|        s->atoms->U[jOff] += 0.5*eLocal;\n",
    "|211|\n",
    "|212|        // calculate energy contribution based on whether\n",
    "|213|        // the neighbor box is local or remote\n",
    "|214|        if (jBox < s->boxes->nLocalBoxes)\n",
    "|215|          ePot += eLocal;\n",
    "|216|        else\n",
    "|217|          ePot += 0.5 * eLocal;\n",
    "|218|\n",
    "|219|        // different formulation to avoid sqrt computation\n",
    "|220|        real_t fr = - 4.0*epsilon*r6*r2*(12.0*r6 - 6.0);\n",
    "|221|        for (int m=0; m<3; m++)\n",
    "|222|        {\n",
    "|223|          s->atoms->f[iOff][m] -= dr[m]*fr;\n",
    "|224|          s->atoms->f[jOff][m] += dr[m]*fr;                         \n",
    "|225|        }\n",
    "|226|      }// loop over atoms in jBox \n",
    "|227|    } // loop over atoms in iBox\n",
    "|228|  } // loop over neighbor boxes\n",
    "|229|} // loop over local boxes in system\n",
    "```"
   ]
  },
  {
   "cell_type": "markdown",
   "metadata": {},
   "source": [
    " ---\n",
    "\n"
   ]
  },
  {
   "cell_type": "markdown",
   "metadata": {},
   "source": [
    "clang-5.0.1  \n",
    "-std=c99 -DDOUBLE -g -march=native -O3"
   ]
  },
  {
   "cell_type": "code",
   "execution_count": 5,
   "metadata": {},
   "outputs": [
    {
     "data": {
      "text/plain": [
       "1.3836206896551724"
      ]
     },
     "execution_count": 5,
     "metadata": {},
     "output_type": "execute_result"
    }
   ],
   "source": [
    "3.21e+09 / 2.32e+09    "
   ]
  },
  {
   "cell_type": "markdown",
   "metadata": {},
   "source": [
    "### CPI\n",
    "`ljForce() | Loop at 189`: .99 Cycles per Instruction  \n",
    "`line 199`: .72 Cycles per Instruction   \n",
    "`line 207`: 1.48 Cycles per Instruction"
   ]
  },
  {
   "cell_type": "markdown",
   "metadata": {},
   "source": [
    "#### Issue Cycles\n",
    "`ljForce() | Loop at 189`:  \n",
    "-- 4.51e+09 Full Issue | 28.5%  Cycles Issuing Max Instructions  \n",
    "-- 1.60e+07 No Issue | 0.1% Cycles Issuing No Instructions  \n",
    "-- 1.58e+10 Total Cycles   \n",
    "`line 199`:  \n",
    "-- 6.90e+08 Full Issue | 29.7% Cycles Issuing Max Instructions  \n",
    "-- 2.00e+06 No Issue | 0.1% Cycles Issuing No Instructions  \n",
    "-- 2.32e+09 Total Cycles  \n",
    "`line 207`:  \n",
    "-- 1.67e+09 Full Issue | 66.0% Cycles Issuing Max Instructions  \n",
    "-- 6.00e+06 No Issue | 0.2% Cycles Issuing No Instructions  \n",
    "-- 2.53e+09 Total Cycles\n",
    "#### Retire Cycles\n",
    "`ljForce() | Loop at 189`:  \n",
    "-- 4.11e+09 Full Retire | 26.0% Cycles Retiring Max Instructions  \n",
    "-- 4.32e+09 No Retire | 27.3% Cycles Retiring No Instructions  \n",
    "-- 1.58e+10 Total Cycles   \n",
    "`line 199`:  \n",
    "-- 8.40e+08 Full Retire | 36.2% Cycles Retiring Max Instructions   \n",
    "-- 5.56e+08 No Retire | 24.0% Cycles Retiring No Instructions  \n",
    "-- 2.32e+09 Total Cycles   \n",
    "`line 207`:  \n",
    "-- 6.58e+08 Full Retire | 26.0% Cycles Retiring Max Instructions  \n",
    "-- 8.16e+08 No Retire | 32.3% Cycles Retiring No Instructions  \n",
    "-- 2.53e+09 Total Cycles"
   ]
  },
  {
   "cell_type": "markdown",
   "metadata": {},
   "source": [
    "### Memory\n",
    "#### Data Cache \n",
    "`ljForce() | Loop at 189`:  \n",
    "-- 4.60e+07 L1 Data Cache Misses | 0.6% L1 Cache Miss Rate  \n",
    "-- 1.55e+07 L2 Data Cache Misses | 33.7% L2 Cache Miss Rate     \n",
    "-- 7.12e+09 Load/Store Instructions    \n",
    "`line 199`:  \n",
    "-- 2.00e+07 L1 Data Cache Misses | 1.6% L1 Cache Miss Rate  \n",
    "-- 6.72e+06 L2 Data Cache Misses | 33.6% L2 Cache Miss Rate     \n",
    "-- 1.22e+09 Load/Store Instructions  \n",
    "`line 207`:  \n",
    "-- 2.00e+06 L1 Data Cache Misses | 0.2% L1 Cache Miss Rate  \n",
    "-- 6.78e+05 L2 Data Cache Misses | 33.9% L2 Cache Miss Rate       \n",
    "-- 1.24e+09 Load Store Instructions "
   ]
  },
  {
   "cell_type": "code",
   "execution_count": 8,
   "metadata": {},
   "outputs": [
    {
     "data": {
      "text/plain": [
       "0.339"
      ]
     },
     "execution_count": 8,
     "metadata": {},
     "output_type": "execute_result"
    }
   ],
   "source": [
    ".678 / 2"
   ]
  },
  {
   "cell_type": "markdown",
   "metadata": {},
   "source": [
    "\n",
    "\n",
    "---"
   ]
  },
  {
   "cell_type": "markdown",
   "metadata": {},
   "source": [
    "### Memory Density \n",
    "1.67e+10 Load Instructions.  \n",
    "2.88e+09 Store Instructions.   \n",
    "4.02e+10 Total Cycles.   \n",
    "(1.67 + .288) / 4.02 = .487  \n",
    "48.7% Memory Density"
   ]
  },
  {
   "cell_type": "markdown",
   "metadata": {},
   "source": [
    "---  "
   ]
  },
  {
   "cell_type": "markdown",
   "metadata": {
    "collapsed": true
   },
   "source": [
    "   "
   ]
  },
  {
   "cell_type": "code",
   "execution_count": 34,
   "metadata": {},
   "outputs": [
    {
     "data": {
      "text/plain": [
       "649.0439999999999"
      ]
     },
     "execution_count": 34,
     "metadata": {},
     "output_type": "execute_result"
    }
   ],
   "source": [
    "(8.94e+06 * 1e-6) * 72.6\n"
   ]
  },
  {
   "cell_type": "markdown",
   "metadata": {
    "collapsed": true
   },
   "source": [
    "----"
   ]
  },
  {
   "cell_type": "markdown",
   "metadata": {},
   "source": [
    "```\n",
    "| Num Of   |                    Ports pressure in cycles                         |      |\n",
    "|  Uops    |  0  - DV    |  1   |  2  -  D    |  3  -  D    |  4   |  5   |  6   |  7   |\n",
    "-----------------------------------------------------------------------------------------\n",
    "|   1      |             |      | 0.5     0.5 | 0.5     0.5 |      |      |      || mov rdx, qword ptr [rbx+0x18]\n",
    "|   1      |             |      | 0.5     0.5 | 0.5     0.5 |      |      |      || mov r9, qword ptr [rbx+0x20]\n",
    "|   1      |             |      | 0.5     0.5 | 0.5     0.5 |      |      |      || mov r13d, dword ptr [rdx+0xc]\n",
    "|   1*     |             |      |             |             |      |      |      || cmp edi, r13d\n",
    "|   0*F    |             |      |             |             |      |      |      || jnl 0x10\n",
    "|   1      |             |      | 0.5     0.5 | 0.5     0.5 |      |      |      || mov rdx, qword ptr [r9+0x8]\n",
    "|   2      |             |      | 0.5     0.5 | 0.5     0.5 |      |      |      || cmp dword ptr [rdx+rax*1], r10d\n",
    "|   0*F    |             |      |             |             |      |      |      || jle 0x12c\n",
    "|   1      |             |      | 0.5     0.5 | 0.5     0.5 |      |      |      || mov rdx, qword ptr [r9+0x18]\n",
    "|   1      |             |      |             |             |      | 1.0  |      || lea r8, ptr [rsi+rsi*2]\n",
    "|   1      |             |      | 0.5     0.5 | 0.5     0.5 |      |      |      || vmovsd xmm0, qword ptr [rdx+r8*8]\n",
    "|   2      | 0.5         | 0.5  | 0.5     0.5 | 0.5     0.5 |      |||| vsubsd xmm1, xmm0, qword ptr [rdx+rbp*8-0x8]\n",
    "|   1      | 0.5         | 0.5  |             |             |      |      |      || vmulsd xmm0, xmm1, xmm1\n",
    "|   1      | 0.5         | 0.5  |             |             |      |      |      || vaddsd xmm2, xmm0, xmm11\n",
    "|   1      |             |      | 0.5     0.5 | 0.5     0.5 |      |      ||| vmovupd xmm0, xmmword ptr [rdx+r8*8+0x8]\n",
    "|   2      | 0.5         | 0.5  | 0.5     0.5 | 0.5     0.5 |      |||| vsubpd xmm0, xmm0, xmmword ptr [rdx+rbp*8]\n",
    "|   1      | 0.5         | 0.5  |             |             |      |      |      || vmulpd xmm3, xmm0, xmm0\n",
    "|   1      | 0.5         | 0.5  |             |             |      |      |      || vaddsd xmm2, xmm2, xmm3\n",
    "|   1      |             |      |             |             |      | 1.0  |      || vpermilpd xmm3, xmm3, 0x1\n",
    "|   1      | 0.5         | 0.5  |             |             |      |      |      || vaddsd xmm2, xmm2, xmm3\n",
    "|   1      | 1.0         |      |             |             |      |      |      || vucomisd xmm2, xmm7\n",
    "|   1      |             |      |             |             |      |      | 1.0  || jnbe 0xe7\n",
    "|   1      | 1.0     4.0 |      |             |             |      |      |      || vdivsd xmm3, xmm12, xmm2\n",
    "|   1      |             | 1.0  |             |             |      |      |      || vmulsd xmm2, xmm3, xmm3\n",
    "|   1      |             | 1.0  |             |             |      |      |      || vmulsd xmm2, xmm3, xmm2\n",
    "|   1      | 0.5         | 0.5  |             |             |      |      |      || vmulsd xmm4, xmm8, xmm2\n",
    "|   1      | 0.5         | 0.5  |             |             |      |      |      || vaddsd xmm2, xmm4, xmm13\n",
    "|   1      | 0.5         | 0.5  |             |             |      |      |      || vmulsd xmm2, xmm4, xmm2\n",
    "|   1      | 0.5         | 0.5  |             |             |      |      |      || vsubsd xmm2, xmm2, xmm9\n",
    "|   1      | 0.5         | 0.5  |             |             |      |      |      || vmulsd xmm5, xmm2, xmm14\n",
    "|   1      |             |      | 0.5     0.5 | 0.5     0.5 |      |      |      || mov rdx, qword ptr [r9+0x30]\n",
    "|   2      | 0.5         | 0.5  | 0.5     0.5 | 0.5     0.5 |      |      ||| vaddsd xmm6, xmm5, qword ptr [rdx+rsi*8]\n",
    "|   2      |             |      | 0.5         | 0.5         | 1.0  |      |      || vmovsd qword ptr [rdx+rsi*8], xmm6\n",
    "|   2      | 0.5         | 0.5  | 0.5     0.5 | 0.5     0.5 |      |      ||| vaddsd xmm6, xmm5, qword ptr [rdx+rax*2]\n",
    "|   2      |             |      | 0.5         | 0.5         | 1.0  |      |      || vmovsd qword ptr [rdx+rax*2], xmm6\n",
    "|   1*     |             |      |             |             |      |      |      || cmp edi, r13d\n",
    "|   0*F    |             |      |             |             |      |      |      || jl 0x6\n",
    "|   1*     |             |      |             |             |      |      |      || vmovapd xmm2, xmm5\n",
    "|   1      | 0.5         | 0.5  |             |             |      |      |      || vmulsd xmm5, xmm10, xmm4\n",
    "|   1      | 0.5         | 0.5  |             |             |      |      |      || vmulsd xmm3, xmm3, xmm5\n",
    "|   1      | 0.5         | 0.5  |             |             |      |      |      || vmulsd xmm4, xmm4, xmm15\n",
    "|   2^     | 0.5         | 0.5  | 0.5     0.5 | 0.5     0.5 |      |||| vaddsd xmm4, xmm3, qword ptr [rip+0x8963]\n",
    "|   1      | 0.5         | 0.5  |             |             |      |      |      || vmulsd xmm3, xmm3, xmm4\n",
    "|   1      |             |      | 0.5     0.5 | 0.5     0.5 |      |      |      || mov rdx, qword ptr [r9+0x28]\n",
    "|   1      | 0.5         | 0.5  |             |             |      |      |      || vmulsd xmm1, xmm3, xmm1\n",
    "|   1      |             |      | 0.5     0.5 | 0.5     0.5 |      |      |      || vmovsd xmm4, qword ptr [rdx+r8*8]\n",
    "|   1      | 0.5         | 0.5  |             |             |      |      |      || vsubsd xmm4, xmm4, xmm1\n",
    "|   2      |             |      | 0.5         | 0.5         | 1.0  |      |      || vmovsd qword ptr [rdx+r8*8], xmm4\n",
    "|   2      | 0.5         | 0.5  | 0.5     0.5 | 0.5     0.5 |      |      ||| vaddsd xmm1, xmm1, qword ptr [rdx+rbp*8-0x8]\n",
    "|   2      |             |      | 0.5         | 0.5         | 1.0  |      ||| vmovsd qword ptr [rdx+rbp*8-0x8], xmm1\n",
    "|   1      | 0.5         | 0.5  |             |             |      |      |      || vmulsd xmm1, xmm3, xmm0\n",
    "|   1      |             |      | 0.5     0.5 | 0.5     0.5 |      |      ||| vmovsd xmm4, qword ptr [rdx+r8*8+0x8]\n",
    "|   1      | 0.5         | 0.5  |             |             |      |      |      || vsubsd xmm4, xmm4, xmm1\n",
    "|   2      |             |      | 0.5         | 0.5         | 1.0  |      ||| vmovsd qword ptr [rdx+r8*8+0x8], xmm4\n",
    "|   2      | 0.5         | 0.5  | 0.5     0.5 | 0.5     0.5 |      |      ||| vaddsd xmm1, xmm1, qword ptr [rdx+rbp*8]\n",
    "|   2      |             |      | 0.5         | 0.5         | 1.0  |      |      || vmovsd qword ptr [rdx+rbp*8], xmm1\n",
    "|   1      |             |      |             |             |      | 1.0  |      || vpermilpd xmm0, xmm0, 0x1\n",
    "|   1      | 0.5         | 0.5  |             |             |      |      |      || vmulsd xmm0, xmm3, xmm0\n",
    "|   1      |             |      | 0.5     0.5 | 0.5     0.5 |      |      ||| vmovsd xmm1, qword ptr [rdx+r8*8+0x10]\n",
    "|   1      | 0.5         | 0.5  |             |             |      |      |      || vsubsd xmm1, xmm1, xmm0\n",
    "|   2      |             |      | 0.5         | 0.5         | 1.0  |      ||| vmovsd qword ptr [rdx+r8*8+0x10], xmm1\n",
    "|   2      | 0.5         | 0.5  | 0.5     0.5 | 0.5     0.5 |      |||| vaddsd xmm0, xmm0, qword ptr [rdx+rbp*8+0x8]\n",
    "|   2      |             |      | 0.5         | 0.5         | 1.0  |      ||| vmovsd qword ptr [rdx+rbp*8+0x8], xmm0\n",
    "|   1      |             |      | 0.5     0.5 | 0.5     0.5 |      |      |      || vmovsd xmm0, qword ptr [rsp+0x8]\n",
    "|   1      | 0.5         | 0.5  |             |             |      |      |      || vaddsd xmm0, xmm0, xmm2\n",
    "|   2^     |             |      | 0.5         | 0.5         | 1.0  |      |      || vmovsd qword ptr [rsp+0x8], xmm0\n",
    "Total Num Of Uops: 81\n",
    "\n",
    "```"
   ]
  }
 ],
 "metadata": {
  "kernelspec": {
   "display_name": "Python 3",
   "language": "python",
   "name": "python3"
  },
  "language_info": {
   "codemirror_mode": {
    "name": "ipython",
    "version": 3
   },
   "file_extension": ".py",
   "mimetype": "text/x-python",
   "name": "python",
   "nbconvert_exporter": "python",
   "pygments_lexer": "ipython3",
   "version": "3.6.2"
  }
 },
 "nbformat": 4,
 "nbformat_minor": 2
}
