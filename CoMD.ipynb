{
 "cells": [
  {
   "cell_type": "markdown",
   "metadata": {},
   "source": [
    "  "
   ]
  },
  {
   "cell_type": "markdown",
   "metadata": {},
   "source": [
    "  "
   ]
  },
  {
   "cell_type": "markdown",
   "metadata": {},
   "source": [
    "----\n",
    "<a id='CoMD'></a>"
   ]
  },
  {
   "cell_type": "markdown",
   "metadata": {},
   "source": [
    "## CoMD"
   ]
  },
  {
   "cell_type": "markdown",
   "metadata": {},
   "source": [
    "Classical Molecular Dynamics algorithms and workloads\n",
    "\n",
    "**Links:**  \n",
    "[Doxygen Documentation](http://exmatex.github.io/CoMD/doxygen-mpi/index.html)  \n",
    "[github](https://github.com/exmatex/CoMD)  \n",
    "[Lab Home Page](http://www.exmatex.org/comd.html)  "
   ]
  },
  {
   "cell_type": "markdown",
   "metadata": {},
   "source": [
    "Flags: `-std=c99 -DDouble -g -O5 -lm`"
   ]
  },
  {
   "cell_type": "markdown",
   "metadata": {},
   "source": [
    "**Clang hpcrun (on Intel(R) Xeon(R) CPU E5-2699 v4 @ 2.20GHz):**  \n",
    "  \n",
    "CPUTIME: 7.11e+06  \n",
    "95.2% in `ljForce(SimFlat* SimFlat*)` function within `ljForce.c`  \n",
    "92.6% Total Time in `for (int iOff=iBox*MAXATOMS,ii=0; ii<nIBox; ii++,iOff++)` loop, line #185  "
   ]
  },
  {
   "cell_type": "markdown",
   "metadata": {},
   "source": [
    "```c \n",
    "            for (int jOff=MAXATOMS*jBox,ij=0; ij<nJBox; ij++,jOff++)     //% Total CPU Time\n",
    "            {\n",
    "               real_t dr[3];\n",
    "               int jId = s->atoms->gid[jOff];  \n",
    "               if (jBox < s->boxes->nLocalBoxes && jId <= iId )             //10.7%\n",
    "                  continue; // don't double count local-local pairs.\n",
    "               real_t r2 = 0.0;\n",
    "               for (int m=0; m<3; m++)\n",
    "               {\n",
    "                  dr[m] = s->atoms->r[iOff][m]-s->atoms->r[jOff][m];        //17.0%\n",
    "                  r2+=dr[m]*dr[m];                                          //13.2%\n",
    "               }\n",
    "\n",
    "               if ( r2 > rCut2) continue;                                   //10.1%\n",
    "\n",
    "               // Important note:\n",
    "               // from this point on r actually refers to 1.0/r\n",
    "               r2 = 1.0/r2;\n",
    "               real_t r6 = s6 * (r2*r2*r2);\n",
    "               real_t eLocal = r6 * (r6 - 1.0) - eShift;\n",
    "               s->atoms->U[iOff] += 0.5*eLocal;                             //11.2%\n",
    "               s->atoms->U[jOff] += 0.5*eLocal;\n",
    "\n",
    "               // calculate energy contribution based on whether\n",
    "               // the neighbor box is local or remote\n",
    "               if (jBox < s->boxes->nLocalBoxes)\n",
    "                  ePot += eLocal;\n",
    "               else\n",
    "                  ePot += 0.5 * eLocal;\n",
    "\n",
    "               // different formulation to avoid sqrt computation\n",
    "               real_t fr = - 4.0*epsilon*r6*r2*(12.0*r6 - 6.0);\n",
    "               for (int m=0; m<3; m++)\n",
    "               {\n",
    "                  s->atoms->f[iOff][m] -= dr[m]*fr;\n",
    "                  s->atoms->f[jOff][m] += dr[m]*fr;                         //9.8%\n",
    "               }\n",
    "            } // loop over atoms in jBox\n",
    "    \n",
    "```"
   ]
  },
  {
   "cell_type": "markdown",
   "metadata": {},
   "source": [
    "**Heavy Lines:**  \n",
    "**10.7% | ljForce.c - 193 :** `if (jBox < s->boxes->nLocalBoxes && jId <= iId )`  \n",
    "**17.0% | ljForce.c - 198 :** `dr[m] = s->atoms->r[iOff][m]-s->atoms->r[jOff][m];`  \n",
    "**13.2% | ljForce.c - 199 :** `r2+=dr[m]*dr[m];`  \n",
    "**10.1% | ljForce.c - 202 :** `if ( r2 > rCut2) continue;`  \n",
    "**11.2% | ljForce.c - 209 :** `s->atoms->U[iOff] += 0.5*eLocal`  \n",
    "** &nbsp; 9.8% | ljForce.c - 224 :** `s->atoms->f[jOff][m] += dr[m]*fr;`"
   ]
  },
  {
   "cell_type": "markdown",
   "metadata": {},
   "source": [
    " ---\n",
    "\n"
   ]
  },
  {
   "cell_type": "markdown",
   "metadata": {},
   "source": [
    " ### Level 1 Data Cache  Run\n",
    " 1.00e+08 Level 1 Data Cache Misses. \n",
    " 1.38e+08 Load Instructions.  \n",
    " 1.36e+08 Store Instructions.  \n",
    " Level 1 Data Cache Hit Rate: 63.5%"
   ]
  },
  {
   "cell_type": "markdown",
   "metadata": {},
   "source": [
    "---  "
   ]
  },
  {
   "cell_type": "markdown",
   "metadata": {},
   "source": [
    "### Memory Density ??  \n",
    "1.67e+10 Load Instructions.  \n",
    "2.88e+09 Store Instructions.   \n",
    "4.02e+10 Total Cycles.   \n",
    "(1.67 + .288) / 4.02 = .487  \n",
    "48.7% Memory Density"
   ]
  },
  {
   "cell_type": "markdown",
   "metadata": {},
   "source": [
    "  "
   ]
  },
  {
   "cell_type": "markdown",
   "metadata": {},
   "source": [
    "  "
   ]
  },
  {
   "cell_type": "markdown",
   "metadata": {},
   "source": [
    "   "
   ]
  },
  {
   "cell_type": "markdown",
   "metadata": {},
   "source": [
    "  "
   ]
  },
  {
   "cell_type": "markdown",
   "metadata": {
    "collapsed": true
   },
   "source": [
    "   "
   ]
  },
  {
   "cell_type": "code",
   "execution_count": null,
   "metadata": {},
   "outputs": [],
   "source": []
  },
  {
   "cell_type": "code",
   "execution_count": null,
   "metadata": {},
   "outputs": [],
   "source": []
  },
  {
   "cell_type": "code",
   "execution_count": null,
   "metadata": {
    "collapsed": true
   },
   "outputs": [],
   "source": []
  }
 ],
 "metadata": {
  "kernelspec": {
   "display_name": "Python 3",
   "language": "python",
   "name": "python3"
  },
  "language_info": {
   "codemirror_mode": {
    "name": "ipython",
    "version": 3
   },
   "file_extension": ".py",
   "mimetype": "text/x-python",
   "name": "python",
   "nbconvert_exporter": "python",
   "pygments_lexer": "ipython3",
   "version": "3.6.2"
  }
 },
 "nbformat": 4,
 "nbformat_minor": 2
}
