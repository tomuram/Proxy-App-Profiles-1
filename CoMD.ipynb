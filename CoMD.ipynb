{
 "cells": [
  {
   "cell_type": "markdown",
   "metadata": {},
   "source": [
    "  "
   ]
  },
  {
   "cell_type": "markdown",
   "metadata": {},
   "source": [
    "  "
   ]
  },
  {
   "cell_type": "markdown",
   "metadata": {},
   "source": [
    "## CoMD"
   ]
  },
  {
   "cell_type": "markdown",
   "metadata": {},
   "source": [
    "Classical Molecular Dynamics algorithms and workloads\n",
    "\n",
    "**Links:**  \n",
    "[Doxygen Documentation](http://exmatex.github.io/CoMD/doxygen-mpi/index.html)  \n",
    "[github](https://github.com/exmatex/CoMD)  \n",
    "[Lab Home Page](http://www.exmatex.org/comd.html)  "
   ]
  },
  {
   "cell_type": "markdown",
   "metadata": {},
   "source": [
    "### Serial Run\n",
    "(Haswell) Intel(R) Xeon(R) CPU E5-2699 v3 @ 2.30GHz  \n",
    "  \n",
    "CPUTIME: 8.94e+06  \n",
    "94.2% in `ljForce(SimFlat* SimFlat*)` function within `ljForce.c`  \n",
    "76.7% Total Time in `for (int iOff=iBox*MAXATOMS,ii=0; ii<nIBox; ii++,iOff++)` loop, line 189  "
   ]
  },
  {
   "cell_type": "markdown",
   "metadata": {},
   "source": [
    "```c \n",
    "|189|       for (int jOff=MAXATOMS*jBox,ij=0; ij<nJBox; ij++,jOff++)  //76.7% Total CPU Time\n",
    "|190|       {                                                         // 189: 9.9% \n",
    "|191|          real_t dr[3];\n",
    "|192|          int jId = s->atoms->gid[jOff];  \n",
    "|193|          if (jBox < s->boxes->nLocalBoxes && jId <= iId )           //  5.9%\n",
    "|194|             continue; // don't double count local-local pairs.\n",
    "|195|          real_t r2 = 0.0;\n",
    "|196|          for (int m=0; m<3; m++)\n",
    "|197|          {\n",
    "|198|             dr[m] = s->atoms->r[iOff][m]-s->atoms->r[jOff][m];      //  6.4% \n",
    "|199| **          r2+=dr[m]*dr[m];                                        // 11.7%  \n",
    "|200|          }\n",
    "|201|\n",
    "|202|          if ( r2 > rCut2) continue;                                 //  6.8%\n",
    "|203|\n",
    "|204|          // Important note:\n",
    "|205|          // from this point on r actually refers to 1.0/r\n",
    "|206|          r2 = 1.0/r2;\n",
    "|207| **       real_t r6 = s6 * (r2*r2*r2);                               // 12.8%\n",
    "|208|          real_t eLocal = r6 * (r6 - 1.0) - eShift;                  //  5.4%\n",
    "|209|          s->atoms->U[iOff] += 0.5*eLocal;                           //  6.6%  \n",
    "|210|          s->atoms->U[jOff] += 0.5*eLocal;\n",
    "|211|\n",
    "|212|          // calculate energy contribution based on whether\n",
    "|213|          // the neighbor box is local or remote\n",
    "|214|          if (jBox < s->boxes->nLocalBoxes)\n",
    "|215|             ePot += eLocal;\n",
    "|216|          else\n",
    "|217|             ePot += 0.5 * eLocal;\n",
    "|218|\n",
    "|219|          // different formulation to avoid sqrt computation\n",
    "|220|          real_t fr = - 4.0*epsilon*r6*r2*(12.0*r6 - 6.0);\n",
    "|221|          for (int m=0; m<3; m++)\n",
    "|222|          {\n",
    "|223|             s->atoms->f[iOff][m] -= dr[m]*fr;\n",
    "|224|             s->atoms->f[jOff][m] += dr[m]*fr;                         \n",
    "|225|          }\n",
    "|226|       } // loop over atoms in jBox\n",
    "```"
   ]
  },
  {
   "cell_type": "markdown",
   "metadata": {},
   "source": [
    " ---\n",
    "\n"
   ]
  },
  {
   "cell_type": "markdown",
   "metadata": {},
   "source": [
    "clang-5.0.1  \n",
    "-std=c99 -DDOUBLE -g -march=native -O3"
   ]
  },
  {
   "cell_type": "markdown",
   "metadata": {},
   "source": [
    "### CPI\n",
    "`ljForce() | Loop at 189`: .99 Cycles per Instruction  \n",
    "`line 199`: .72 Cycles per Instruction   \n",
    "`line 207`: 1.48 Cycles per Instruction"
   ]
  },
  {
   "cell_type": "markdown",
   "metadata": {},
   "source": [
    "#### Issue Cycles\n",
    "`ljForce() | Loop at 189`:  \n",
    "-- 4.51e+09 Full Issue | 28.5%  Cycles Issuing Max Instructions  \n",
    "-- 1.60e+07 No Issue | 0.1% Cycles Issuing No Instructions  \n",
    "-- 1.58e+10 Total Cycles   \n",
    "`line 199`:  \n",
    "-- 6.90e+08 Full Issue | 29.7% Cycles Issuing Max Instructions  \n",
    "-- 2.00e+06 No Issue | 0.1% Cycles Issuing No Instructions  \n",
    "-- 2.32e+09 Total Cycles  \n",
    "`line 207`:  \n",
    "-- 1.67e+09 Full Issue | 66.0% Cycles Issuing Max Instructions  \n",
    "-- 6.00e+06 No Issue | 0.2% Cycles Issuing No Instructions  \n",
    "-- 2.53e+09 Total Cycles\n",
    "#### Retire Cycles\n",
    "`ljForce() | Loop at 189`:  \n",
    "-- 4.11e+09 Full Retire | 26.0% Cycles Retiring Max Instructions  \n",
    "-- 4.32e+09 No Retire | 27.3% Cycles Retiring No Instructions  \n",
    "-- 1.58e+10 Total Cycles   \n",
    "`line 199`:  \n",
    "-- 8.40e+08 Full Retire | 36.2% Cycles Retiring Max Instructions   \n",
    "-- 5.56e+08 No Retire | 24.0% Cycles Retiring No Instructions  \n",
    "-- 2.32e+09 Total Cycles   \n",
    "`line 207`:  \n",
    "-- 6.58e+08 Full Retire | 26.0% Cycles Retiring Max Instructions  \n",
    "-- 8.16e+08 No Retire | 32.3% Cycles Retiring No Instructions  \n",
    "-- 2.53e+09 Total Cycles"
   ]
  },
  {
   "cell_type": "markdown",
   "metadata": {},
   "source": [
    "### Memory\n",
    "#### Data Cache \n",
    "`ljForce() | Loop at 189`:  \n",
    "-- 4.60e+07 L1 Data Cache Misses | 0.6% L1 Cache Miss Rate  \n",
    "-- 1.55e+07 L2 Data Cache Misses | 66.3% L1 Misses Hit L2   \n",
    "-- 7.12e+09 Load/Store Instructions    \n",
    "`line 199`:  \n",
    "-- 2.00e+07 L1 Data Cache Misses | 1.6% L1 Cache Miss Rate  \n",
    "-- 6.72e+06 L2 Data Cache Misses | 66.4% L1 Misses Hit L2  \n",
    "-- 1.22e+09 Load/Store Instructions  \n",
    "`line 207`:  \n",
    "-- 2.00e+06 L1 Data Cache Misses | 0.2% L1 Cache Miss Rate  \n",
    "-- 6.78e+05 L2 Data Cache Misses | 66.1% L1 Misses Hit L2  \n",
    "-- 1.24e+09 Load Store Instructions "
   ]
  },
  {
   "cell_type": "code",
   "execution_count": 31,
   "metadata": {},
   "outputs": [
    {
     "data": {
      "text/plain": [
       "0.661"
      ]
     },
     "execution_count": 31,
     "metadata": {},
     "output_type": "execute_result"
    }
   ],
   "source": [
    "1 - (.678 / 2)"
   ]
  },
  {
   "cell_type": "markdown",
   "metadata": {},
   "source": [
    "\n",
    "\n",
    "---"
   ]
  },
  {
   "cell_type": "markdown",
   "metadata": {},
   "source": [
    "### Memory Density \n",
    "1.67e+10 Load Instructions.  \n",
    "2.88e+09 Store Instructions.   \n",
    "4.02e+10 Total Cycles.   \n",
    "(1.67 + .288) / 4.02 = .487  \n",
    "48.7% Memory Density"
   ]
  },
  {
   "cell_type": "markdown",
   "metadata": {},
   "source": [
    "---  "
   ]
  },
  {
   "cell_type": "markdown",
   "metadata": {
    "collapsed": true
   },
   "source": [
    "   "
   ]
  },
  {
   "cell_type": "code",
   "execution_count": null,
   "metadata": {
    "collapsed": true
   },
   "outputs": [],
   "source": []
  }
 ],
 "metadata": {
  "kernelspec": {
   "display_name": "Python 3",
   "language": "python",
   "name": "python3"
  },
  "language_info": {
   "codemirror_mode": {
    "name": "ipython",
    "version": 3
   },
   "file_extension": ".py",
   "mimetype": "text/x-python",
   "name": "python",
   "nbconvert_exporter": "python",
   "pygments_lexer": "ipython3",
   "version": "3.6.2"
  }
 },
 "nbformat": 4,
 "nbformat_minor": 2
}
