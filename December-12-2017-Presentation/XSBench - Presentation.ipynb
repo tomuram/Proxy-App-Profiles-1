{
 "cells": [
  {
   "cell_type": "markdown",
   "metadata": {
    "collapsed": true
   },
   "source": [
    "## XSBench\n",
    "A mini-app representing a key computational kernel of the\n",
    "Monte Carlo neutronics application OpenMC.  \n",
    "  \n",
    "  ---\n",
    "clang++-5.0.1 -std=gnu99 -march=native -fopenmp -g -O3  \n",
    "\n",
    "Exec Line:  \n",
    "./XSBench -l 150000000\n",
    "  \n",
    "(**Haswell**) Intel(R) Xeon(R) CPU E5-2699 v3 @ 2.30GHz  \n",
    "\n",
    "`divsd`: 10-20 Cycles  \n",
    "`mulsd`: 5 Cycles  \n",
    "`movsd`: 3 Cycles  \n",
    "L1 Cache: 32 kB, 8 way, 64 sets, 64 B line size, **latency 4**, per core.    \n",
    "L2 Cache: 256 kB, 8 way, 512 sets, 64 B line size, **latency 12**, per core.  \n",
    "L3 Cache: 45 MB, 12-16 way, 64 B line size, **latency 34**, shared.  \n",
    "Branch Misprediction Penalty: **15 - 20 cycles**.  \n",
    "Data from Agner\n",
    "\n",
    "| Empirical Roofline Toolkit | L1 Cache | L2 Cache | L3 Cache | DRAM |\n",
    "|:---|:------:|:--------:|:----------:|:-----|\n",
    "|Cache Lines / Cycle | .9715 | .3050 | 0.2188 | 0.1067 |"
   ]
  },
  {
   "cell_type": "markdown",
   "metadata": {},
   "source": [
    "---\n",
    "#### `XSutils.c::binary_search( )`:\n",
    "\n",
    "|`Loop at Line 59`|  CPUTIME  | Inst per Cycle | L1 DC Miss % | L2 DC Miss % | L3 Miss % | L1 Loads/Cycle | L2 B/W Used | L3 B/W Used | Branch MSP % |\n",
    "|:-----|:------:|:-------:|:-----------------------:|:---:|:---:|:---:|:---:|:---:|:---:|\n",
    "| **Serial Run** | 44.5% | 0.38 | 13.8% | 84.1% | < .1% | 0.10 | 5.5% | 6.4% |3.7% | \n",
    "| **72 Thread Run** | 14.8% | 0.87 |12.1% | 99.3% | < .1% | 0.32 | 15.4% | 21.4% | 1.8% |\n",
    "\n",
    "```c\n",
    "|44|// Binary Search function for nuclide grid\n",
    "|45|// Returns ptr to energy less than the quarry that is closest to the quarry\n",
    "|46|int binary_search( NuclideGridPoint * A, double quarry, int n )\n",
    "|47|{       \n",
    "|48|\tint min = 0;\n",
    "|49|\tint max = n-1;\n",
    "|50|\tint mid;\n",
    "|51|\t\n",
    "|52|\t// checks to ensure we're not reading off the end of the grid\n",
    "|53|\tif( A[0].energy > quarry )                          \n",
    "|54|\t\treturn 0;\n",
    "|55|\telse if( A[n-1].energy < quarry )\n",
    "|56|\t\treturn n-2;\n",
    "|57|\n",
    "```\n",
    "\n",
    "|`Loop at Line 59`|  CPUTIME  | Inst per Cycle | L1 DC Miss % | L2 DC Miss % | L3 Miss % | L1 Loads/Cycle | L2 B/W Used | L3 B/W Used | Branch MSP % |\n",
    "|:-----|:------:|:-------:|:-----------------------:|:---:|:---:|:---:|:---:|:---:|:---:|\n",
    "| **Serial Run** | 32.8% | 0.29 | 10.0% | 84.6% | < .1% | 0.11 | 4.4% | 5.2% | 0.5% |\n",
    "| **72 Thread Run** | 11.2% | 0.88 | 9.9%| 99.0%| < .1% | 0.32 | 9.0% | 12.5% | 1.8% |\n",
    "```c\n",
    "|58|\t// Begins binary search\t\n",
    "|59|\twhile( max >= min )\n",
    "|60|\t{    \n",
    "|61|        \tmid = min + floor( (max-min) / 2.0);\n",
    "|62|\t\tif( A[mid].energy < quarry )   \n",
    "|63|\t\t\tmin = mid+1;\n",
    "|64|\t\telse if( A[mid].energy > quarry )\n",
    "|65|\t\t\tmax = mid-1;\n",
    "|66|\t\telse\n",
    "|67|\t\t\treturn mid;\n",
    "|68|\t}\n",
    "|69|       \treturn max;\n",
    "|70|}\n",
    "```"
   ]
  },
  {
   "cell_type": "markdown",
   "metadata": {},
   "source": [
    "---\n",
    "#### CalculateXS.c::calculate_micro_xs( )\n",
    "\n",
    "|`calculate_micro_xs()`|  CPUTIME  | Inst per Cycle | L1 DC Miss % | L2 DC Miss % | L3 Miss % | L1 Loads/Cycle | L2 B/W Used | L3 B/W Used | DRAM B/W Used| Branch MSP % |\n",
    "|:-----|:------:|:-------:|:-----------------------:|:---:|:---:|:---:|:---:|:---:|:---:|\n",
    "| **Serial Run** | 22.3% | 0.35 | 23.4% | 81.4% | 39.9% | 0.13 | 12.2% | 13.9% | 11.1% | < 0.1% |\n",
    "| **72 Thread Run** | 60.5% | 0.20 | 22.8% | 89.4% | 53.3% | 0.08| 5.6% | 6.9% | 7.6%| < 0.1% | \n",
    "```c\n",
    "  3 // Calculates the microscopic cross section for a given nuclide & energy\n",
    "  4 void calculate_micro_xs(   double p_energy, int nuc, long n_isotopes,\n",
    "  5                            long n_gridpoints,\n",
    "  6                            GridPoint * restrict energy_grid,\n",
    "  7                            NuclideGridPoint ** restrict nuclide_grids,\n",
    "  8                            long idx, double * restrict xs_vector, int grid_type ){\n",
    "  9 \n",
    " 10         // Variables\n",
    " 11         double f;\n",
    " 12         NuclideGridPoint * low, * high;\n",
    " 13 \n",
    " 14         // If using only the nuclide grid, we must perform a binary search\n",
    " 15         // to find the energy location in this particular nuclide's grid.\n",
    " 16         if( grid_type == NUCLIDE )\n",
    " 17         {\n",
    " 18                 // Perform binary search on the Nuclide Grid to find the index\n",
    " 19                 idx = grid_search_nuclide( n_gridpoints, p_energy, nuclide_grids[nuc]);\n",
    " 20 \n",
    " 21                 // pull ptr from nuclide grid and check to ensure that\n",
    " 22                 // we're not reading off the end of the nuclide's grid\n",
    " 23                 if( idx == n_gridpoints - 1 )\n",
    " 24                         low = &nuclide_grids[nuc][idx - 1];\n",
    " 25                 else\n",
    " 26                         low = &nuclide_grids[nuc][idx];\n",
    " 27         }\n",
    " 28         else // Unionized Energy Grid - we already know the index, no binary search needed.\n",
    " 29         {\n",
    " 30                 // pull ptr from energy grid and check to ensure that\n",
    " 31                 // we're not reading off the end of the nuclide's grid\n",
    " 32                 if( energy_grid[idx].xs_ptrs[nuc] == n_gridpoints - 1 )\n",
    " 33                         low = &nuclide_grids[nuc][energy_grid[idx].xs_ptrs[nuc] - 1];\n",
    " 34                 else\n",
    " 35                         low = &nuclide_grids[nuc][energy_grid[idx].xs_ptrs[nuc]];\n",
    " 36         }\n",
    " 37 \n",
    " 38         high = low + 1;\n",
    " 39 \n",
    " 40         // calculate the re-useable interpolation factor\n",
    " 41         f = (high->energy - p_energy) / (high->energy - low->energy);\n",
    " 42 \n",
    " 43         // Total XS\n",
    " 44         xs_vector[0] = high->total_xs - f * (high->total_xs - low->total_xs);\n",
    " 45 \n",
    " 46         // Elastic XS\n",
    " 47         xs_vector[1] = high->elastic_xs - f * (high->elastic_xs - low->elastic_xs);\n",
    " 48 \n",
    " 49         // Absorbtion XS\n",
    " 50         xs_vector[2] = high->absorbtion_xs - f * (high->absorbtion_xs - low->absorbtion_xs);\n",
    " 51 \n",
    " 52         // Fission XS\n",
    " 53         xs_vector[3] = high->fission_xs - f * (high->fission_xs - low->fission_xs);\n",
    " 54 \n",
    " 55         // Nu Fission XS\n",
    " 56         xs_vector[4] = high->nu_fission_xs - f * (high->nu_fission_xs - low->nu_fission_xs);\n",
    "            (...)\n",
    " 69 }\n",
    "```"
   ]
  },
  {
   "cell_type": "markdown",
   "metadata": {},
   "source": [
    "---\n",
    "### Strong Scaling 1 to 72 Threads"
   ]
  },
  {
   "cell_type": "code",
   "execution_count": 7,
   "metadata": {},
   "outputs": [],
   "source": [
    "import matplotlib; import matplotlib.pyplot as plt\n",
    "%matplotlib inline"
   ]
  },
  {
   "cell_type": "code",
   "execution_count": 5,
   "metadata": {},
   "outputs": [
    {
     "data": {
      "image/png": "[encoded data removed]",
      "text/plain": [
       "<matplotlib.figure.Figure at 0x118b94eb8>"
      ]
     },
     "metadata": {},
     "output_type": "display_data"
    }
   ],
   "source": [
    "fig, ax = plt.subplots(); ax.set_xscale('log', basex=2); ax.set_yscale('log', basey=10)\n",
    "ax.set_xlabel('Threads'); ax.set_ylabel('Time (Secs) log10 Scale'); ax.set_xticks([1,2,4,8,16,32,64])\n",
    "ax.get_xaxis().set_major_formatter(matplotlib.ticker.ScalarFormatter())\n",
    "ax.set_yticks([10, 100, 1000]); ax.get_yaxis().set_major_formatter(matplotlib.ticker.ScalarFormatter())\n",
    "ax.plot([1,2,4,8,16,32,64,72], [978.395, 536.988, 281.842, 151.496, 78.176, 45.060, 31.748, 29.771])\n",
    "\n",
    "plt.show()"
   ]
  },
  {
   "cell_type": "code",
   "execution_count": null,
   "metadata": {
    "collapsed": true
   },
   "outputs": [],
   "source": []
  }
 ],
 "metadata": {
  "kernelspec": {
   "display_name": "Python 3",
   "language": "python",
   "name": "python3"
  },
  "language_info": {
   "codemirror_mode": {
    "name": "ipython",
    "version": 3
   },
   "file_extension": ".py",
   "mimetype": "text/x-python",
   "name": "python",
   "nbconvert_exporter": "python",
   "pygments_lexer": "ipython3",
   "version": "3.6.2"
  }
 },
 "nbformat": 4,
 "nbformat_minor": 2
}
