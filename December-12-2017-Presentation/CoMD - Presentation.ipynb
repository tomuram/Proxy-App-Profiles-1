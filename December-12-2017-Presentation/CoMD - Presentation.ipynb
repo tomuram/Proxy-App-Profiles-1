{
 "cells": [
  {
   "cell_type": "markdown",
   "metadata": {},
   "source": [
    "## CoMD\n",
    "Classical molecular dynamics proxy application.  \n",
    "  \n",
    "  ---\n",
    "clang++-5.0.1 -g -O3 -march=native    \n",
    "  \n",
    "(**Haswell**) Intel(R) Xeon(R) CPU E5-2699 v3 @ 2.30GHz   \n",
    "-- **2 Floating Point Mul Ports**. \n",
    "\n",
    "`divsd`: 10-20 Cycles  \n",
    "`mulsd`: 5 Cycles  \n",
    "`movsd`: 3 Cycles  \n",
    "L1 Cache: 32 kB, 8 way, 64 sets, 64 B line size, **latency 4**, per core.    \n",
    "L2 Cache: 256 kB, 8 way, 512 sets, 64 B line size, **latency 12**, per core.  \n",
    "Data from Agner\n",
    "\n",
    "| Empirical Roofline Toolkit | L1 Cache | L2 Cache | L3 Cache | DRAM |\n",
    "|:---|:------:|:--------:|:----------:|:-----|\n",
    "|Cache Lines / Cycle | .9715 | .3050 | 0.2188 | 0.1067 |"
   ]
  },
  {
   "cell_type": "markdown",
   "metadata": {},
   "source": [
    "---\n",
    "### `ljForce.c`\n",
    "#### Slight Changes in openMP source code not shown (except #pragma)\n",
    "```c\n",
    "|144|int ljForce(SimFlat* s)\n",
    "       (...)\n",
    "       #pragma omp parallel for reduction(+:ePot)\n",
    "|169|  for (int iBox=0; iBox<s->boxes->nLocalBoxes; iBox++)\n",
    "         (...)\n",
    "|175|    for (int jTmp=0; jTmp<nNbrBoxes; jTmp++)\n",
    "           (...)\n",
    "|185|      for (int iOff=iBox*MAXATOMS,ii=0; ii<nIBox; ii++,iOff++)\n",
    "             (...)\n",
    "```           \n",
    "|`for ( ) : Line 189`|  CPUTIME  | Inst per Cycle | L1 DC Miss % |  L1 Loads/Cycle |\n",
    "|:---|:---:|:---:|:---:|:---:|:---:|:---:|\n",
    "| **Serial Run** | 76.7%  |   1.01    | 0.6%  | 0.40|\n",
    "|**72 Thread Run** | 53.6%  |    2.12    | 0.4% | 1.02 |\n",
    "```c      \n",
    "|189|        for (int jOff=MAXATOMS*jBox,ij=0; ij<nJBox; ij++,jOff++)\n",
    "|190|        {                                                        \n",
    "|191|          real_t dr[3];\n",
    "|192|          int jId = s->atoms->gid[jOff];  \n",
    "|193|          if (jBox < s->boxes->nLocalBoxes && jId <= iId )      //  5.9% CPUTIME\n",
    "|194|            continue; // don't double count local-local pairs.\n",
    "|195|          real_t r2 = 0.0;\n",
    "|196|          for (int m=0; m<3; m++)\n",
    "|197|          {\n",
    "|198|            dr[m] = s->atoms->r[iOff][m]-s->atoms->r[jOff][m];  //  6.4% CPUTIME\n",
    "```\n",
    "  \n",
    "|`Line 199`|  CPUTIME  | Inst per Cycle | L1 DC Miss % | L1 Loads/Cycle | \n",
    "|:---|:---:|:---:|:---:|:---:|:---:|:---:|\n",
    "| **Serial Run** | 11.7%  |    1.38     | 1.6% |0.48 |\n",
    "|**72 Thread Run** | 9.4%  |    2.40     | 0.6% |1.09 |\n",
    "```c\n",
    "|199|            r2+=dr[m]*dr[m];                                     \n",
    "|200|          }\n",
    "|201|\n",
    "|202|          if ( r2 > rCut2) continue;                            //  6.8% CPUTIME\n",
    "|203|  \n",
    "|204|          // Important note:\n",
    "|205|          // from this point on r actually refers to 1.0/r\n",
    "|206|          r2 = 1.0/r2;\n",
    "```\n",
    "|`Line 207`|  CPUTIME  | Inst per Cycle | L1 DC Miss % | L1 Loads/Cycle | \n",
    "|:---|:---:|:---:|:---:|:---:|:---:|:---:|\n",
    "| **Serial Run** | 12.8%  |    0.68     | 0.2% |0.39 |\n",
    "|**72 Thread Run** | 9.4%  |    1.44    | 0.2% |0.85|\n",
    "                      /*         NOTE: Dependency Chain            */\n",
    "```c        \n",
    "|207|          real_t r6 = s6 * (r2*r2*r2);                           \n",
    "|208|          real_t eLocal = r6 * (r6 - 1.0) - eShift;             //  5.4% CPUTIME\n",
    "|209|          s->atoms->U[iOff] += 0.5*eLocal;                      //  6.6% CPUTIME\n",
    "|210|          s->atoms->U[jOff] += 0.5*eLocal;\n",
    "|211|\n",
    "|212|          // calculate energy contribution based on whether\n",
    "|213|          // the neighbor box is local or remote\n",
    "|214|          if (jBox < s->boxes->nLocalBoxes)\n",
    "|215|            ePot += eLocal;\n",
    "|216|          else\n",
    "|217|            ePot += 0.5 * eLocal;\n",
    "|218|\n",
    "|219|          // different formulation to avoid sqrt computation\n",
    "|220|          real_t fr = - 4.0*epsilon*r6*r2*(12.0*r6 - 6.0);\n",
    "|221|          for (int m=0; m<3; m++)\n",
    "|222|          {\n",
    "|223|            s->atoms->f[iOff][m] -= dr[m]*fr;\n",
    "|224|            s->atoms->f[jOff][m] += dr[m]*fr;                         \n",
    "|225|          }\n",
    "|226|        }// loop over atoms in jBox \n",
    "|227|      } // loop over atoms in iBox\n",
    "|228|    } // loop over neighbor boxes\n",
    "|229|  } // loop over local boxes in system\n",
    "       (...)\n",
    "|236|}       \n",
    "```\n",
    "\n",
    "### Core Bound - FP Operations - Dependency"
   ]
  },
  {
   "cell_type": "markdown",
   "metadata": {
    "collapsed": true
   },
   "source": [
    "---\n",
    "### Strong Scaling "
   ]
  },
  {
   "cell_type": "code",
   "execution_count": 3,
   "metadata": {
    "collapsed": true
   },
   "outputs": [],
   "source": [
    "import matplotlib\n",
    "import matplotlib.pyplot as plt\n",
    "%matplotlib inline"
   ]
  },
  {
   "cell_type": "code",
   "execution_count": 7,
   "metadata": {},
   "outputs": [
    {
     "data": {
      "image/png": "[encoded data removed]",
      "text/plain": [
       "<matplotlib.figure.Figure at 0x1148e13c8>"
      ]
     },
     "metadata": {},
     "output_type": "display_data"
    }
   ],
   "source": [
    "\n",
    "fig,ax = plt.subplots()\n",
    "ax.set_xscale('log', basex=2)\n",
    "ax.set_yscale('log', basey=10)\n",
    "ax.set_xlabel('Threads')\n",
    "ax.set_ylabel('Time (Secs) log10 Scale')\n",
    "ax.set_xticks([1,2,4,8,16,32,64])\n",
    "ax.get_xaxis().set_major_formatter(matplotlib.ticker.ScalarFormatter())\n",
    "# ax.set_yticks([10, 100])\n",
    "# ax.get_yaxis().set_major_formatter(matplotlib.ticker.ScalarFormatter())\n",
    "\n",
    "ax.plot([1,2,4,8,16,32,64,72], [378.010, 192.365, 100.516,54.137,30.542,21.070,18.460,17.745])\n",
    "plt.show()"
   ]
  },
  {
   "cell_type": "code",
   "execution_count": null,
   "metadata": {
    "collapsed": true
   },
   "outputs": [],
   "source": []
  }
 ],
 "metadata": {
  "kernelspec": {
   "display_name": "Python 3",
   "language": "python",
   "name": "python3"
  },
  "language_info": {
   "codemirror_mode": {
    "name": "ipython",
    "version": 3
   },
   "file_extension": ".py",
   "mimetype": "text/x-python",
   "name": "python",
   "nbconvert_exporter": "python",
   "pygments_lexer": "ipython3",
   "version": "3.6.2"
  }
 },
 "nbformat": 4,
 "nbformat_minor": 2
}
