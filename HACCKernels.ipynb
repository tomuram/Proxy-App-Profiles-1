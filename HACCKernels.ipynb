{
 "cells": [
  {
   "cell_type": "markdown",
   "metadata": {},
   "source": [
    "## HACCKernels"
   ]
  },
  {
   "cell_type": "markdown",
   "metadata": {},
   "source": [
    "Time is around 33% in each of 3 versions of this template.  Template prevents detailed breakdown.\n",
    "\n",
    "```c\n",
    "template <int PolyOrder, const float (&PolyCoefficients)[PolyOrder+1]>\n",
    "static void GravityForceKernel(int n, float *RESTRICT x, float *RESTRICT y,\n",
    "                               float *RESTRICT z, float *RESTRICT mass,\n",
    "                               float x0, float y0, float z0,\n",
    "                               float MaxSepSqrd, float SofteningLenSqrd,\n",
    "                               float &RESTRICT ax, float &RESTRICT ay,\n",
    "                               float &RESTRICT az) {\n",
    "  float lax = 0.0f, lay = 0.0f, laz = 0.0f;\n",
    "\n",
    "// As written below, the mass array is conditionally accessed (i.e. accessed\n",
    "// only if the interaction is not filtered by the distance checks). This will\n",
    "// tend to inhibit vectorization on architectures without masked vector loads.\n",
    "// With OpenMP 4+, we can explicitly inform the compiler that vectorization is\n",
    "// safe.\n",
    "#if _OPENMP >= 201307\n",
    "#pragma omp simd reduction(+:lax,lay,laz)\n",
    "#endif\n",
    "  for (int i = 0; i < n; ++i) {\n",
    "    float dx = x[i] - x0, dy = y[i] - y0, dz = z[i] - z0;\n",
    "    float r2 = dx * dx + dy * dy + dz * dz;\n",
    "\n",
    "    if (r2 >= MaxSepSqrd || r2 == 0.0f)\n",
    "      continue;\n",
    "\n",
    "    float r2s = r2 + SofteningLenSqrd;\n",
    "    float f = PolyCoefficients[PolyOrder];\n",
    "    for (int p = 1; p <= PolyOrder; ++p)\n",
    "      f = PolyCoefficients[PolyOrder-p] + r2*f;\n",
    "\n",
    "    f = (1.0f / (r2s * std::sqrt(r2s)) - f) * mass[i];\n",
    "\n",
    "    lax += f * dx;\n",
    "    lay += f * dy;\n",
    "    laz += f * dz; \n",
    "  }\n",
    "\n",
    "  ax += lax;\n",
    "  ay += lay;\n",
    "  az += laz;\n",
    "}\n",
    "```"
   ]
  },
  {
   "cell_type": "markdown",
   "metadata": {},
   "source": [
    "#### Serial Run\n",
    "\n",
    "#### Top Level Characteristics\n",
    "9.55e+06 usec CPUTIME  \n",
    "50.1% of Instructions are Load/Store Instructions  \n",
    "1.00 Cycles per Instruction\n",
    "\n",
    "#### Issue Cycles  \n",
    "2.32e+09 Full Issue | 10.6% Cycles Issuing Max Instructions  \n",
    "1.00e+07 No Issue | less than .1% Cycles Issuing No Instructions  \n",
    "2.18e+10 Total Cycle  \n",
    "  \n",
    "#### Retiring Cycles\n",
    "6.62e+09 Full Retire | 30.4% Cycles Retiring Max Instructions\n",
    "6.62e+09 No Retire | 30.4% Cycles Retiring No Instructions\n",
    "2.18e+10 Total Cycle "
   ]
  },
  {
   "cell_type": "markdown",
   "metadata": {},
   "source": [
    "### Memory\n",
    "#### Data Cache\n",
    "2.80e+07 L1 Data Cache Misses | 0.2% L1 Cache Miss Rate  \n",
    "5.57e+03 L2 Data Cache Misses | over 99.9% L1 Misses Hit L2  \n",
    "1.14e+10 Load/Store Instructions"
   ]
  },
  {
   "cell_type": "code",
   "execution_count": null,
   "metadata": {},
   "outputs": [],
   "source": []
  },
  {
   "cell_type": "code",
   "execution_count": null,
   "metadata": {
    "collapsed": true
   },
   "outputs": [],
   "source": []
  }
 ],
 "metadata": {
  "kernelspec": {
   "display_name": "Python 3",
   "language": "python",
   "name": "python3"
  },
  "language_info": {
   "codemirror_mode": {
    "name": "ipython",
    "version": 3
   },
   "file_extension": ".py",
   "mimetype": "text/x-python",
   "name": "python",
   "nbconvert_exporter": "python",
   "pygments_lexer": "ipython3",
   "version": "3.6.2"
  }
 },
 "nbformat": 4,
 "nbformat_minor": 2
}
