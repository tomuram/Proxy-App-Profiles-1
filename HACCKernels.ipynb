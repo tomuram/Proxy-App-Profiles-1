{
 "cells": [
  {
   "cell_type": "markdown",
   "metadata": {},
   "source": [
    "## HACCKernels"
   ]
  },
  {
   "cell_type": "markdown",
   "metadata": {},
   "source": [
    "```c\n",
    "template <int PolyOrder, const float (&PolyCoefficients)[PolyOrder+1]>\n",
    "static void GravityForceKernel(int n, float *RESTRICT x, float *RESTRICT y,\n",
    "                               float *RESTRICT z, float *RESTRICT mass,\n",
    "                               float x0, float y0, float z0,\n",
    "                               float MaxSepSqrd, float SofteningLenSqrd,\n",
    "                               float &RESTRICT ax, float &RESTRICT ay,\n",
    "                               float &RESTRICT az) {\n",
    "  float lax = 0.0f, lay = 0.0f, laz = 0.0f;\n",
    "\n",
    "// As written below, the mass array is conditionally accessed (i.e. accessed\n",
    "// only if the interaction is not filtered by the distance checks). This will\n",
    "// tend to inhibit vectorization on architectures without masked vector loads.\n",
    "// With OpenMP 4+, we can explicitly inform the compiler that vectorization is\n",
    "// safe.\n",
    "#if _OPENMP >= 201307\n",
    "#pragma omp simd reduction(+:lax,lay,laz)\n",
    "#endif\n",
    "  for (int i = 0; i < n; ++i) {\n",
    "    float dx = x[i] - x0, dy = y[i] - y0, dz = z[i] - z0;\n",
    "    float r2 = dx * dx + dy * dy + dz * dz;\n",
    "\n",
    "    if (r2 >= MaxSepSqrd || r2 == 0.0f)\n",
    "      continue;\n",
    "\n",
    "    float r2s = r2 + SofteningLenSqrd;\n",
    "    float f = PolyCoefficients[PolyOrder];\n",
    "    for (int p = 1; p <= PolyOrder; ++p)\n",
    "      f = PolyCoefficients[PolyOrder-p] + r2*f;\n",
    "\n",
    "    f = (1.0f / (r2s * std::sqrt(r2s)) - f) * mass[i];\n",
    "\n",
    "    lax += f * dx;\n",
    "    lay += f * dy;\n",
    "    laz += f * dz; \n",
    "  }\n",
    "\n",
    "  ax += lax;\n",
    "  ay += lay;\n",
    "  az += laz;\n",
    "}\n",
    "```"
   ]
  },
  {
   "cell_type": "markdown",
   "metadata": {},
   "source": [
    "#### Serial Run\n",
    "\n",
    "#### Top Level Characteristics\n",
    "9.55e+06 usec CPUTIME  \n",
    ".98 Cycles per Instruction (2.18e+10 / 2.23e+10)  \n",
    "13.3% of Cycles Issuing Max Instructions  \n",
    "161x Issuing Max Instructions per cycle than no Instructions per Cycle  \n",
    "\n",
    "50.1% of Instructions are Load/Store Instructions\n",
    "\n",
    "61.5% of Cycles Stalled on Any Resource.   \n",
    "30.7% of Cycles Retiring Max Instructions   \n",
    "30.7% of Cycles Retiring no Instructions  // measured together.  Test apart.  \n"
   ]
  },
  {
   "cell_type": "markdown",
   "metadata": {},
   "source": [
    "#### Memory  \n",
    "0.2% Cache Miss Rate  (2.80e+07 L1_DCM / (9.09e+09 LD_INS + 2.27e+09 SR_INS))  \n",
    "99.9% of L1 Cache Misses hit L2 Cache (1 - (5.22e+03 L2_DCM / 2.80e+07 L1_DCM))"
   ]
  },
  {
   "cell_type": "code",
   "execution_count": null,
   "metadata": {},
   "outputs": [],
   "source": []
  },
  {
   "cell_type": "code",
   "execution_count": null,
   "metadata": {
    "collapsed": true
   },
   "outputs": [],
   "source": []
  }
 ],
 "metadata": {
  "kernelspec": {
   "display_name": "Python 3",
   "language": "python",
   "name": "python3"
  },
  "language_info": {
   "codemirror_mode": {
    "name": "ipython",
    "version": 3
   },
   "file_extension": ".py",
   "mimetype": "text/x-python",
   "name": "python",
   "nbconvert_exporter": "python",
   "pygments_lexer": "ipython3",
   "version": "3.6.2"
  }
 },
 "nbformat": 4,
 "nbformat_minor": 2
}
