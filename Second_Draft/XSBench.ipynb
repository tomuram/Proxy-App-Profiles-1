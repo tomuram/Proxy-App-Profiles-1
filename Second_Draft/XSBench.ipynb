{
 "cells": [
  {
   "cell_type": "markdown",
   "metadata": {},
   "source": [
    "## XSBench\n",
    "Compiler: `gcc-7.2.0`  \n",
    "flags: `-std=gnu99 -march=native -fopenmp -g -pg -O3`  \n",
    "libs: `-lm`   \n",
    "  \n",
    "(Haswell) Intel(R) Xeon(R) CPU E5-2699 v3 @ 2.30GHz  \n",
    "`divsd`: 10-20 Cycles  \n",
    "`movsd`: 3 cycles  \n",
    "L1 Cache: 32 kB, 8 way, 64 sets, 64 B line size, **latency 4**, per core.    \n",
    "L2 Cache: 256 kB, 8 way, 512 sets, 64 B line size, **latency 12**, per core.\n",
    "\n",
    "|   | L1 Cache | L2 Cache | L3 Cache | DRAM |\n",
    "|:---|:------:|:--------:|:----------:|:-----|\n",
    "|**Cache Lines / Cycle** | 1.9728 | 1.2120 | 0.7745 | 0.4402 |\n",
    "\n",
    "\n",
    "### Serial Run\n",
    "---\n",
    "####  `CalculateXS.c::calculate_micro_xs( ) | Line 41`: \n",
    "|  CPUTIME  | Instructions per Cycle | L1 Data Cache Miss Rate | L2 Data Cache Miss Rate |\n",
    "|:---------:|:----------------------:|:-----------------------:|:-----------------------:|\n",
    "| 7.7 %     |    **0.25**            | 13.9%                   |     88.0%               | \n",
    "```c\n",
    "|40|\t// calculate the re-useable interpolation factor\n",
    "|41|\tf = (high->energy - p_energy) / (high->energy - low->energy); \n",
    "```\n",
    "\n",
    "---\n",
    "#### `XSutils.c::binary_search( ) | Loop at 59`:\n",
    "\n",
    "|  CPUTIME  | Instructions per Cycle | L1 Data Cache Miss Rate | L2 Data Cache Miss Rate |\n",
    "|:---------:|:----------------------:|:-----------------------:|:-----------------------:|\n",
    "| 78.9%     |    0.96                | **29.4%**               |     87.9%               |  \n",
    "```c\n",
    "\t// Begins binary search\t // Conditional Branch Misprediction Rate | CPUTIME\n",
    "|59|\twhile( max >= min )                       //              .5% | 78.9%\n",
    "|60|\t{\n",
    "|61|\t\tmid = min + floor( (max-min) / 2.0);  //                  | 17.8% \n",
    "|62|\t\tif( A[mid].energy < quarry )          //             8.3% | 55.8%\n",
    "|63|\t\t\tmin = mid+1;\n",
    "|64|        else if( A[mid].energy > quarry )     //                  |  2.3%\n",
    "|65|\t\t\tmax = mid-1;\n",
    "|66|\t\telse\n",
    "|67|\t\t\treturn mid;\n",
    "|68|    }\n",
    "```\n"
   ]
  },
  {
   "cell_type": "markdown",
   "metadata": {
    "collapsed": true
   },
   "source": [
    "### 72 Thread Run\n",
    "---\n",
    "####  `CalculateXS.c::calculate_micro_xs( )`: \n",
    "|  CPUTIME  | Instructions per Cycle | L1 Data Cache Miss Rate | L2 Data Cache Miss Rate |\n",
    "|:---------:|:----------------------:|:-----------------------:|:-----------------------:|\n",
    "| 3.8 %     |    **0.15**            | 8.0%                   |     74.8%               | \n",
    "```c\n",
    "|40|\t// calculate the re-useable interpolation factor\n",
    "|41|\tf = (high->energy - p_energy) / (high->energy - low->energy); \n",
    "```\n",
    "\n",
    "---\n",
    "#### `XSutils.c::binary_search( )`:\n",
    "\n",
    "|  CPUTIME  | Instructions per Cycle | L1 Data Cache Miss Rate | L2 Data Cache Miss Rate |\n",
    "|:---------:|:----------------------:|:-----------------------:|:-----------------------:|\n",
    "| 20.9%     |    0.37               | **77.7%**               |     93.2%               |  \n",
    "```c\n",
    "|44|// Binary Search function for nuclide grid\n",
    "|45|// Returns ptr to energy less than the quarry that is closest to the quarry\n",
    "|46|int binary_search( NuclideGridPoint * A, double quarry, int n )\n",
    "|47|{       \n",
    "|48|\tint min = 0;\n",
    "|49|\tint max = n-1;\n",
    "|50|\tint mid;\n",
    "|51|\t\n",
    "|52|\t// checks to ensure we're not reading off the end of the grid\n",
    "|53|\tif( A[0].energy > quarry )           // 4.4% Branch Mispredict Rate\n",
    "|54|\t\treturn 0;\n",
    "|55|\telse if( A[n-1].energy < quarry )\n",
    "|56|\t\treturn n-2;\n",
    "|57|\t\n",
    "|58|\t// Begins binary search\t\n",
    "|59|\twhile( max >= min )\n",
    "|60|\t{    \n",
    "|61|        \tmid = min + floor( (max-min) / 2.0);\n",
    "|62|\t\tif( A[mid].energy < quarry )     // 85.7% Branch Mispredict Rate\n",
    "|63|\t\t\tmin = mid+1;\n",
    "|64|\t\telse if( A[mid].energy > quarry )\n",
    "|65|\t\t\tmax = mid-1;\n",
    "|66|\t\telse\n",
    "|67|\t\t\treturn mid;\n",
    "|68|\t}\n",
    "|69|       \treturn max;\n",
    "|70|}\n",
    "```\n",
    "\n"
   ]
  },
  {
   "cell_type": "markdown",
   "metadata": {},
   "source": [
    "`__kmp_wait_yield_4` : 54% CPUTIME"
   ]
  },
  {
   "cell_type": "code",
   "execution_count": 9,
   "metadata": {},
   "outputs": [
    {
     "data": {
      "text/plain": [
       "0.00881057268722467"
      ]
     },
     "execution_count": 9,
     "metadata": {},
     "output_type": "execute_result"
    }
   ],
   "source": [
    "4e+06 / 4.54e+08"
   ]
  },
  {
   "cell_type": "code",
   "execution_count": 12,
   "metadata": {},
   "outputs": [
    {
     "data": {
      "text/plain": [
       "0.8565737051792829"
      ]
     },
     "execution_count": 12,
     "metadata": {},
     "output_type": "execute_result"
    }
   ],
   "source": [
    "2.15 / 2.51"
   ]
  },
  {
   "cell_type": "code",
   "execution_count": 15,
   "metadata": {},
   "outputs": [
    {
     "data": {
      "text/plain": [
       "0.860655737704918"
      ]
     },
     "execution_count": 15,
     "metadata": {},
     "output_type": "execute_result"
    }
   ],
   "source": [
    "\n",
    "2.1e+09 / 2.44e+09"
   ]
  },
  {
   "cell_type": "code",
   "execution_count": null,
   "metadata": {
    "collapsed": true
   },
   "outputs": [],
   "source": []
  }
 ],
 "metadata": {
  "kernelspec": {
   "display_name": "Python 3",
   "language": "python",
   "name": "python3"
  },
  "language_info": {
   "codemirror_mode": {
    "name": "ipython",
    "version": 3
   },
   "file_extension": ".py",
   "mimetype": "text/x-python",
   "name": "python",
   "nbconvert_exporter": "python",
   "pygments_lexer": "ipython3",
   "version": "3.6.2"
  }
 },
 "nbformat": 4,
 "nbformat_minor": 2
}
