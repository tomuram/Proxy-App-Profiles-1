{
 "cells": [
  {
   "cell_type": "markdown",
   "metadata": {},
   "source": [
    "## HPCCG\n",
    "clang++-5.0.1 -g -O3 -funroll-loops -march=native    \n",
    "  \n",
    "(Haswell) Intel(R) Xeon(R) CPU E5-2699 v3 @ 2.30GHz  \n",
    "`mulsd`: 5 cycles  \n",
    "`movsd`: 3 cycles  \n",
    "L1 Cache: 32 kB, 8 way, 64 sets, 64 B line size, **latency 4**, per core.    \n",
    "L2 Cache: 256 kB, 8 way, 512 sets, 64 B line size, **latency 12**, per core.\n",
    "\n",
    "|   | L1 Cache | L2 Cache | L3 Cache | DRAM |\n",
    "|:---|:------:|:--------:|:----------:|:-----|\n",
    "|Cache Lines / Cycle | 1.9728 | 1.2120 | 0.7745 | 0.4402 |\n",
    "---\n",
    "### Serial Run 100 100 100"
   ]
  },
  {
   "cell_type": "markdown",
   "metadata": {},
   "source": [
    "|Scope|  CPUTIME  | Instructions per Cycle | L1 Data Cache Miss Rate | \n",
    "|:---|:---:|:---:|:---:|\n",
    "|`HPC_sparsemv( )` | 80.6% CPU |    1.04 Ins / Cycle    | 7.5% L1 Data Cache Miss |\n",
    "```c\n",
    "|66|int HPC_sparsemv( HPC_Sparse_Matrix *A,                  \n",
    "|67|\t\t const double * const x, double * const y)\n",
    "|68|{\n",
    "|69|\n",
    "|70|  const int nrow = (const int) A->local_nrow;\n",
    "|71|\n",
    "|72|#ifdef USING_OMP\n",
    "|73|#pragma omp parallel for\n",
    "|74|#endif\n",
    "|75|  for (int i=0; i< nrow; i++)\n",
    "|76|    {\n",
    "|77|      double sum = 0.0;\n",
    "|78|      const double * const cur_vals = \n",
    "|79|     (const double * const) A->ptr_to_vals_in_row[i];\n",
    "|80|\n",
    "|81|      const int    * const cur_inds = \n",
    "|82|     (const int    * const) A->ptr_to_inds_in_row[i];\n",
    "|83|\n",
    "|84|      const int cur_nnz = (const int) A->nnz_in_row[i];\n",
    "|85|\n",
    "|86|      for (int j=0; j< cur_nnz; j++)                     //  9.9% CPUTIME(E)\n",
    "```\n",
    "|Scope|  CPUTIME  | Instructions per Cycle | L1 Data Cache Miss Rate | \n",
    "|:---|:---:|:---:|:---:|\n",
    "|`sum += cur_vals[j]*x[cur_inds[j]]; ` | **58.8% CPU** |    1.09 Ins / Cycle    | 7.6% L1 Data Cache Miss |\n",
    "```c\n",
    "|87|        sum += cur_vals[j]*x[cur_inds[j]];             \n",
    "|88|      y[i] = sum;\n",
    "|89|    }\n",
    "|90|  return(0);\n",
    "|91|}\n",
    "```\n",
    "\n",
    "\n"
   ]
  },
  {
   "cell_type": "markdown",
   "metadata": {
    "collapsed": true
   },
   "source": [
    "### 72 Thread Run 256 256 256\n",
    "\n",
    "|Scope|  CPUTIME  | Instructions per Cycle | L1 Data Cache Miss Rate |  L2 Data Cache Miss Rate |\n",
    "|:---|:---:|:---:|:---:|:---:|\n",
    "|`HPC_sparsemv( )` | 44.9% CPU |    0.13 Ins / Cycle    | 8.7% L1 Data Cache Miss |65.0% L2 Data Cache Miss |\n",
    "```c\n",
    "|66|int HPC_sparsemv( HPC_Sparse_Matrix *A,                  \n",
    "|67|\t\t const double * const x, double * const y)\n",
    "|68|{\n",
    "|69|\n",
    "|70|  const int nrow = (const int) A->local_nrow;\n",
    "|71|\n",
    "|72|#ifdef USING_OMP\n",
    "|73|#pragma omp parallel for\n",
    "|74|#endif\n",
    "|75|  for (int i=0; i< nrow; i++)\n",
    "|76|    {\n",
    "|77|      double sum = 0.0;\n",
    "|78|      const double * const cur_vals = \n",
    "|79|     (const double * const) A->ptr_to_vals_in_row[i];\n",
    "|80|\n",
    "|81|      const int    * const cur_inds = \n",
    "|82|     (const int    * const) A->ptr_to_inds_in_row[i];\n",
    "|83|\n",
    "|84|      const int cur_nnz = (const int) A->nnz_in_row[i];\n",
    "|85|\n",
    "|86|      for (int j=0; j< cur_nnz; j++)                    \n",
    "```\n",
    "|Scope|  CPUTIME  | Instructions per Cycle | L1 Data Cache Miss Rate | L2 Data Cache Miss Rate |\n",
    "|:---|:---:|:---:|:---:|:---:|\n",
    "|`sum += cur_vals[j]*x[cur_inds[j]]; ` | **38.4% CPU** |    0.12 Ins / Cycle    | 8.7% L1 Data Cache Miss | 64.8% L2 Data Cache Miss |\n",
    "```c\n",
    "|87|        sum += cur_vals[j]*x[cur_inds[j]];             \n",
    "|88|      y[i] = sum;\n",
    "|89|    }\n",
    "|90|  return(0);\n",
    "|91|}\n",
    "```"
   ]
  },
  {
   "cell_type": "code",
   "execution_count": 6,
   "metadata": {},
   "outputs": [
    {
     "data": {
      "text/plain": [
       "0.6476190476190476"
      ]
     },
     "execution_count": 6,
     "metadata": {},
     "output_type": "execute_result"
    }
   ],
   "source": [
    "9.52e+09 / 1.47e+10"
   ]
  },
  {
   "cell_type": "code",
   "execution_count": null,
   "metadata": {
    "collapsed": true
   },
   "outputs": [],
   "source": []
  }
 ],
 "metadata": {
  "kernelspec": {
   "display_name": "Python 3",
   "language": "python",
   "name": "python3"
  },
  "language_info": {
   "codemirror_mode": {
    "name": "ipython",
    "version": 3
   },
   "file_extension": ".py",
   "mimetype": "text/x-python",
   "name": "python",
   "nbconvert_exporter": "python",
   "pygments_lexer": "ipython3",
   "version": "3.6.2"
  }
 },
 "nbformat": 4,
 "nbformat_minor": 2
}
