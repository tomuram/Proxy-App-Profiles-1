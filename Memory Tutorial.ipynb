{
 "cells": [
  {
   "cell_type": "markdown",
   "metadata": {},
   "source": [
    "### TODO: Discussion of Decision Tree and Problem\n",
    "\n",
    "<a href=#MemoryBound>Memory Bound</a>"
   ]
  },
  {
   "cell_type": "markdown",
   "metadata": {},
   "source": [
    "L1: L1 can do partial loads, cannot assume full cacheline. Look to see how many loads/cycle are being completed: `L1_Hit_Rate * LD_Instructions / Application_Cycles = L1_Loads_per_Cycle` vs. # Load Ports Available"
   ]
  },
  {
   "cell_type": "markdown",
   "metadata": {},
   "source": [
    "<a name='MemoryBound'/></a>\n",
    "\n",
    "## Memory Bound \n",
    "\n",
    "#### Memory Bandwidth Bound?\n",
    "\n",
    "1. <a href=#Roofline>Measure system with Empirical Roofline Toolkit</a>\n",
    "2. <a href=#HPCToolkit>Measure application with HPCToolkit</a>\n",
    "3. <a href=#HPCViewer>Collect the data with HPCViewer</a>\n",
    "4. <a href=#Analyze>Analyze the data</a>\n",
    "\n"
   ]
  },
  {
   "cell_type": "markdown",
   "metadata": {},
   "source": [
    "<a name='Roofline'/></a>\n",
    "### 1. Measure the System with Empirical Roofline ToolKit\n",
    "```\n",
    "git clone https://bitbucket.org/berkeleylab/cs-roofline-toolkit.git\n",
    "cd cs-roofline-toolkit/Empirical_Roofline_Tool-1.1.0\n",
    "```\n",
    "// TODO: Edit/Rename existing config file in Config directory // Explain some values or point to ERT Doc?  \n",
    "```\n",
    "./ert /Path/to/your/config.file\n",
    "```\n",
    "View the .ps file in the results directory\n",
    "![](assets/roofline.png)\n",
    "Extract the Data"
   ]
  },
  {
   "cell_type": "code",
   "execution_count": 4,
   "metadata": {
    "collapsed": true
   },
   "outputs": [],
   "source": [
    "# Data From Roofline\n",
    "Roofline_Bandwidth = {}\n",
    "Roofline_Bandwidth['L1'] = 2399.9 # GB/s\n",
    "Roofline_Bandwidth['L2']  = 784.0 # GB/s\n",
    "Roofline_Bandwidth['L3']  = 564.8 # GB/s\n",
    "Roofline_Bandwidth['DRAM']  = 60.4 # GB/s"
   ]
  },
  {
   "cell_type": "markdown",
   "metadata": {},
   "source": [
    "#### Collect Additional System Data"
   ]
  },
  {
   "cell_type": "code",
   "execution_count": 5,
   "metadata": {
    "collapsed": true
   },
   "outputs": [],
   "source": [
    "# Collect information from other sources\n",
    "BYTES_per_CACHELINE = 64 # Bytes per Cacheline # From Documentation\n",
    "CPU_MHz = 2301.0 # MHz # From lscpu or /proc/cpuinfo"
   ]
  },
  {
   "cell_type": "markdown",
   "metadata": {},
   "source": [
    "<a name='HPCToolkit'/></a>\n",
    "### 2. Measure the Application with HPCToolkit\n",
    "#### Build Application with Debug Symbols and Optimization Options\n",
    "```\n",
    "clang -g -O3 ...\n",
    "```\n",
    "#### View Available Events:  \n",
    "`hpcrun -L <.exe>`\n",
    "![](assets/hpcrunList.png)\n",
    "#### Choose Desired Events and Measure\n",
    "```\n",
    "hpcrun -e <event1> -e <event2> ... -e <eventN> \\\n",
    "    -o MeasurementDirectory <.exe> [application options]\n",
    "```\n",
    "Repeat `hpcrun` as needed to collect all desired measurements. Notes:\n",
    "1. When collecting same measurement into same measurement directory it sums them into one value.\n",
    "2. Measure Total Cycles by itself, counter can be effected by others\n",
    "    TODO: Figure out why exactly\n",
    "3. Total Cycles is sum of all threads\n",
    "4. Some events may conflict without proper error message\n",
    "\n",
    "#### Build Binary Structure File\n",
    "```\n",
    "hpcstruct <.exe>\n",
    "```\n",
    "#### Build HPCToolkit Database\n",
    "```\n",
    "hpcprof -S <.exe>.hpcstruct -I /Path/to/Src/'+' -o OutputDirectory MeasurementDirectory\n",
    "```\n",
    "*Note: '+' Recursively Searches that Directory*"
   ]
  },
  {
   "cell_type": "markdown",
   "metadata": {},
   "source": [
    "<a name='HPCViewer'></a>\n",
    "### 3. Collect the Data with HPCToolkit //  TODO: point to their doc?\n",
    "`hpcviewer /Path/to/OutputDirectory`  \n",
    "![](Hotpath or whole thing?)\n",
    "Where is it spending its time.  \n",
    "Grab Data from Important Part.  **Can't automate easily**\n"
   ]
  },
  {
   "cell_type": "markdown",
   "metadata": {},
   "source": [
    "<a name='Analyze'/></a>\n",
    "### 4. Analyze the Data"
   ]
  },
  {
   "cell_type": "code",
   "execution_count": 28,
   "metadata": {
    "collapsed": true
   },
   "outputs": [],
   "source": [
    "# Measurements from HPCToolkit\n",
    "\n",
    "# TODO: Discuss the various ways to count this?\n",
    "BW_Used = {}\n",
    "BW_Used['L2'] = L1_misses = 2.76e+10 #1.52e+10 # Cachelines\n",
    "BW_Used['L3'] = L2_misses = 1.67e+10 #1.06e+10 # Cachelines\n",
    "BW_Used['DRAM'] = L3_misses = 6.53e+09 - 2e+06 #1.04e+09 # Cachelines\n",
    "\n",
    "Total_Cycles =  5.15e+11 # 1.42e+12 # cycles\n",
    "\n",
    "Threads = 1"
   ]
  },
  {
   "cell_type": "code",
   "execution_count": 29,
   "metadata": {
    "collapsed": true
   },
   "outputs": [],
   "source": [
    "# Conversion Constants\n",
    "BYTES_per_GB = 1073741824\n",
    "CYCLES_per_SEC_per_MHz = 1000000"
   ]
  },
  {
   "cell_type": "code",
   "execution_count": 30,
   "metadata": {},
   "outputs": [
    {
     "name": "stdout",
     "output_type": "stream",
     "text": [
      "L2 Bandwidth Used: 0.94%\n",
      "L3 Bandwidth Used: 0.79%\n",
      "DRAM Bandwidth Used: 2.88%\n"
     ]
    }
   ],
   "source": [
    "# Do Some Conversions\n",
    "\n",
    "# Measured Cycles to Seconds\n",
    "CYCLES_per_SEC = CPU_MHz * CYCLES_per_SEC_per_MHz\n",
    "Application_Run_Cycles = Total_Cycles / Threads # Total Cycles counted on each thread\n",
    "Application_Seconds = Application_Run_Cycles / CYCLES_per_SEC\n",
    "\n",
    "# Convert HPCToolkit Measurement to GB/sec\n",
    "# Cachelines to Bytes to GBs / Cycles to sec\n",
    "for CacheName, Cachelines in BW_Used.items():\n",
    "    Bytes_Used = Cachelines * BYTES_per_CACHELINE # Bytes\n",
    "    GB_Used = Bytes_Used / BYTES_per_GB # GBs\n",
    "    Application_BW = GB_Used / Application_Seconds # GB/sec\n",
    "\n",
    "    # Compare with roofline results\n",
    "    Utilization = Application_BW / Roofline_Bandwidth[CacheName]\n",
    "    print('{} Bandwidth Used: {:.2f}%'.format(CacheName, Utilization * 100))"
   ]
  },
  {
   "cell_type": "markdown",
   "metadata": {},
   "source": [
    "If bandwidth utilization is low, but application is bound on memory then most likely bound by memory latency."
   ]
  },
  {
   "cell_type": "code",
   "execution_count": null,
   "metadata": {},
   "outputs": [],
   "source": []
  }
 ],
 "metadata": {
  "kernelspec": {
   "display_name": "Python 3",
   "language": "python",
   "name": "python3"
  },
  "language_info": {
   "codemirror_mode": {
    "name": "ipython",
    "version": 3
   },
   "file_extension": ".py",
   "mimetype": "text/x-python",
   "name": "python",
   "nbconvert_exporter": "python",
   "pygments_lexer": "ipython3",
   "version": "3.6.2"
  }
 },
 "nbformat": 4,
 "nbformat_minor": 2
}
