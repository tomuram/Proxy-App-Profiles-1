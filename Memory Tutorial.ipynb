{
 "cells": [
  {
   "cell_type": "markdown",
   "metadata": {},
   "source": [
    "# Utilizing Observations to Create Application Characterization\n",
    "Workflow:  \n",
    "1. Gather Context starting with recording build options and run options\n",
    "2. Decide on Important part(s) of Application to Analyze\n",
    "3. Gather Observations with HPCToolkit\n",
    "4. Perform Analysis\n",
    "\n",
    "### Create Application Characterization from Observations\n",
    "1. <a href=#Scaling>Scaling</a>  \n",
    "2. <a href=#IPC>Instructions per Cycle</a>  \n",
    "3. <a href=#MemoryBound>Memory Bound</a>  \n",
    "\n",
    "---\n",
    "### Using HPCToolkit\n",
    "#### Build Application with Debug Symbols and Optimization Options\n",
    "```\n",
    "clang -g -O3 ...\n",
    "```\n",
    "#### To View Available Events:  \n",
    "`hpcrun -L <.exe>`\n",
    "![](assets/hpcrunList.png)\n",
    "\n",
    "### Basic HPCToolkit Workflow\n",
    "#### 1. Choose Desired Events and Measure\n",
    "```\n",
    "hpcrun -e <eventName1> -e <eventName2> ... -e <eventNameN> \\\n",
    "    -o MeasurementDirectory <.exe> [application options]\n",
    "```\n",
    "Repeat `hpcrun` as needed to collect all desired measurements.  \n",
    "  \n",
    "**Notes:**\n",
    "1. *When collecting same measurement into same measurement directory it sums them into one value.*\n",
    "2. *Measure Total Cycles carefully, counter can be effected by others*\n",
    "    TODO: Figure out why exactly\n",
    "3. *Total Cycles/CPUTIME is sum of all threads*\n",
    "4. *Some events may conflict without proper error message*\n",
    "\n",
    "#### 2. Build Binary Structure File\n",
    "```\n",
    "hpcstruct <.exe>\n",
    "```\n",
    "*Notes:*\n",
    "1. *Only need to run hpcstruct once*\n",
    "\n",
    "#### 3. Build HPCToolkit Database\n",
    "```\n",
    "hpcprof -S <.exe>.hpcstruct -I /Path/to/Src/'+' -o OutputDirectory MeasurementDirectory\n",
    "```\n",
    "*Notes:*   \n",
    "1. *'+' Recursively Searches that Directory*  \n",
    "2. *May include multiple `-I` arguments and multiple MeasurementDirectories*\n",
    "\n",
    "#### 4. View HPCToolkit Database\n",
    "```\n",
    "hpcviewer OutputDirectory\n",
    "```\n"
   ]
  },
  {
   "cell_type": "markdown",
   "metadata": {},
   "source": [
    "---\n",
    "<a name='Scaling'/></a>\n",
    "# Scaling\n",
    "### Gather Machine Information\n",
    "`lstopo-no-graphics`  **or** `vim /proc/cpuinfo`  \n",
    "Number of Cores: 22 Cores per Socket \\* 2 Sockets = 44 Cores  \n",
    "Number of Sockets: 2  \n",
    "Number of Threads: 44 Cores \\* 2 Threads per Core = 88 Threads (Hyperthreading)  \n",
    "  \n",
    "Understanding when hyperthreading starts (OMP affinity) ??? Multiple Sockets ???  \n",
    "**At 44 Threads should be 1 Thread per core with default(scatter affinity)**\n"
   ]
  },
  {
   "cell_type": "markdown",
   "metadata": {},
   "source": [
    "### Gather Time Measurements\n",
    "Measure time for 1 thread. \n",
    "```\n",
    "export OMP_NUM_THREADS=1\n",
    "hpcrun -e CPUTIME -o TimeMeasurements/1Thread <.exe> [application options]\n",
    "hpcstruct <.exe>\n",
    "hpcprof -S <.exe>.hpcstruct -I /Path/to/Src -o outputDatabase TimeMeasurements/*\n",
    "hpcviewer outputDatabase\n",
    "```\n",
    "1 Thread Time = 3.19e+08 usec * 1e+06 usec/sec =  __319 seconds__\n",
    "  \n",
    "**or**\n",
    "```\n",
    "export OMP_NUM_THREADS=1\n",
    "time <.exe> [application options]\n",
    "```\n",
    "Repeat for different number of threads changing OMP_NUM_THREADS and **output name**"
   ]
  },
  {
   "cell_type": "code",
   "execution_count": 155,
   "metadata": {
    "collapsed": true
   },
   "outputs": [],
   "source": [
    "# Conversion Constant\n",
    "USEC_per_SEC = 1e+6\n",
    "\n",
    "# Map to hold measured exe time. Key = # of Threads\n",
    "TIME = {}\n",
    "TIME['1'] = 3.19e+08 / USEC_per_SEC\n",
    "TIME['2'] = (3.71e+08 / 2) / USEC_per_SEC\n",
    "TIME['4'] = (3.80e+08 / 4) / USEC_per_SEC\n",
    "TIME['8'] = (4.12e+08 / 8) / USEC_per_SEC\n",
    "TIME['22'] = (6.69e+08 / 22) / USEC_per_SEC\n",
    "TIME['44'] = (1.13e+09 / 32) / USEC_per_SEC # 1 Thread per Core\n",
    "TIME['88'] = (2.26e+09/ 88) / USEC_per_SEC # 2 Threads per Core"
   ]
  },
  {
   "cell_type": "markdown",
   "metadata": {},
   "source": [
    "### Calculate Perfect Scaling Baseline"
   ]
  },
  {
   "cell_type": "code",
   "execution_count": 156,
   "metadata": {},
   "outputs": [],
   "source": [
    "# Map to hold perfect scaling exe time\n",
    "PerfectTIME = {}\n",
    "# Calculate Perfect Scaling Baseline: Execution Time on 1 Thread / Number of Threads\n",
    "for key in TIME.keys():\n",
    "    PerfectTIME[key] = TIME['1'] / int(key)"
   ]
  },
  {
   "cell_type": "markdown",
   "metadata": {},
   "source": [
    "### Compare Observed with Perfect"
   ]
  },
  {
   "cell_type": "code",
   "execution_count": 157,
   "metadata": {
    "collapsed": true
   },
   "outputs": [],
   "source": [
    "#imports for Graphing\n",
    "import numpy as np\n",
    "import matplotlib.pyplot as plt\n",
    "%matplotlib inline"
   ]
  },
  {
   "cell_type": "code",
   "execution_count": 158,
   "metadata": {},
   "outputs": [
    {
     "data": {
      "image/png": "[encoded data removed]",
      "text/plain": [
       "<matplotlib.figure.Figure at 0x111af7e10>"
      ]
     },
     "metadata": {},
     "output_type": "display_data"
    }
   ],
   "source": [
    "# Plot Measurements\n",
    "Threads = [1,2,4,8,22,44,88]\n",
    "fig, ax = plt.subplots(); ax.set_xscale('log', basex=2); ax.set_xticks(Threads)\n",
    "ax.get_xaxis().set_major_formatter(matplotlib.ticker.ScalarFormatter())\n",
    "ax.plot(Threads, list(TIME.values()), label='Observed Scaling')\n",
    "ax.plot(Threads, list(PerfectTIME.values()), label='Perfect Scaling')\n",
    "ax.legend(); ax.set_xlabel('Threads'); ax.set_ylabel('Seconds')\n",
    "plt.show()"
   ]
  },
  {
   "cell_type": "markdown",
   "metadata": {},
   "source": [
    "---\n",
    "<a name='IPC'/></a>\n",
    "# Instructions per Cycle\n",
    "\n",
    "### Gather Machine Information\n",
    "Agner.org or Documentation\n",
    "Maximum throughput for architecture pipeline = **4**  \n",
    "  \n",
    "*Notes:*\n",
    "1. *Based on decoding 2 instructions per cycle with possibility of fused instructions*\n",
    "2. *Instruction Microcache can hold decoded instructions*\n",
    "\n",
    "**Two Instructions per Cycle per Core is more realistic baseline**"
   ]
  },
  {
   "cell_type": "markdown",
   "metadata": {},
   "source": [
    "Observe Instructions per Cycle\n",
    "```\n",
    "hpcrun -e PAPI_TOT_CYC -e PAPI_TOT_INS \\\n",
    "       -o IPCMeasurements <.exe> [application options]\n",
    "hpcstruct <.exe>\n",
    "hpcprof -S <.exe>.hpcstruct -I /path/to/src -o IPCDatabase IPCMeasurements\n",
    "hpcviewer IPCDatabase\n",
    "```"
   ]
  },
  {
   "cell_type": "code",
   "execution_count": 159,
   "metadata": {},
   "outputs": [
    {
     "name": "stdout",
     "output_type": "stream",
     "text": [
      "40.78 Instructions per Cycle with 88 IPC Baseline\n",
      "0.46 IPC\n"
     ]
    }
   ],
   "source": [
    "Threads = 88\n",
    "Cores = 44\n",
    "Instructions_per_Cycle_per_Core_Baseline = 2\n",
    "Total_Instructions = 3.67e+12\n",
    "Total_Cycles = 7.92e+12 / Threads\n",
    "\n",
    "Instructions_per_Cycle = Total_Instructions / Total_Cycles\n",
    "Instructions_per_Cycle_Baseline = Instructions_per_Cycle_per_Core_Baseline * Cores\n",
    "print('{:.4} Instructions per Cycle with {} IPC Baseline'.format(\n",
    "    Instructions_per_Cycle, Instructions_per_Cycle_Baseline))\n",
    "print('{:.2} IPC'.format(Instructions_per_Cycle / Instructions_per_Cycle_Baseline))"
   ]
  },
  {
   "cell_type": "markdown",
   "metadata": {},
   "source": [
    "---\n",
    "<a name='MemoryBound'/></a>\n",
    "# Memory Bound \n",
    "\n",
    "## L1 Bandwidth\n",
    "\n",
    "L1 Cache: L1 can do partial loads, cannot assume full cacheline. Look to see how many loads/cycle are being completed: `L1_Hit_Rate * LD_Instructions / Application_Cycles = L1_Loads_per_Cycle` vs. # Load Ports Available\n",
    "\n",
    "### Gather Machine Information\n",
    "Agner.org or Documetation  \n",
    "**Number of Load Ports per Core = 2**\n",
    "\n",
    "### Observe L1 Loads\n",
    "```\n",
    "hpcrun -e PAPI_TOT_CYC -e PAPI_L1_DCM -e PAPI_LD_INS \\\n",
    "       -o L1LoadMeasurments <.exe> [application options]\n",
    "hpcstruct <.exe>\n",
    "hpcprof -S <.exe>.hpcstruct -I /path/to/src -o L1LoadDatabase measurementDirectory\n",
    "hpcviewer L1LoadDatabase\n",
    "```\n",
    "### Calculate L1 Loads per Cycle\n"
   ]
  },
  {
   "cell_type": "code",
   "execution_count": 160,
   "metadata": {},
   "outputs": [
    {
     "name": "stdout",
     "output_type": "stream",
     "text": [
      "8.68 Loads per Cycle with 88 Load Ports\n",
      "0.0986 Loads per Cycle per Core\n"
     ]
    }
   ],
   "source": [
    "# Machine Information\n",
    "Threads = 88\n",
    "Cores = 44\n",
    "Load_Ports_per_Core = 2\n",
    "Total_Load_Ports = Load_Ports_per_Core * Cores\n",
    "\n",
    "# Measurements from HPCToolkit\n",
    "PAPI_LD_INS = 7.44e+11\n",
    "PAPI_L1_DCM = 3.32e+10\n",
    "PAPI_TOT_CYC = 7.21e+12 / Threads\n",
    "\n",
    "# Analysis\n",
    "L1_Loads = PAPI_LD_INS - PAPI_L1_DCM\n",
    "L1_Loads_per_Cycle = L1_Loads / PAPI_TOT_CYC\n",
    "print('{:.3} Loads per Cycle with {} Load Ports'.format(L1_Loads_per_Cycle, Total_Load_Ports))\n",
    "print('{:.3} Loads per Cycle per Core'.format(L1_Loads_per_Cycle/ Total_Load_Ports))"
   ]
  },
  {
   "cell_type": "markdown",
   "metadata": {},
   "source": [
    "---\n",
    "## Memory Bandwidth beyond L1 Cache\n",
    "\n",
    "1. <a href=#Roofline>Measure system with Empirical Roofline Toolkit</a>\n",
    "2. <a href=#HPCToolkit>Measure application with HPCToolkit</a>\n",
    "3. <a href=#Analyze>Analyze the data</a>"
   ]
  },
  {
   "cell_type": "markdown",
   "metadata": {},
   "source": [
    "<a name='Roofline'/></a>\n",
    "### 1. Measure the System with Empirical Roofline ToolKit\n",
    "```\n",
    "git clone https://bitbucket.org/berkeleylab/cs-roofline-toolkit.git\n",
    "cd cs-roofline-toolkit/Empirical_Roofline_Tool-1.1.0\n",
    "```\n",
    "// TODO: Edit/Rename existing config file in Config directory // Explain some values or point to ERT Doc?  \n",
    "```\n",
    "./ert /Path/to/your/config.file\n",
    "```\n",
    "View the .ps file in the results directory\n",
    "![](assets/roofline.png)\n",
    "Extract the Data"
   ]
  },
  {
   "cell_type": "code",
   "execution_count": 163,
   "metadata": {
    "collapsed": true
   },
   "outputs": [],
   "source": [
    "# Data From Roofline\n",
    "Roofline_Bandwidth = {}\n",
    "Roofline_Bandwidth['L1'] = 2399.9 # GB/s\n",
    "Roofline_Bandwidth['L2']  = 784.0 # GB/s\n",
    "Roofline_Bandwidth['L3']  = 564.8 # GB/s\n",
    "Roofline_Bandwidth['DRAM']  = 60.4 # GB/s"
   ]
  },
  {
   "cell_type": "markdown",
   "metadata": {},
   "source": [
    "#### Collect Additional System Data"
   ]
  },
  {
   "cell_type": "code",
   "execution_count": 164,
   "metadata": {
    "collapsed": true
   },
   "outputs": [],
   "source": [
    "# Collect information from other sources\n",
    "BYTES_per_CACHELINE = 64 # Bytes per Cacheline # From Documentation\n",
    "CPU_MHz = 2301.0 # MHz # From lscpu or /proc/cpuinfo"
   ]
  },
  {
   "cell_type": "markdown",
   "metadata": {},
   "source": [
    "<a name='HPCToolkit'/></a>\n",
    "### 2. Measure the Application with HPCToolkit\n",
    "#### Choose Desired Events and Measure\n",
    "```\n",
    "hpcrun -e PAPI_L1_DCM -e PAPI_L2_DCM -e PAPI_L2_ICM -e PAPI_L3_TCM \\\n",
    "    -o BWMeasurements <.exe> [application options]\n",
    "hpcrun -e PAPI_TOT_CYC -e PAPI_LD_INS -e PAPI_SR_INS \\\n",
    "    -o BWMeasurements <.exe>\n",
    "hpcstruct <.exe>\n",
    "hpcprof -S <.exe>.hpcstruct -I /Path/to/Src/'+' -o BWDatabase BWMeasurements\n",
    "hpcviewer BWDatabase\n",
    "```"
   ]
  },
  {
   "cell_type": "markdown",
   "metadata": {},
   "source": [
    "<a name='Analyze'/></a>\n",
    "### 3. Analyze the Data"
   ]
  },
  {
   "cell_type": "code",
   "execution_count": 171,
   "metadata": {},
   "outputs": [],
   "source": [
    "# Measurements from HPCToolkit\n",
    "\n",
    "# TODO: Discuss the various ways to count this?\n",
    "BW_Used = {}\n",
    "BW_Used['L2'] = L1_misses = 1.52e+10 # Cachelines\n",
    "BW_Used['L3'] = L2_misses = 1.06e+10 # Cachelines\n",
    "BW_Used['DRAM'] = L3_misses = 1.04e+09 # Cachelines # L3 Misses = L3_TCM - L2_ICM\n",
    "\n",
    "Total_Cycles = 1.42e+12 # cycles\n",
    "\n",
    "Threads = 72"
   ]
  },
  {
   "cell_type": "code",
   "execution_count": 168,
   "metadata": {
    "collapsed": true
   },
   "outputs": [],
   "source": [
    "# Conversion Constants\n",
    "BYTES_per_GB = 1073741824\n",
    "CYCLES_per_SEC_per_MHz = 1000000"
   ]
  },
  {
   "cell_type": "code",
   "execution_count": 167,
   "metadata": {},
   "outputs": [
    {
     "name": "stdout",
     "output_type": "stream",
     "text": [
      "L2 Bandwidth Used: 13.48%\n",
      "L3 Bandwidth Used: 13.05%\n",
      "DRAM Bandwidth Used: 11.97%\n"
     ]
    }
   ],
   "source": [
    "# Do Some Conversions\n",
    "\n",
    "# Measured Cycles to Seconds\n",
    "CYCLES_per_SEC = CPU_MHz * CYCLES_per_SEC_per_MHz\n",
    "Application_Run_Cycles = Total_Cycles / Threads # Total Cycles counted on each thread\n",
    "Application_Seconds = Application_Run_Cycles / CYCLES_per_SEC\n",
    "\n",
    "# Convert HPCToolkit Measurement to GB/sec\n",
    "# Cachelines to Bytes to GBs / Cycles to sec\n",
    "for CacheName, Cachelines in BW_Used.items():\n",
    "    Bytes_Used = Cachelines * BYTES_per_CACHELINE # Bytes\n",
    "    GB_Used = Bytes_Used / BYTES_per_GB # GBs\n",
    "    Application_BW = GB_Used / Application_Seconds # GB/sec\n",
    "\n",
    "    # Compare with roofline results\n",
    "    Utilization = Application_BW / Roofline_Bandwidth[CacheName]\n",
    "    print('{} Bandwidth Used: {:.2f}%'.format(CacheName, Utilization * 100))"
   ]
  },
  {
   "cell_type": "markdown",
   "metadata": {},
   "source": [
    "If bandwidth utilization is low, but application is bound on memory then most likely bound by memory latency."
   ]
  },
  {
   "cell_type": "code",
   "execution_count": null,
   "metadata": {
    "collapsed": true
   },
   "outputs": [],
   "source": []
  }
 ],
 "metadata": {
  "kernelspec": {
   "display_name": "Python 3",
   "language": "python",
   "name": "python3"
  },
  "language_info": {
   "codemirror_mode": {
    "name": "ipython",
    "version": 3
   },
   "file_extension": ".py",
   "mimetype": "text/x-python",
   "name": "python",
   "nbconvert_exporter": "python",
   "pygments_lexer": "ipython3",
   "version": "3.6.2"
  }
 },
 "nbformat": 4,
 "nbformat_minor": 2
}
