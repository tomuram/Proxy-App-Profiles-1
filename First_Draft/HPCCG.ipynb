{
 "cells": [
  {
   "cell_type": "markdown",
   "metadata": {},
   "source": [
    "## HPCCG"
   ]
  },
  {
   "cell_type": "markdown",
   "metadata": {},
   "source": [
    "clang++-5.0.1 -g -O3 -funroll-loops -march=native    \n",
    "./test_HPCCG 100 100 100\n",
    "\n",
    "#### Serial Run\n",
    "(Haswell) Intel(R) Xeon(R) CPU E5-2699 v3 @ 2.30GHz  \n",
    "`mulsd`: 5 cycles  \n",
    "`movsd`: 3 cycles  \n",
    "L1 Cache: 32 kB, 8 way, 64 sets, 64 B line size, **latency 4**, per core.    \n",
    "L2 Cache: 256 kB, 8 way, 512 sets, 64 B line size, **latency 12**, per core."
   ]
  },
  {
   "cell_type": "markdown",
   "metadata": {},
   "source": [
    "|Scope|  CPUTIME  | Instructions per Cycle | L1 Data Cache Miss Rate | \n",
    "|:---|:---:|:---:|:---:|\n",
    "|`HPC_sparsemv( )` | 80.6% CPU |    1.04 Ins / Cycle    | 7.5% L1 Data Cache Miss |\n",
    "```c\n",
    "|66|int HPC_sparsemv( HPC_Sparse_Matrix *A,                  \n",
    "|67|\t\t const double * const x, double * const y)\n",
    "|68|{\n",
    "|69|\n",
    "|70|  const int nrow = (const int) A->local_nrow;\n",
    "|71|\n",
    "|72|#ifdef USING_OMP\n",
    "|73|#pragma omp parallel for\n",
    "|74|#endif\n",
    "|75|  for (int i=0; i< nrow; i++)\n",
    "|76|    {\n",
    "|77|      double sum = 0.0;\n",
    "|78|      const double * const cur_vals = \n",
    "|79|     (const double * const) A->ptr_to_vals_in_row[i];\n",
    "|80|\n",
    "|81|      const int    * const cur_inds = \n",
    "|82|     (const int    * const) A->ptr_to_inds_in_row[i];\n",
    "|83|\n",
    "|84|      const int cur_nnz = (const int) A->nnz_in_row[i];\n",
    "|85|\n",
    "|86|      for (int j=0; j< cur_nnz; j++)                     //  9.9% CPUTIME(E)\n",
    "```\n",
    "|Scope|  CPUTIME  | Instructions per Cycle | L1 Data Cache Miss Rate | \n",
    "|:---|:---:|:---:|:---:|\n",
    "|`sum += cur_vals[j]*x[cur_inds[j]]; ` | **58.8% CPU** |    1.09 Ins / Cycle    | 7.6% L1 Data Cache Miss |\n",
    "```c\n",
    "|87|        sum += cur_vals[j]*x[cur_inds[j]];             \n",
    "|88|      y[i] = sum;\n",
    "|89|    }\n",
    "|90|  return(0);\n",
    "|91|}\n",
    "```\n",
    "\n",
    "#### Memory Latency Bound by `x[cur_inds[j]]`"
   ]
  },
  {
   "cell_type": "markdown",
   "metadata": {},
   "source": [
    "---"
   ]
  },
  {
   "cell_type": "markdown",
   "metadata": {},
   "source": [
    "---"
   ]
  },
  {
   "cell_type": "markdown",
   "metadata": {},
   "source": [
    "#### CPI  \n",
    ".96 Cycles per Instruction in `HPC_sparsemv`.  \n",
    ".91 Cycles per Instruction on line 87. \n",
    "#### Issue Cycles\n",
    "`HPC_sparsemv`:  \n",
    "-- 3.63e+09 Full Issue | 30.3% Cycles Issuing Max Instructions  \n",
    "-- 1.80e+07 No Issue   |  0.2% Cycles Issuing No Instructions  \n",
    "-- 1.20e+10 Total Cycles   \n",
    "line `87`:  \n",
    "-- 1.97e+09 Full Issue | 22.5% Cycles Issuing Max Instructions  \n",
    "-- 1.00e+07 No Issue   |  0.1% Cycles Issuing No Instructions  \n",
    "-- 8.77e+09 Total Cycles   \n",
    "#### Retiring Cycles  \n",
    "`HPC_sparsemv`:   \n",
    "-- 5.77e+09 Full Retire | 48.1% Cycles Retiring Max Instructions  \n",
    "-- 2.83e+09 No Retire   | 23.6% Cycles Retiring No Instructions  \n",
    "-- 1.20e+10 Total Cycles  \n",
    "line `87`:  \n",
    "-- 4.46e+09 Full Retire | 50.9% Cycles Retiring Max Instructions  \n",
    "-- 1.99e+09 No Retire   | 22.7% Cycles Retiring No Instructions  \n",
    "-- 8.77e+09 Total Cycles   "
   ]
  },
  {
   "cell_type": "markdown",
   "metadata": {},
   "source": [
    "### Memory  \n",
    "#### Data Cache  \n",
    "`HPC_sparsemv`:  \n",
    "-- 9.50e+08 L1 Data Cache Misses | 7.5% L1 Cache Miss Rate   \n",
    "-- 3.75e+08 L2 Data Cache Misses | 60.5% L1 Misses Hit L2  \n",
    "-- 1.26e+10 Load/Store Instructions    \n",
    "line `87`:   \n",
    "-- 7.18e+08 L1 Data Cache Misses | 7.6% L1 Cache Miss Rate  \n",
    "-- 2.84e+08 L2 Data Cache Misses | 60.5% L1 Misses Hit L2  \n",
    "-- 9.41e+09 Load/Store Instructions"
   ]
  },
  {
   "cell_type": "code",
   "execution_count": 25,
   "metadata": {},
   "outputs": [
    {
     "data": {
      "text/plain": [
       "0.6044568245125348"
      ]
     },
     "execution_count": 25,
     "metadata": {},
     "output_type": "execute_result"
    }
   ],
   "source": [
    "1 - (.284 / .718)"
   ]
  },
  {
   "cell_type": "code",
   "execution_count": 4,
   "metadata": {},
   "outputs": [
    {
     "data": {
      "text/plain": [
       "1.088939566704675"
      ]
     },
     "execution_count": 4,
     "metadata": {},
     "output_type": "execute_result"
    }
   ],
   "source": [
    "9.55 / 8.77"
   ]
  },
  {
   "cell_type": "markdown",
   "metadata": {
    "collapsed": true
   },
   "source": [
    "```\n",
    "BE             Backend_Bound:                                      54.44 % Slots  [  4.76%]\n",
    "BE/Mem         Backend_Bound.Memory_Bound:                         21.91 % Slots  [  4.76%]\n",
    "BE/Core        Backend_Bound.Core_Bound:                           32.54 % Slots  [  4.76%]\n",
    "BE/Mem         Backend_Bound.Memory_Bound.L1_Bound:                11.41 % Stalls [  4.76%]\n",
    "        This metric estimates how often the CPU was stalled without\n",
    "        loads missing the L1 data cache...\n",
    "        Sampling events:  mem_load_uops_retired.l1_hit:pp mem_load_uops_retired.hit_lfb:pp\n",
    "BE/Core        Backend_Bound.Core_Bound.Ports_Utilization:         26.51 % Clocks [  4.76%] <==\n",
    "        This metric estimates cycles fraction the CPU performance\n",
    "        was potentially limited due to Core computation issues (non\n",
    "        divider-related)...\n",
    "               MUX:                                                 4.76 %       \n",
    "        PerfMon Event Multiplexing accuracy indicator\n",
    "\n",
    "```\n"
   ]
  },
  {
   "cell_type": "code",
   "execution_count": null,
   "metadata": {
    "collapsed": true
   },
   "outputs": [],
   "source": []
  }
 ],
 "metadata": {
  "kernelspec": {
   "display_name": "Python 3",
   "language": "python",
   "name": "python3"
  },
  "language_info": {
   "codemirror_mode": {
    "name": "ipython",
    "version": 3
   },
   "file_extension": ".py",
   "mimetype": "text/x-python",
   "name": "python",
   "nbconvert_exporter": "python",
   "pygments_lexer": "ipython3",
   "version": "3.6.2"
  }
 },
 "nbformat": 4,
 "nbformat_minor": 2
}
