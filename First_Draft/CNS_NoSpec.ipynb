{
 "cells": [
  {
   "cell_type": "markdown",
   "metadata": {},
   "source": [
    "## CNS_NoSpec"
   ]
  },
  {
   "cell_type": "markdown",
   "metadata": {},
   "source": [
    "Compiler: gcc, gfortran  \n",
    "gcc flags: -std=c99 -O2 -ftree-vectorize -DBL_Linux -DBL_FORT_USE_UNDERSCORE  \n",
    "gfortran flags: -O2 -ftree-vectorize -fno-range-check  \n",
    "On Intel(R) Xeon(R) CPU E5-2699 v4 @ 2.20GHz (Broadwell)  "
   ]
  },
  {
   "cell_type": "markdown",
   "metadata": {},
   "source": [
    "#### CPU Time\n",
    "The benchmark exclusive cputime breaks down largely to 3 files.  \n",
    "  \n",
    "60.2% CPU Time exclusively in advance.f90  \n",
    "18.9% CPU Time exclusively in libc  \n",
    "15.0% CPU Time exclusively in fabio.f90"
   ]
  },
  {
   "cell_type": "markdown",
   "metadata": {
    "collapsed": true
   },
   "source": [
    "#### advance.f90 CPU Time\n",
    "29.2% Total CPU Time spent exclusively in `diffterm` subroutine.  8 Loops  \n",
    "19.1% Total CPU Time spent exclusively in `hypterm` subroutine.  3 Loops  \n",
    "11.8% Total CPU Time spent exclusively in `ctoprim` subroutine.  2 Loops  \n",
    "  \n"
   ]
  },
  {
   "cell_type": "markdown",
   "metadata": {},
   "source": [
    "Example Loop: `diffterm` subroutine in advance.f90  \n",
    "5.6% Total CPU Time spent exclusively in this loop.  \n",
    "```fortran\n",
    "    !$OMP PARALLEL PRIVATE(i,j,k)\n",
    "    !$OMP DO\n",
    "    do k=lo(3)-ng,hi(3)+ng\n",
    "       do j=lo(2)-ng,hi(2)+ng\n",
    "          do i=lo(1),hi(1)\n",
    "\n",
    "             ux(i,j,k)= &\n",
    "                   (ALP*(q(i+1,j,k,qu)-q(i-1,j,k,qu)) &\n",
    "                  + BET*(q(i+2,j,k,qu)-q(i-2,j,k,qu)) &\n",
    "                  + GAM*(q(i+3,j,k,qu)-q(i-3,j,k,qu)) &\n",
    "                  + DEL*(q(i+4,j,k,qu)-q(i-4,j,k,qu)))*dxinv(1)\n",
    "\n",
    "             vx(i,j,k)= &\n",
    "                   (ALP*(q(i+1,j,k,qv)-q(i-1,j,k,qv)) &\n",
    "                  + BET*(q(i+2,j,k,qv)-q(i-2,j,k,qv)) &\n",
    "                  + GAM*(q(i+3,j,k,qv)-q(i-3,j,k,qv)) &\n",
    "                  + DEL*(q(i+4,j,k,qv)-q(i-4,j,k,qv)))*dxinv(1)\n",
    "\n",
    "             wx(i,j,k)= &\n",
    "                   (ALP*(q(i+1,j,k,qw)-q(i-1,j,k,qw)) &\n",
    "                  + BET*(q(i+2,j,k,qw)-q(i-2,j,k,qw)) &\n",
    "                  + GAM*(q(i+3,j,k,qw)-q(i-3,j,k,qw)) &\n",
    "                  + DEL*(q(i+4,j,k,qw)-q(i-4,j,k,qw)))*dxinv(1)\n",
    "          enddo\n",
    "       enddo\n",
    "    enddo\n",
    "```"
   ]
  },
  {
   "cell_type": "markdown",
   "metadata": {},
   "source": [
    "####  Subroutine Instruction Breakdown\n",
    "\n",
    "| Subroutine | Load Inst. | Store Inst. | Branch Inst. |\n",
    "|:----------:|:----------:|:-----------:|:------------:|\n",
    "| diffterm   |  90.7%     | 8.3%        | 1.0%         |\n",
    "| hypterm    |  87.8%     | 10.5%       | 1.7%         |\n",
    "| ctoprim    |  70.8%     | 16.0%       | 13.2%        |"
   ]
  },
  {
   "cell_type": "markdown",
   "metadata": {},
   "source": [
    "### L1 Data Cache\n",
    "Hit Rate = 1 - (Misses /(Load Inst + Store Inst))"
   ]
  },
  {
   "cell_type": "code",
   "execution_count": 16,
   "metadata": {},
   "outputs": [
    {
     "data": {
      "text/plain": [
       "0.6506211180124224"
      ]
     },
     "execution_count": 16,
     "metadata": {},
     "output_type": "execute_result"
    }
   ],
   "source": [
    "1 - (4.5 / (7.72 + 5.16))"
   ]
  },
  {
   "cell_type": "markdown",
   "metadata": {},
   "source": [
    "Aggregate L1 Data Cache Hit Rate: 65.1%   \n",
    "  \n",
    "`diffterm` subroutine L1 Data Cache Hit Rate: 69.3%  \n",
    "`hypterm` subroutine L1 Data Cache Hit Rate: 65.2%  \n",
    "`ctoprim` subroutine L1 Data Cache Hit Rate: 51.4%"
   ]
  },
  {
   "cell_type": "code",
   "execution_count": null,
   "metadata": {},
   "outputs": [],
   "source": []
  },
  {
   "cell_type": "code",
   "execution_count": null,
   "metadata": {
    "collapsed": true
   },
   "outputs": [],
   "source": []
  }
 ],
 "metadata": {
  "kernelspec": {
   "display_name": "Python 3",
   "language": "python",
   "name": "python3"
  },
  "language_info": {
   "codemirror_mode": {
    "name": "ipython",
    "version": 3
   },
   "file_extension": ".py",
   "mimetype": "text/x-python",
   "name": "python",
   "nbconvert_exporter": "python",
   "pygments_lexer": "ipython3",
   "version": "3.6.2"
  }
 },
 "nbformat": 4,
 "nbformat_minor": 2
}
