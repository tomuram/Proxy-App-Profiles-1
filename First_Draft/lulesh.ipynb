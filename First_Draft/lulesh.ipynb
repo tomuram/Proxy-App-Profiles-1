{
 "cells": [
  {
   "cell_type": "markdown",
   "metadata": {},
   "source": [
    "## Lulesh\n",
    "\n"
   ]
  },
  {
   "cell_type": "markdown",
   "metadata": {},
   "source": [
    "lulesh spends most of its time (84.2%) exclusively in `lulesh.cc`.  This file is 2813 LOC.  \n",
    "There are a many functions//count it!, in `lulesh.cc` most of while are `static inline`.  \n",
    "  \n",
    "The 2 busiest functions are:\n",
    "`CalcEnergyForElems` 10.3% exclusive CPUTIME  \n",
    "`VoluDer` 9.2% exclusive CPUTIME  "
   ]
  },
  {
   "cell_type": "markdown",
   "metadata": {},
   "source": [
    "```c++\n",
    "static inline\n",
    "void CalcEnergyForElems(Real_t* p_new, Real_t* e_new, Real_t* q_new,\n",
    "                        Real_t* bvc, Real_t* pbvc,\n",
    "                        Real_t* p_old, Real_t* e_old, Real_t* q_old,\n",
    "                        Real_t* compression, Real_t* compHalfStep,\n",
    "                        Real_t* vnewc, Real_t* work, Real_t* delvc, Real_t pmin,\n",
    "                        Real_t p_cut, Real_t  e_cut, Real_t q_cut, Real_t emin,\n",
    "                        Real_t* qq_old, Real_t* ql_old,\n",
    "                        Real_t rho0,\n",
    "                        Real_t eosvmax,\n",
    "                        Index_t length, Index_t *regElemList)\n",
    "{\n",
    "   Real_t *pHalfStep = Allocate<Real_t>(length) ;\n",
    "\n",
    "#pragma omp parallel for firstprivate(length, emin)\n",
    "   for (Index_t i = 0 ; i < length ; ++i) {\n",
    "      e_new[i] = e_old[i] - Real_t(0.5) * delvc[i] * (p_old[i] + q_old[i])\n",
    "         + Real_t(0.5) * work[i];\n",
    "\n",
    "      if (e_new[i]  < emin ) {\n",
    "         e_new[i] = emin ;\n",
    "      }\n",
    "   }\n",
    "\n",
    "   CalcPressureForElems(pHalfStep, bvc, pbvc, e_new, compHalfStep, vnewc,\n",
    "                        pmin, p_cut, eosvmax, length, regElemList);\n",
    "\n",
    "#pragma omp parallel for firstprivate(length, rho0)\n",
    "   for (Index_t i = 0 ; i < length ; ++i) {\n",
    "      Real_t vhalf = Real_t(1.) / (Real_t(1.) + compHalfStep[i]) ;\n",
    "\n",
    "      if ( delvc[i] > Real_t(0.) ) {\n",
    "         q_new[i] /* = qq_old[i] = ql_old[i] */ = Real_t(0.) ;\n",
    "      }\n",
    "      else {\n",
    "         Real_t ssc = ( pbvc[i] * e_new[i]\n",
    "                 + vhalf * vhalf * bvc[i] * pHalfStep[i] ) / rho0 ;\n",
    "\n",
    "         if ( ssc <= Real_t(.1111111e-36) ) {\n",
    "            ssc = Real_t(.3333333e-18) ;\n",
    "         } else {\n",
    "            ssc = SQRT(ssc) ;\n",
    "         }\n",
    "\n",
    "         q_new[i] = (ssc*ql_old[i] + qq_old[i]) ;\n",
    "      }\n",
    "\n",
    "      e_new[i] = e_new[i] + Real_t(0.5) * delvc[i]\n",
    "         * (  Real_t(3.0)*(p_old[i]     + q_old[i])\n",
    "              - Real_t(4.0)*(pHalfStep[i] + q_new[i])) ;\n",
    "   }\n",
    "\n",
    "#pragma omp parallel for firstprivate(length, emin, e_cut)\n",
    "   for (Index_t i = 0 ; i < length ; ++i) {\n",
    "\n",
    "      e_new[i] += Real_t(0.5) * work[i];\n",
    "\n",
    "      if (FABS(e_new[i]) < e_cut) {\n",
    "         e_new[i] = Real_t(0.)  ;\n",
    "      }\n",
    "      if (     e_new[i]  < emin ) {\n",
    "         e_new[i] = emin ;\n",
    "      }\n",
    "   }\n",
    "\n",
    "   CalcPressureForElems(p_new, bvc, pbvc, e_new, compression, vnewc,\n",
    "                        pmin, p_cut, eosvmax, length, regElemList);\n",
    "\n",
    "#pragma omp parallel for firstprivate(length, rho0, emin, e_cut)\n",
    "   for (Index_t i = 0 ; i < length ; ++i){\n",
    "      const Real_t sixth = Real_t(1.0) / Real_t(6.0) ;\n",
    "      Index_t elem = regElemList[i];\n",
    "      Real_t q_tilde ;\n",
    "\n",
    "      if (delvc[i] > Real_t(0.)) {\n",
    "         q_tilde = Real_t(0.) ;\n",
    "      }\n",
    "      else {\n",
    "         Real_t ssc = ( pbvc[i] * e_new[i]\n",
    "                 + vnewc[elem] * vnewc[elem] * bvc[i] * p_new[i] ) / rho0 ;\n",
    "\n",
    "         if ( ssc <= Real_t(.1111111e-36) ) {\n",
    "            ssc = Real_t(.3333333e-18) ;\n",
    "         } else {\n",
    "            ssc = SQRT(ssc) ;\n",
    "         }\n",
    "\n",
    "         q_tilde = (ssc*ql_old[i] + qq_old[i]) ;\n",
    "      }\n",
    "\n",
    "      e_new[i] = e_new[i] - (  Real_t(7.0)*(p_old[i]     + q_old[i])\n",
    "                               - Real_t(8.0)*(pHalfStep[i] + q_new[i])\n",
    "                               + (p_new[i] + q_tilde)) * delvc[i]*sixth ;\n",
    "\n",
    "      if (FABS(e_new[i]) < e_cut) {\n",
    "         e_new[i] = Real_t(0.)  ;\n",
    "      }\n",
    "      if (     e_new[i]  < emin ) {\n",
    "         e_new[i] = emin ;\n",
    "      }\n",
    "   }\n",
    "\n",
    "   CalcPressureForElems(p_new, bvc, pbvc, e_new, compression, vnewc,\n",
    "                        pmin, p_cut, eosvmax, length, regElemList);\n",
    "\n",
    "#pragma omp parallel for firstprivate(length, rho0, q_cut)\n",
    "   for (Index_t i = 0 ; i < length ; ++i){\n",
    "      Index_t elem = regElemList[i];\n",
    "\n",
    "      if ( delvc[i] <= Real_t(0.) ) {\n",
    "         Real_t ssc = ( pbvc[i] * e_new[i]\n",
    "                 + vnewc[elem] * vnewc[elem] * bvc[i] * p_new[i] ) / rho0 ;\n",
    "\n",
    "         if ( ssc <= Real_t(.1111111e-36) ) {\n",
    "            ssc = Real_t(.3333333e-18) ;\n",
    "         } else {\n",
    "            ssc = SQRT(ssc) ;\n",
    "         }\n",
    "\n",
    "         q_new[i] = (ssc*ql_old[i] + qq_old[i]) ;\n",
    "\n",
    "         if (FABS(q_new[i]) < q_cut) q_new[i] = Real_t(0.) ;\n",
    "      }\n",
    "   }\n",
    "\n",
    "   Release(&pHalfStep) ;\n",
    "\n",
    "   return ;\n",
    "}\n",
    "\n",
    "```"
   ]
  },
  {
   "cell_type": "markdown",
   "metadata": {},
   "source": [
    "---"
   ]
  },
  {
   "cell_type": "markdown",
   "metadata": {},
   "source": [
    "```c++\n",
    "static inline\n",
    "void VoluDer(const Real_t x0, const Real_t x1, const Real_t x2,\n",
    "             const Real_t x3, const Real_t x4, const Real_t x5,\n",
    "             const Real_t y0, const Real_t y1, const Real_t y2,\n",
    "             const Real_t y3, const Real_t y4, const Real_t y5,\n",
    "             const Real_t z0, const Real_t z1, const Real_t z2,\n",
    "             const Real_t z3, const Real_t z4, const Real_t z5,\n",
    "             Real_t* dvdx, Real_t* dvdy, Real_t* dvdz)\n",
    "{\n",
    "   const Real_t twelfth = Real_t(1.0) / Real_t(12.0) ;\n",
    "\n",
    "   *dvdx =\n",
    "      (y1 + y2) * (z0 + z1) - (y0 + y1) * (z1 + z2) +\n",
    "      (y0 + y4) * (z3 + z4) - (y3 + y4) * (z0 + z4) -\n",
    "      (y2 + y5) * (z3 + z5) + (y3 + y5) * (z2 + z5);\n",
    "   *dvdy =\n",
    "      - (x1 + x2) * (z0 + z1) + (x0 + x1) * (z1 + z2) -\n",
    "      (x0 + x4) * (z3 + z4) + (x3 + x4) * (z0 + z4) +\n",
    "      (x2 + x5) * (z3 + z5) - (x3 + x5) * (z2 + z5);\n",
    "\n",
    "   *dvdz =\n",
    "      - (y1 + y2) * (x0 + x1) + (y0 + y1) * (x1 + x2) -\n",
    "      (y0 + y4) * (x3 + x4) + (y3 + y4) * (x0 + x4) +\n",
    "      (y2 + y5) * (x3 + x5) - (y3 + y5) * (x2 + x5);\n",
    "\n",
    "   *dvdx *= twelfth;\n",
    "   *dvdy *= twelfth;\n",
    "   *dvdz *= twelfth;\n",
    "}\n",
    "```"
   ]
  },
  {
   "cell_type": "markdown",
   "metadata": {},
   "source": [
    "### Program aggregate metrics"
   ]
  },
  {
   "cell_type": "markdown",
   "metadata": {},
   "source": [
    "`PAPI_TOT_INS` : 1.15e+11  \n",
    "`PAPI_LD_INS` : 5.22e+10  \n",
    "`PAPI_SR_INS` : 1.58e+10  \n",
    "  \n",
    "`(PAPI_LD_INS + PAPI_SR_INS) / PAPI_TOT_INS = 59.1% memory instruction density`"
   ]
  },
  {
   "cell_type": "code",
   "execution_count": 1,
   "metadata": {},
   "outputs": [
    {
     "data": {
      "text/plain": [
       "0.591304347826087"
      ]
     },
     "execution_count": 1,
     "metadata": {},
     "output_type": "execute_result"
    }
   ],
   "source": [
    "(5.22 + 1.58) / 11.5"
   ]
  },
  {
   "cell_type": "code",
   "execution_count": null,
   "metadata": {
    "collapsed": true
   },
   "outputs": [],
   "source": []
  }
 ],
 "metadata": {
  "kernelspec": {
   "display_name": "Python 3",
   "language": "python",
   "name": "python3"
  },
  "language_info": {
   "codemirror_mode": {
    "name": "ipython",
    "version": 3
   },
   "file_extension": ".py",
   "mimetype": "text/x-python",
   "name": "python",
   "nbconvert_exporter": "python",
   "pygments_lexer": "ipython3",
   "version": "3.6.2"
  }
 },
 "nbformat": 4,
 "nbformat_minor": 2
}
