{
 "cells": [
  {
   "cell_type": "markdown",
   "metadata": {},
   "source": [
    "\n"
   ]
  },
  {
   "cell_type": "code",
   "execution_count": 106,
   "metadata": {},
   "outputs": [
    {
     "name": "stdout",
     "output_type": "stream",
     "text": [
      "0.42985754985754987\n"
     ]
    }
   ],
   "source": [
    "# Program Measurements\n",
    "# serial binary\n",
    "LD_INST = 1.64e+11\n",
    "TOT_CYC = 3.51e+11\n",
    "L1_Miss_Rate = .08\n",
    "L2_Miss_Rate = .463\n",
    "L3_Miss_Rate = .399\n",
    "# HPCCG: Program Aggregate\n",
    "#LD_INST = 1.38e+10 \n",
    "#TOT_CYC = 1.45e+10\n",
    "#L1_Miss_Rate = .079\n",
    "\n",
    "# # XSBench: Program Aggregate\n",
    "# LD_INST = 8.99e+10 \n",
    "# TOT_CYC = 9.33e+11\n",
    "# L1_Miss_Rate = .233\n",
    "# L2_Miss_Rate = .204\n",
    "L1_Loads_per_Cycle = (LD_INST * (1 - L1_Miss_Rate)) / TOT_CYC\n",
    "print(L1_Loads_per_Cycle)"
   ]
  },
  {
   "cell_type": "code",
   "execution_count": 107,
   "metadata": {
    "collapsed": true
   },
   "outputs": [],
   "source": [
    "# Machine Measurements\n",
    "# Roofline Thing (Haswell)\n",
    "GB_per_SEC_L1 = 143.1 \n",
    "GB_per_SEC_L2 = 44.9\n",
    "GB_per_SEC_L3 = 32.2\n",
    "BYTE_per_SEC_L1 = GB_per_SEC_L1 * 1073741824\n",
    "BYTE_per_SEC_L2 = GB_per_SEC_L2 * 1073741824\n",
    "BYTE_per_SEC_L3 = GB_per_SEC_L3 * 1073741824\n",
    "\n",
    "# Machine Info\n",
    "Ghz = 2.30 \n",
    "CYC_per_SEC = Ghz * 1e+09\n",
    "\n",
    "BYTE_per_CACHELINE = 64\n",
    "L1_LATENCY = 4\n",
    "L2_LATENCY = 12"
   ]
  },
  {
   "cell_type": "code",
   "execution_count": 108,
   "metadata": {
    "collapsed": true
   },
   "outputs": [],
   "source": [
    "# Event Conversion\n",
    "L1_Hits = LD_INST * (1 - L1_Miss_Rate)\n",
    "L1_Hit_Rate = L1_Hits / LD_INST  \n",
    "L1_Hit_Cycles = L1_Hit_Rate * TOT_CYC\n",
    "#L1_HITS_per_CYC = (L1_Hits / 2) / L1_Hit_Cycles\n",
    "\n",
    "\n",
    "L2_Hits = (LD_INST - L1_Hits) * (1 - L2_Miss_Rate)\n",
    "L2_Hit_Rate = L2_Hits / (LD_INST - L1_Hits)  \n",
    "L2_Hit_Cycles = (L2_Hit_Rate * (TOT_CYC  - L1_Hit_Cycles)) # Can be 2 per cycle\n",
    "#L2_HITS_per_CYC = (L2_Hits / 2) / (L2_Hit_Cycles ) # Can be 2 per cycle\n",
    "#print(L2_HITS_per_CYC)\n",
    "\n",
    "L3_Hits = 8.6e+09\n",
    "L2_Hit_Rate = L2_Hits / (LD_INST - L1_Hits)  \n",
    "L2_Hit_Cycles = (L2_Hit_Rate * (TOT_CYC  - L1_Hit_Cycles))"
   ]
  },
  {
   "cell_type": "code",
   "execution_count": 109,
   "metadata": {},
   "outputs": [
    {
     "name": "stdout",
     "output_type": "stream",
     "text": [
      "0.3275204340869565\n"
     ]
    }
   ],
   "source": [
    "# Roofline Conversion\n",
    "# BYTE_per_CYC_L1 = BYTE_per_SEC_L1 / CYC_per_SEC\n",
    "# CACHELINE_per_CYC_L1 = BYTE_per_CYC_L1 / BYTE_per_CACHELINE\n",
    "\n",
    "BYTE_per_CYC_L2 = BYTE_per_SEC_L2 / CYC_per_SEC\n",
    "CACHELINE_per_CYC_L2 = BYTE_per_CYC_L2 / BYTE_per_CACHELINE\n",
    "print(CACHELINE_per_CYC_L2)\n",
    "\n",
    "BYTE_per_CYC_L3 = BYTE_per_SEC_L3 / CYC_per_SEC\n",
    "CACHELINE_per_CYC_L3 = BYTE_per_CYC_L3 / BYTE_per_CACHELINE"
   ]
  },
  {
   "cell_type": "code",
   "execution_count": 115,
   "metadata": {},
   "outputs": [
    {
     "name": "stdout",
     "output_type": "stream",
     "text": [
      "23.71% of Max L2 Bandwidth Used\n",
      "7045439999.999999\n",
      "21.06% of Max L3 Bandwidth Used\n",
      "0.42985754985754987\n"
     ]
    }
   ],
   "source": [
    "# Result\n",
    "# L1_Mem_Bandwidth_Used_Perc = (L1_HITS_per_CYC / CACHELINE_per_CYC_L1) * 100\n",
    "# print(\"{:.2f}% of Max L1 Bandwidth Used\".format(L1_Mem_Bandwidth_Used_Perc))\n",
    "\n",
    "#L2_Mem_Bandwidth_Used_Perc = (L2_HITS_per_CYC / CACHELINE_per_CYC_L2) * 100\n",
    "L2_Mem_Bandwidth_Used_Perc = (1.32e+08 / (CACHELINE_per_CYC_L2 * (1.7e+09)) * 100)\n",
    "print(\"{:.2f}% of Max L2 Bandwidth Used\".format(L2_Mem_Bandwidth_Used_Perc))\n",
    "print(L2_Hits)\n",
    "\n",
    "L3_Mem_Bandwidth_Used_Perc = (8.41e+07 / (CACHELINE_per_CYC_L3 * (1.7e+09)) * 100)\n",
    "print(\"{:.2f}% of Max L3 Bandwidth Used\".format(L3_Mem_Bandwidth_Used_Perc))\n",
    "\n",
    "print(L1_Loads_per_Cycle)"
   ]
  },
  {
   "cell_type": "markdown",
   "metadata": {},
   "source": [
    "\n",
    "### Latency // Check This?"
   ]
  },
  {
   "cell_type": "code",
   "execution_count": 223,
   "metadata": {
    "collapsed": true
   },
   "outputs": [],
   "source": [
    "L1_CYCLES_from_LATENCY_by_BYTE = L1_Hits * L1_LATENCY * BYTE_per_CACHELINE\n",
    "\n",
    "\n",
    "# L2_CYCLES_from_LATENCY_by_BYTE = L2_Hits * L2_LATENCY * BYTE_per_CACHELINE\n"
   ]
  },
  {
   "cell_type": "code",
   "execution_count": 225,
   "metadata": {},
   "outputs": [
    {
     "name": "stdout",
     "output_type": "stream",
     "text": [
      "100.39% L1 Latency Pressure\n"
     ]
    }
   ],
   "source": [
    "NUM_BYTES_L1 = BYTE_per_CYC_L1 * TOT_CYC\n",
    "LATENCY_PRESSURE_L1 = (L1_CYCLES_from_LATENCY_by_BYTE / NUM_BYTES_L1) * 100\n",
    "print(\"{:.2f}% L1 Latency Pressure\".format(LATENCY_PRESSURE_L1))\n",
    "\n",
    "# NUM_BYTES_L2 = BYTE_per_CYC_L2 * TOT_CYC\n",
    "# LATENCY_PRESSURE_L2 = L2_CYCLES_from_LATENCY_by_BYTE / NUM_BYTES_L2\n",
    "# print(\"{:.2f}%\".format(LATENCY_PRESSURE_L2))"
   ]
  },
  {
   "cell_type": "code",
   "execution_count": 116,
   "metadata": {},
   "outputs": [
    {
     "data": {
      "text/plain": [
       "0.14831460674157304"
      ]
     },
     "execution_count": 116,
     "metadata": {},
     "output_type": "execute_result"
    }
   ],
   "source": [
    "1.32e+08 / (6.4e+08 + 2.5e+08)"
   ]
  },
  {
   "cell_type": "code",
   "execution_count": 117,
   "metadata": {},
   "outputs": [
    {
     "data": {
      "text/plain": [
       "0.28310588235294115"
      ]
     },
     "execution_count": 117,
     "metadata": {},
     "output_type": "execute_result"
    }
   ],
   "source": [
    "(6.4e+08 * (1-.248)) / 1.7e+09"
   ]
  },
  {
   "cell_type": "code",
   "execution_count": 111,
   "metadata": {},
   "outputs": [
    {
     "data": {
      "text/plain": [
       "1.0123456790123457"
      ]
     },
     "execution_count": 111,
     "metadata": {},
     "output_type": "execute_result"
    }
   ],
   "source": [
    "2.46e+11 / 2.43e+11"
   ]
  },
  {
   "cell_type": "code",
   "execution_count": null,
   "metadata": {
    "collapsed": true
   },
   "outputs": [],
   "source": []
  }
 ],
 "metadata": {
  "kernelspec": {
   "display_name": "Python 3",
   "language": "python",
   "name": "python3"
  },
  "language_info": {
   "codemirror_mode": {
    "name": "ipython",
    "version": 3
   },
   "file_extension": ".py",
   "mimetype": "text/x-python",
   "name": "python",
   "nbconvert_exporter": "python",
   "pygments_lexer": "ipython3",
   "version": "3.6.2"
  }
 },
 "nbformat": 4,
 "nbformat_minor": 2
}
