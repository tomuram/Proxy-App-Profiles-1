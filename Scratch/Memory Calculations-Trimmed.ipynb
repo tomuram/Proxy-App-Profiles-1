{
 "cells": [
  {
   "cell_type": "markdown",
   "metadata": {},
   "source": [
    "## HPCCG Line 87 `sum += cur_vals[j]*x[cur_inds[j]];`\n"
   ]
  },
  {
   "cell_type": "code",
   "execution_count": 73,
   "metadata": {
    "collapsed": true
   },
   "outputs": [],
   "source": [
    "# Program Measurements\n",
    "# HPCCG: Line 87 Events:  \n",
    "LD_INST = 9.19e+09  \n",
    "TOT_CYC = 8.71e+09\n",
    "L1_Miss_Rate = .075"
   ]
  },
  {
   "cell_type": "code",
   "execution_count": 116,
   "metadata": {
    "collapsed": true
   },
   "outputs": [],
   "source": [
    "# Machine Measurements\n",
    "# Roofline Thing (Haswell)\n",
    "ERT_GB_per_SEC_L1 = 143.1 \n",
    "ERT_BYTE_per_SEC_L1 = ERT_GB_per_SEC_L1 * 1073741824\n",
    "\n",
    "# Machine Info\n",
    "Ghz = 2.30 \n",
    "CYC_per_SEC = Ghz * 1e+09\n",
    "\n",
    "BYTE_per_CACHELINE = 64 # ?????  Getting Compared to 32? from roofline?\n",
    "L1_LATENCY = 4"
   ]
  },
  {
   "cell_type": "code",
   "execution_count": 117,
   "metadata": {},
   "outputs": [],
   "source": [
    "# Event Conversion\n",
    "L1_Hits = LD_INST * (1 - L1_Miss_Rate)\n",
    "L1_Hit_Rate = L1_Hits / LD_INST  \n",
    "L1_Hit_Cycles = L1_Hit_Rate * TOT_CYC #  Check this step\n",
    "L1_HITS_per_CYC = L1_Hits / L1_Hit_Cycles "
   ]
  },
  {
   "cell_type": "code",
   "execution_count": 118,
   "metadata": {},
   "outputs": [],
   "source": [
    "# Roofline Conversion\n",
    "ERT_BYTE_per_CYC_L1 = ERT_BYTE_per_SEC_L1 / CYC_per_SEC\n",
    "ERT_CACHELINE_per_CYC_L1 = ERT_BYTE_per_CYC_L1 / BYTE_per_CACHELINE"
   ]
  },
  {
   "cell_type": "code",
   "execution_count": 119,
   "metadata": {},
   "outputs": [
    {
     "name": "stdout",
     "output_type": "stream",
     "text": [
      "101.08% of Max L1 Bandwidth Used\n"
     ]
    }
   ],
   "source": [
    "# Result\n",
    "L1_Mem_Bandwidth_Used_Perc = (L1_HITS_per_CYC / ERT_CACHELINE_per_CYC_L1) * 100  # Hit = 1 Cache Line?\n",
    "print(\"{:.2f}% of Max L1 Bandwidth Used\".format(L1_Mem_Bandwidth_Used_Perc))"
   ]
  },
  {
   "cell_type": "markdown",
   "metadata": {},
   "source": [
    "\n",
    "### Latency // Check This is wrong (assuming no latency hidding)?"
   ]
  },
  {
   "cell_type": "code",
   "execution_count": 120,
   "metadata": {
    "collapsed": true
   },
   "outputs": [],
   "source": [
    "# Event Conversion\n",
    "L1_CYCLES_from_LATENCY = (L1_Hits / 2) * L1_LATENCY"
   ]
  },
  {
   "cell_type": "code",
   "execution_count": 115,
   "metadata": {},
   "outputs": [
    {
     "name": "stdout",
     "output_type": "stream",
     "text": [
      "0.29274727860146793\n"
     ]
    }
   ],
   "source": [
    "# Result\n",
    "print(TOT_CYC /L1_CYCLES_from_LATENCY)\n",
    "\n",
    "\n",
    "#NUM_CACHE_LINES_L1 = ERT_CACHELINE_per_CYC_L1 * TOT_CYC\n",
    "    \n",
    "#LATENCY_PRESSURE_L1 = (L1_CYCLES_from_LATENCY / NUM_CACHE_LINES_L1) * 100\n",
    "#print(\"{:.2f}% L1 Latency Pressure\".format(LATENCY_PRESSURE_L1))"
   ]
  },
  {
   "cell_type": "code",
   "execution_count": null,
   "metadata": {},
   "outputs": [],
   "source": []
  },
  {
   "cell_type": "code",
   "execution_count": null,
   "metadata": {},
   "outputs": [],
   "source": []
  },
  {
   "cell_type": "code",
   "execution_count": null,
   "metadata": {},
   "outputs": [],
   "source": []
  },
  {
   "cell_type": "code",
   "execution_count": null,
   "metadata": {
    "collapsed": true
   },
   "outputs": [],
   "source": []
  },
  {
   "cell_type": "code",
   "execution_count": null,
   "metadata": {
    "collapsed": true
   },
   "outputs": [],
   "source": []
  }
 ],
 "metadata": {
  "kernelspec": {
   "display_name": "Python 3",
   "language": "python",
   "name": "python3"
  },
  "language_info": {
   "codemirror_mode": {
    "name": "ipython",
    "version": 3
   },
   "file_extension": ".py",
   "mimetype": "text/x-python",
   "name": "python",
   "nbconvert_exporter": "python",
   "pygments_lexer": "ipython3",
   "version": "3.6.2"
  }
 },
 "nbformat": 4,
 "nbformat_minor": 2
}
