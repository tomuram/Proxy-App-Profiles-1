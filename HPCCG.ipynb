{
 "cells": [
  {
   "cell_type": "markdown",
   "metadata": {},
   "source": [
    "## HPCCG"
   ]
  },
  {
   "cell_type": "markdown",
   "metadata": {},
   "source": [
    "clang++-5.0.1 -g -O3 -funroll-loops -march=native   \n",
    "Haswell(thing03)  \n",
    "./test_HPCCG 100 100 100\n",
    "\n",
    "#### Serial Run"
   ]
  },
  {
   "cell_type": "markdown",
   "metadata": {},
   "source": [
    "```c\n",
    "int HPC_sparsemv( HPC_Sparse_Matrix *A,                  // 80.6% CPUTIME(E)\n",
    "\t\t const double * const x, double * const y)\n",
    "{\n",
    "\n",
    "  const int nrow = (const int) A->local_nrow;\n",
    "\n",
    "#ifdef USING_OMP\n",
    "#pragma omp parallel for\n",
    "#endif\n",
    "  for (int i=0; i< nrow; i++)\n",
    "    {\n",
    "      double sum = 0.0;\n",
    "      const double * const cur_vals = \n",
    "     (const double * const) A->ptr_to_vals_in_row[i];\n",
    "\n",
    "      const int    * const cur_inds = \n",
    "     (const int    * const) A->ptr_to_inds_in_row[i];\n",
    "\n",
    "      const int cur_nnz = (const int) A->nnz_in_row[i];\n",
    "\n",
    "|86|  for (int j=0; j< cur_nnz; j++)                     //  9.9% CPUTIME(E)\n",
    "|87|      sum += cur_vals[j]*x[cur_inds[j]];             // 58.3% CPUTIME(E)\n",
    "      y[i] = sum;\n",
    "    }\n",
    "  return(0);\n",
    "}\n",
    "```"
   ]
  },
  {
   "cell_type": "markdown",
   "metadata": {},
   "source": [
    "#### CPI  \n",
    ".96 Cycles per Instruction in `HPC_sparsemv`.  \n",
    ".91 Cycles per Instruction on line 87. \n",
    "#### Issue Cycles\n",
    "`HPC_sparsemv`:  \n",
    "-- 3.63e+09 Full Issue | 30.3% Cycles Issuing Max Instructions  \n",
    "-- 1.80e+07 No Issue   |  0.2% Cycles Issuing No Instructions  \n",
    "-- 1.20e+10 Total Cycles   \n",
    "line `87`:  \n",
    "-- 1.97e+09 Full Issue | 22.5% Cycles Issuing Max Instructions  \n",
    "-- 1.00e+07 No Issue   |  0.1% Cycles Issuing No Instructions  \n",
    "-- 8.77e+09 Total Cycles   \n",
    "#### Retiring Cycles  \n",
    "`HPC_sparsemv`:   \n",
    "-- 5.77e+09 Full Retire | 48.1% Cycles Retiring Max Instructions  \n",
    "-- 2.83e+09 No Retire   | 23.6% Cycles Retiring No Instructions  \n",
    "-- 1.20e+10 Total Cycles  \n",
    "line `87`:  \n",
    "-- 4.46e+09 Full Retire | 50.9% Cycles Retiring Max Instructions  \n",
    "-- 1.99e+09 No Retire   | 22.7% Cycles Retiring No Instructions  \n",
    "-- 8.77e+09 Total Cycles   "
   ]
  },
  {
   "cell_type": "markdown",
   "metadata": {},
   "source": [
    "### Memory  \n",
    "#### Data Cache  \n",
    "`HPC_sparsemv`:  \n",
    "-- 9.50e+08 L1 Data Cache Misses | 7.5% L1 Cache Miss Rate   \n",
    "-- 3.75e+08 L2 Data Cache Misses | 60.5% L1 Misses Hit L2  \n",
    "-- 1.26e+10 Load/Store Instructions    \n",
    "line `87`:   \n",
    "-- 7.18e+08 L1 Data Cache Misses | 7.6% L1 Cache Miss Rate  \n",
    "-- 2.84e+08 L2 Data Cache Misses | 60.5% L1 Misses Hit L2  \n",
    "-- 9.41e+09 Load/Store Instructions"
   ]
  },
  {
   "cell_type": "code",
   "execution_count": 25,
   "metadata": {},
   "outputs": [
    {
     "data": {
      "text/plain": [
       "0.6044568245125348"
      ]
     },
     "execution_count": 25,
     "metadata": {},
     "output_type": "execute_result"
    }
   ],
   "source": [
    "1 - (.284 / .718)"
   ]
  },
  {
   "cell_type": "code",
   "execution_count": null,
   "metadata": {
    "collapsed": true
   },
   "outputs": [],
   "source": []
  }
 ],
 "metadata": {
  "kernelspec": {
   "display_name": "Python 3",
   "language": "python",
   "name": "python3"
  },
  "language_info": {
   "codemirror_mode": {
    "name": "ipython",
    "version": 3
   },
   "file_extension": ".py",
   "mimetype": "text/x-python",
   "name": "python",
   "nbconvert_exporter": "python",
   "pygments_lexer": "ipython3",
   "version": "3.6.2"
  }
 },
 "nbformat": 4,
 "nbformat_minor": 2
}
