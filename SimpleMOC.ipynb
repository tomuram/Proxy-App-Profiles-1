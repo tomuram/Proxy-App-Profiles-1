{
 "cells": [
  {
   "cell_type": "markdown",
   "metadata": {},
   "source": [
    "### SimpleMOC"
   ]
  },
  {
   "cell_type": "markdown",
   "metadata": {},
   "source": [
    "Compiler: clang  \n",
    "flags: `-g -pg -Ofast -ffast-math -ftree-vectorize`  \n",
    "libs: `-lm`  \n",
    "On Intel(R) Xeon(R) CPU E5-2699 v4 @ 2.20GHz (Broadwell)"
   ]
  },
  {
   "cell_type": "markdown",
   "metadata": {},
   "source": [
    "1.07e10 usec cputime"
   ]
  },
  {
   "cell_type": "markdown",
   "metadata": {},
   "source": [
    "Work done in `solver.c`, within function `attenuate_fluxes`:  \n",
    "Function Structure for Context:\n",
    "\n",
    "1. Declare/Initialize Variables. Including \n",
    "```c\n",
    "// compute fine axial region ID\n",
    "        int fine_id = (int) ( track->z_height / dz ) % I.fai;\n",
    "```\n",
    "2. if/ else if / else Control\n",
    "```c\n",
    "if( fine_id == 0 ) {adjustment and loop};\n",
    "else if ( fine_id == I.fai - 1 ) {adjustment and loop};\n",
    "else // loop at line 121 (first show below)\n",
    "```\n",
    "3. 11 small for loops with 1 variable declaration in the middle (Three of the busiest shown below)"
   ]
  },
  {
   "cell_type": "markdown",
   "metadata": {},
   "source": [
    "#### else Body"
   ]
  },
  {
   "cell_type": "markdown",
   "metadata": {},
   "source": [
    "loop at solver.c: line 121 : 9.3%\n",
    "```c\n",
    "\t\tfor( int g = 0; g < I.n_egroups; g++)\n",
    "\t\t{\n",
    "\t\t\t// load neighboring sources\n",
    "\t\t\tfloat y1 = QSR->fine_source[fine_id-1][g];\n",
    "\t\t\tfloat y2 = QSR->fine_source[fine_id][g];\n",
    "\t\t\tfloat y3 = QSR->fine_source[fine_id+1][g];\n",
    "\n",
    "\t\t\t// do quadratic \"fitting\"\n",
    "\t\t\tfloat c0 = y2;\n",
    "\t\t\tfloat c1 = (y1 - y3) / (2.f*dz);\n",
    "\t\t\tfloat c2 = (y1 - 2.f*y2 + y3) / (2.f*dz*dz);\n",
    "\n",
    "\t\t\t// calculate q0, q1, q2\n",
    "\t\t\tq0[g] = c0 + c1*zin + c2*zin*zin;\n",
    "\t\t\tq1[g] = c1 + 2.f*c2*zin;\n",
    "\t\t\tq2[g] = c2;\n",
    "\t\t}\n",
    "```"
   ]
  },
  {
   "cell_type": "markdown",
   "metadata": {},
   "source": [
    "#### Heavy Loops"
   ]
  },
  {
   "cell_type": "markdown",
   "metadata": {},
   "source": [
    "loop at solver.c : line 162 : 8.2%\n",
    "```c\n",
    "\tfor( int g = 0; g < I.n_egroups; g++)\n",
    "\t\texpVal[g] = interpolateTable( params.expTable, tau[g] );  \n",
    "```"
   ]
  },
  {
   "cell_type": "markdown",
   "metadata": {},
   "source": [
    "loop at solver.c : line 195 : 8.7%\n",
    "```c\n",
    "\tfor( int g = 0; g < I.n_egroups; g++)\n",
    "\t{\n",
    "\t\t// add contribution to new source flux\n",
    "\t\tflux_integral[g] = (q0[g] * tau[g] + (sigT[g] * psi[g] - q0[g])\n",
    "\t\t\t* expVal[g]) / sigT2[g] + q1[g] * mu * reuse[g] + q2[g] * mu2 \n",
    "\t\t\t* (tau[g] * (tau[g] * (tau[g] - 3.f) + 6.f) - 6.f * expVal[g]) \n",
    "\t\t\t/ (3.f * sigT2[g] * sigT2[g]);\n",
    "\t}\n",
    "```"
   ]
  },
  {
   "cell_type": "markdown",
   "metadata": {},
   "source": [
    "loop at solver.c : line 223 : 7.6%\n",
    "```c\n",
    "\tfor( int g = 0; g < I.n_egroups; g++)\n",
    "\t{\n",
    "\t\tFSR_flux[g] += tally[g];\n",
    "\t}\n",
    "```"
   ]
  },
  {
   "cell_type": "markdown",
   "metadata": {},
   "source": [
    "266 Total lines in function, lots of preproccessor options along with good amount of comments and whitespace.  Might be able to fit all the code."
   ]
  },
  {
   "cell_type": "markdown",
   "metadata": {
    "collapsed": true
   },
   "source": []
  }
 ],
 "metadata": {
  "kernelspec": {
   "display_name": "Python 3",
   "language": "python",
   "name": "python3"
  },
  "language_info": {
   "codemirror_mode": {
    "name": "ipython",
    "version": 3
   },
   "file_extension": ".py",
   "mimetype": "text/x-python",
   "name": "python",
   "nbconvert_exporter": "python",
   "pygments_lexer": "ipython3",
   "version": "3.6.2"
  }
 },
 "nbformat": 4,
 "nbformat_minor": 2
}
